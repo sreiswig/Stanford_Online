{
 "cells": [
  {
   "cell_type": "markdown",
   "metadata": {
    "id": "XuXWJLEm2UWS"
   },
   "source": [
    "# **CS224W - Colab 3**\n",
    "\n",
    "[![Open In Colab](https://colab.research.google.com/assets/colab-badge.svg)](https://colab.research.google.com/github/scpd-proed/XCS224W-Colab3/blob/main/Notebook/XCS224W_Colab3.ipynb)\n",
    "\n",
    "Before opening the colab with the badge, you would need to allow Google Colab to access the GitHub private repositories. Please check therefore [this tutorial](https://colab.research.google.com/github/googlecolab/colabtools/blob/master/notebooks/colab-github-demo.ipynb#:~:text=Navigate%20to%20http%3A%2F%2Fcolab,to%20read%20the%20private%20files.).\n",
    "\n",
    "If colab is opened with this badge, make sure please **save copy to drive** in 'File' menu before running the notebook."
   ]
  },
  {
   "cell_type": "markdown",
   "metadata": {
    "id": "8gzsP50bF6Gb"
   },
   "source": [
    "In Colab 2 you constructed GNN models by using PyTorch Geometric's built in GCN layer, `GCNConv`. In this Colab you will go a step deeper and implement your GNN layers directly: **GraphSAGE** ([Hamilton et al. (2017)](https://arxiv.org/abs/1706.02216)) and **GAT** ([Veličković et al. (2018)](https://arxiv.org/abs/1710.10903)). Using these GNN layers you will run and test your models on the CORA dataset, a standard citation network benchmark dataset.\n",
    "\n",
    "Next, you will learn how to use [DeepSNAP](https://snap.stanford.edu/deepsnap/), a Python library enabling efficient deep learning on graphs. With DeepSNAP you will learn how to easily split graphs in different ways and apply graph dataset transformations.\n",
    "\n",
    "Lastly, using DeepSNAP's transductive link prediction dataset spliting functionality, you will construct a simple GNN model for the task of edge property prediction (link prediction).\n",
    "\n",
    "**Note**: Make sure to **sequentially run all the cells in each section** so that the intermediate variables / packages will carry over to the next cell\n",
    "\n",
    "Have fun and good luck on Colab 3 :)"
   ]
  },
  {
   "cell_type": "markdown",
   "metadata": {
    "id": "OcqscyiXMuRX"
   },
   "source": [
    "## Building + Debugging Notes\n",
    "While working through this Colab and future Colabs, we strongly encourage you to follow a couple of building / debugging strategies:\n",
    "- During debugging make sure to run your notebook using the CPU runtime. You can change the notebook runtime by selecting `Runtime` and then `Change runtime type`. From the dropdown, select `None` as the `hardware accelerator`.\n",
    "- When working with PyTorch and Neural Network models, understanding the shapes of different tensors, especially the input and output tensors is incredibly helpful.\n",
    "- When training models, it is helpful to start by only running 1 epoch or even just a couple of batch iterations. This way you can check that all your tensor shapes and logic match up, while also tracking expected behavior, such as a decreasing training loss. Remember to comment out / save the default number of epochs that we provide you.\n"
   ]
  },
  {
   "cell_type": "markdown",
   "metadata": {
    "id": "MSaetj53YnT6"
   },
   "source": [
    "# Device\n",
    "We recommend using a GPU for this Colab.\n",
    "\n",
    "Please click `Runtime` and then `Change runtime type`. Then set the `hardware accelerator` to **GPU**."
   ]
  },
  {
   "cell_type": "markdown",
   "metadata": {
    "id": "67gOQITlCNQi"
   },
   "source": [
    "## Setup\n",
    "First let us check which version of PyTorch you are running"
   ]
  },
  {
   "cell_type": "code",
   "execution_count": 198,
   "metadata": {
    "colab": {
     "base_uri": "https://localhost:8080/"
    },
    "id": "2vkP8pA1qBE5",
    "outputId": "25fb8a3b-90ac-465b-c6b9-f152d1f4e9d6"
   },
   "outputs": [
    {
     "name": "stdout",
     "output_type": "stream",
     "text": [
      "PyTorch has version 2.1.0+cu118\n"
     ]
    }
   ],
   "source": [
    "import torch\n",
    "import os\n",
    "print(\"PyTorch has version {}\".format(torch.__version__))"
   ]
  },
  {
   "cell_type": "markdown",
   "metadata": {
    "id": "4TIkPY1Abwq-"
   },
   "source": [
    "Download the necessary packages for PyG. Make sure that your version of torch matches the output from the cell above. In case of any issues, more information can be found on the [PyG's installation page](https://pytorch-geometric.readthedocs.io/en/latest/notes/installation.html)."
   ]
  },
  {
   "cell_type": "code",
   "execution_count": 199,
   "metadata": {
    "colab": {
     "base_uri": "https://localhost:8080/",
     "height": 1000
    },
    "id": "J_m9l6OYCQZP",
    "outputId": "da0f1408-4423-4005-9e3b-c39841a4816d"
   },
   "outputs": [
    {
     "name": "stderr",
     "output_type": "stream",
     "text": [
      "460299.12s - pydevd: Sending message related to process being replaced timed-out after 5 seconds\n"
     ]
    },
    {
     "name": "stdout",
     "output_type": "stream",
     "text": [
      "Looking in links: https://pytorch-geometric.com/whl/torch-2.1.0+cu118.html\n",
      "Requirement already satisfied: torch-scatter in /home/sam/Documents/Class/Stanford_Cert/.venv/lib/python3.10/site-packages (2.1.2+pt21cu118)\n"
     ]
    },
    {
     "name": "stderr",
     "output_type": "stream",
     "text": [
      "460304.96s - pydevd: Sending message related to process being replaced timed-out after 5 seconds\n"
     ]
    },
    {
     "name": "stdout",
     "output_type": "stream",
     "text": [
      "Looking in links: https://pytorch-geometric.com/whl/torch-2.1.0+cu118.html\n",
      "Requirement already satisfied: torch-sparse in /home/sam/Documents/Class/Stanford_Cert/.venv/lib/python3.10/site-packages (0.6.18+pt21cu118)\n",
      "Requirement already satisfied: scipy in /home/sam/Documents/Class/Stanford_Cert/.venv/lib/python3.10/site-packages (from torch-sparse) (1.11.3)\n",
      "Requirement already satisfied: numpy<1.28.0,>=1.21.6 in /home/sam/Documents/Class/Stanford_Cert/.venv/lib/python3.10/site-packages (from scipy->torch-sparse) (1.26.1)\n"
     ]
    },
    {
     "name": "stderr",
     "output_type": "stream",
     "text": [
      "460310.81s - pydevd: Sending message related to process being replaced timed-out after 5 seconds\n"
     ]
    },
    {
     "name": "stdout",
     "output_type": "stream",
     "text": [
      "Requirement already satisfied: torch-geometric in /home/sam/Documents/Class/Stanford_Cert/.venv/lib/python3.10/site-packages (2.4.0)\n",
      "Requirement already satisfied: pyparsing in /home/sam/Documents/Class/Stanford_Cert/.venv/lib/python3.10/site-packages (from torch-geometric) (3.1.1)\n",
      "Requirement already satisfied: tqdm in /home/sam/Documents/Class/Stanford_Cert/.venv/lib/python3.10/site-packages (from torch-geometric) (4.66.1)\n",
      "Requirement already satisfied: requests in /home/sam/Documents/Class/Stanford_Cert/.venv/lib/python3.10/site-packages (from torch-geometric) (2.31.0)\n",
      "Requirement already satisfied: scipy in /home/sam/Documents/Class/Stanford_Cert/.venv/lib/python3.10/site-packages (from torch-geometric) (1.11.3)\n",
      "Requirement already satisfied: numpy in /home/sam/Documents/Class/Stanford_Cert/.venv/lib/python3.10/site-packages (from torch-geometric) (1.26.1)\n",
      "Requirement already satisfied: jinja2 in /home/sam/Documents/Class/Stanford_Cert/.venv/lib/python3.10/site-packages (from torch-geometric) (3.1.2)\n",
      "Requirement already satisfied: scikit-learn in /home/sam/Documents/Class/Stanford_Cert/.venv/lib/python3.10/site-packages (from torch-geometric) (1.3.2)\n",
      "Requirement already satisfied: psutil>=5.8.0 in /home/sam/Documents/Class/Stanford_Cert/.venv/lib/python3.10/site-packages (from torch-geometric) (5.9.6)\n",
      "Requirement already satisfied: MarkupSafe>=2.0 in /home/sam/Documents/Class/Stanford_Cert/.venv/lib/python3.10/site-packages (from jinja2->torch-geometric) (2.1.3)\n",
      "Requirement already satisfied: idna<4,>=2.5 in /home/sam/Documents/Class/Stanford_Cert/.venv/lib/python3.10/site-packages (from requests->torch-geometric) (3.4)\n",
      "Requirement already satisfied: charset-normalizer<4,>=2 in /home/sam/Documents/Class/Stanford_Cert/.venv/lib/python3.10/site-packages (from requests->torch-geometric) (3.3.2)\n",
      "Requirement already satisfied: urllib3<3,>=1.21.1 in /home/sam/Documents/Class/Stanford_Cert/.venv/lib/python3.10/site-packages (from requests->torch-geometric) (2.1.0)\n",
      "Requirement already satisfied: certifi>=2017.4.17 in /home/sam/Documents/Class/Stanford_Cert/.venv/lib/python3.10/site-packages (from requests->torch-geometric) (2023.7.22)\n",
      "Requirement already satisfied: threadpoolctl>=2.0.0 in /home/sam/Documents/Class/Stanford_Cert/.venv/lib/python3.10/site-packages (from scikit-learn->torch-geometric) (3.2.0)\n",
      "Requirement already satisfied: joblib>=1.1.1 in /home/sam/Documents/Class/Stanford_Cert/.venv/lib/python3.10/site-packages (from scikit-learn->torch-geometric) (1.3.2)\n"
     ]
    },
    {
     "name": "stderr",
     "output_type": "stream",
     "text": [
      "460316.66s - pydevd: Sending message related to process being replaced timed-out after 5 seconds\n"
     ]
    }
   ],
   "source": [
    "# Install torch geometric\n",
    "import os\n",
    "if 'IS_GRADESCOPE_ENV' not in os.environ:\n",
    "  !pip install torch-scatter -f https://pytorch-geometric.com/whl/torch-2.1.0+cu118.html\n",
    "  !pip install torch-sparse -f https://pytorch-geometric.com/whl/torch-2.1.0+cu118.html\n",
    "  !pip install torch-geometric\n",
    "  # Fix for Deepsnap PyG 2.4.x compatibility issue (https://github.com/snap-stanford/deepsnap/issues/53)\n",
    "  !pip install -q git+https://github.com/SebastianHurubaru/deepsnap.git"
   ]
  },
  {
   "cell_type": "code",
   "execution_count": 200,
   "metadata": {
    "colab": {
     "base_uri": "https://localhost:8080/",
     "height": 35
    },
    "id": "PRfgbfTjCRD_",
    "outputId": "0077f435-1e92-4afa-8732-fabd199c222a"
   },
   "outputs": [
    {
     "data": {
      "text/plain": [
       "'2.4.0'"
      ]
     },
     "execution_count": 200,
     "metadata": {},
     "output_type": "execute_result"
    }
   ],
   "source": [
    "import torch_geometric\n",
    "torch_geometric.__version__"
   ]
  },
  {
   "cell_type": "markdown",
   "metadata": {
    "id": "ZoXlf4MtYrbz"
   },
   "source": [
    "# 1) GNN Layers"
   ]
  },
  {
   "cell_type": "markdown",
   "metadata": {
    "id": "TQy2RBfgYut4"
   },
   "source": [
    "## Implementing Layer Modules\n",
    "\n",
    "In Colab 2, you implemented a GCN model for node and graph classification tasks. However, for that notebook you took advantage of PyG's built in GCN module, similar to the way you might use PyTorch's built in CNN layer. For Colab 3, we provide a general Graph Neural Network Stack (i.e. the logic for applying multiple GNN layers with a post-message passing classification head). Using this flexible class definition, you will plugin and compare the performance of your own message passing layer implementations: GraphSAGE and GAT.\n",
    "\n",
    "You will use your layer implemenations for node classification on the CORA dataset, a standard citation network benchmark. In this dataset, nodes correspond to documents and edges correspond to undirected citations. Each node or document in the graph is assigned a class label and features based on the documents binarized bag-of-words representation. Specifically, the Cora graph has 2708 nodes, 5429 edges, 7 prediction classes, and 1433 features per node. "
   ]
  },
  {
   "cell_type": "markdown",
   "metadata": {
    "id": "H4ne6Gw-CT5G"
   },
   "source": [
    "## GNN Stack Module\n",
    "\n",
    "Below is our provided implementation of a general GNN stack, where you can plugin any GNN layer, such as **GraphSage**, **GAT**, etc. This module is provided for you. Your implementations of the **GraphSage** and **GAT** layers will function as components in the GNNStack Module."
   ]
  },
  {
   "cell_type": "code",
   "execution_count": 201,
   "metadata": {
    "id": "Ys8vZAFPCWWe"
   },
   "outputs": [],
   "source": [
    "import torch\n",
    "import torch_scatter\n",
    "import torch.nn as nn\n",
    "import torch.nn.functional as F\n",
    "\n",
    "import torch_geometric.nn as pyg_nn\n",
    "import torch_geometric.utils as pyg_utils\n",
    "\n",
    "from torch import Tensor\n",
    "from typing import Union, Tuple, Optional\n",
    "from torch_geometric.typing import (OptPairTensor, Adj, Size, NoneType,\n",
    "                                    OptTensor)\n",
    "\n",
    "from torch.nn import Parameter, Linear\n",
    "from torch_sparse import SparseTensor, set_diag\n",
    "from torch_geometric.nn.conv import MessagePassing\n",
    "from torch_geometric.utils import remove_self_loops, add_self_loops, softmax\n",
    "\n",
    "class GNNStack(torch.nn.Module):\n",
    "    def __init__(self, input_dim, hidden_dim, output_dim, args, emb=False):\n",
    "        super(GNNStack, self).__init__()\n",
    "        conv_model = self.build_conv_model(args.model_type)\n",
    "        self.convs = nn.ModuleList()\n",
    "        self.convs.append(conv_model(input_dim, hidden_dim, args))\n",
    "        assert (args.num_layers >= 1), 'Number of layers is not >=1'\n",
    "        for l in range(args.num_layers-1):\n",
    "            self.convs.append(conv_model(args.heads * hidden_dim, hidden_dim, args))\n",
    "\n",
    "        # post-message-passing\n",
    "        self.post_mp = nn.Sequential(\n",
    "            nn.Linear(args.heads * hidden_dim, hidden_dim), nn.ReLU(), nn.Dropout(args.dropout), \n",
    "            nn.Linear(hidden_dim, output_dim))\n",
    "\n",
    "        self.dropout = args.dropout\n",
    "        self.num_layers = args.num_layers\n",
    "\n",
    "        self.emb = emb\n",
    "\n",
    "    def build_conv_model(self, model_type):\n",
    "        if model_type == 'GraphSage':\n",
    "            return GraphSage\n",
    "        elif model_type == 'GAT':\n",
    "            # When applying GAT with num heads > 1, you need to modify the \n",
    "            # input and output dimension of the conv layers (self.convs),\n",
    "            # to ensure that the input dim of the next layer is num heads\n",
    "            # multiplied by the output dim of the previous layer.\n",
    "            # HINT: In case you want to play with multiheads, you need to change the for-loop that builds up self.convs to be\n",
    "            # self.convs.append(conv_model(hidden_dim * num_heads, hidden_dim)), \n",
    "            # and also the first nn.Linear(hidden_dim * num_heads, hidden_dim) in post-message-passing.\n",
    "            return GAT\n",
    "\n",
    "    def forward(self, data):\n",
    "        x, edge_index, batch = data.x, data.edge_index, data.batch\n",
    "          \n",
    "        for i in range(self.num_layers):\n",
    "            x = self.convs[i](x, edge_index)\n",
    "            x = F.relu(x)\n",
    "            x = F.dropout(x, p=self.dropout,training=self.training)\n",
    "\n",
    "        x = self.post_mp(x)\n",
    "\n",
    "        if self.emb == True:\n",
    "            return x\n",
    "\n",
    "        return F.log_softmax(x, dim=1)\n",
    "\n",
    "    def loss(self, pred, label):\n",
    "        return F.nll_loss(pred, label)"
   ]
  },
  {
   "cell_type": "markdown",
   "metadata": {
    "id": "5nW_XpEwASNZ"
   },
   "source": [
    "## Creating Your Own Message Passing Layer\n",
    "\n",
    "Now it is time to implement your own message passing layers! Working through this part will help you become acutely familiar with the behind the scenes work of implementing Pytorch Message Passing Layers, allowing you to build you own custom GNN models. In doing so, you will work with and implement 3 critcal functions needed to define a PyG Message Passing Layer: `forward`, `message`, and `aggregate`.\n",
    "\n",
    "Before diving head first into the coding details, let us quickly review the key components of the message passing process. First, we focus on a single round of messsage passing with respect to a single node $x$, which we refer to as the central node. The goal of the $lth$ layer of message passing is to update $x$'s feature vector from $x^{l-1}$ to $x^l$. To do so, we implement the following steps: 1) each neighboring node $v$ passes its current message $v^{l-1}$ across the edge $(v, x)$ - 2) for the node $x$, we aggregate all the messages of neighboring nodes (for example through a sum or mean) - and 3) we transform the aggregated information by e.g. applying linear and non-linear transformations. Altogether, the message passing process is applied such that every node $u$ in our graph updates its embedding through acting as the central node $x$ in step 1-3 described above. \n",
    "\n",
    "Now, let's apply this process of propagating and transforming information within the graph to that of coding a single message passing layer. Overall, the general paradigm of message passing layers is: 1) pre-processing -> 2) **message passing** / propagation -> 3) post-processing. The `forward` function that you will implement captures this execution logic. Namely, the `forward` function handles the pre and post-processing of node features / embeddings, as well as initiates message passing by calling the `propagate` function. \n",
    "\n",
    "\n",
    "The `propagate` function encapsulates the actual message passing process within the graph! It does so by calling three important functions: 1) `message`, 2) `aggregate`, and 3) `update`. Your implementation will vary slightly from this, as you will not explicitly implement `update`, but instead place the logic for updating node embeddings after message passing and within the `forward` function. To be more specific, after information is propagated (message passing + aggregation), we can further transform the node embeddings outputed by `propagate`. Overall, the output of `forward` is exactly the node embeddings after one GNN layer.\n",
    "\n",
    "Lastly, before starting to implement our own layer, let us dig a bit deeper into each of the functions described above:\n",
    "\n",
    "1. \n",
    "\n",
    "```\n",
    "def propagate(edge_index, x=(x_src, x_dst), extra=(extra_src, extra_dst), size=size):\n",
    "```\n",
    "Calling `propagate` initiates the message passing process. Looking at the function parameters, we highlight a couple of key parameters. \n",
    "\n",
    "  - `edge_index` is passed to the forward function and captures the edge structure of the graph. `edge_index` is of shape - `[2, E]`, where `edge_index[:, e]` represents a single edge $e$ in the graph.\n",
    "  - `x=(x_src, x_dst)` represents the node features that will be used in message passing, where we have the flexibility to distinguish the features of source (src) vs. destination (dst) nodes (e.g. with different transformations). Common notation is to think of the src node features as the node features used for sending messages and dst node features as the central node features that will be receiving these messages. Note, while in this notebook the src and dst matrices will be the same shape - $[N, d]$ (i.e. coming from the same set of nodes), we will see later in the course cases where these nodes can differ.\n",
    "\n",
    "  - `extra=(extra_src, extra_dst)` represents additional information that we can associate with each node beyond its current feature embedding. In fact, we can include as many additional parameters of the form `param=(param_src, param_dst)` as we would like. We highlight that differentiating betwee `_src` and `_dst` allows us to differentiate the features used for central and neighboring node features later in the message passing process. \n",
    "\n",
    "  The output of the `propagate` function is a matrix of node embeddings after the message passing process and has shape $[N, d]$.\n",
    "\n",
    "2. \n",
    "```\n",
    "def message(x_j, ...):\n",
    "```\n",
    "The `message` function is called by `propagate` and constructs the messages from neighboring nodes (src nodes) to central nodes (dst nodes). Following PyG convention, we subscript variables dealing with src nodes with `_j` and dst nodes  with `_i`. \n",
    "\n",
    "  - `x_j` represents the matrix of node features for *each src node of each edge* in the graph. Specifically, messages are constructed along each edge $(j, i) \\in E$, where edge_index is used extract node feature information to construct `x_j` as `x_j = x_src[edge_index[0, :], :]`. Thus, `x_j` has shape $[|E|, d]$!\n",
    "\n",
    "  - `...` represent any additional arguments passed to `propagate`, from which we can differentiate between src and dst node types by appending `_i` or `_j` to the variable name. In implementing GAT you will see how you can leverage accessing additional variables passed to propagate.\n",
    "\n",
    "  Critically, we emphasize that the output of the `message` function is a matrix of messages ready to be aggregated, having shape $[|E|, d]$, where these messages are constructed by applying different potential transformations to the initial src node embedding messages.\n",
    "\n",
    "  **Note** Understanding the message passing process is definitely a confusing concept; however, it is very helpful to think of the `message` function acting on each individual edges in the graph (i.e. producing a message for each directed edge $(j, i)$). Moreover, for undirected graphs since we store both directions of each edge, each node $u$ acts both as a src and dst node, sending messages to its neighbors and then also aggregating messages from its same set of neighbors.\n",
    "\n",
    "\n",
    "3. \n",
    "```\n",
    "def aggregate(self, inputs, index, dim_size = None):\n",
    "```\n",
    "Lastly, the `aggregate` function is used to aggregate the messages from neighboring nodes. Looking at the parameters, we highlight:\n",
    "\n",
    "  - `inputs` represents a matrix of the messages passed from neighboring nodes (i.e. the output of the `message` function).\n",
    "  - `index` is an array with length equal to the number of rows of `inputs` and tells us the central node $i$ associated with each message (row) in the `inputs` matrix. Thus, `index` tells us which rows / messages to aggregate for each central node $i$ - i.e. all messages with associated edges $(*, i) \\in E$.\n",
    "\n",
    "  The output of `aggregate` is of shape $[N, d]$.\n",
    "\n",
    "\n",
    "For additional resources refer to the PyG documentation for implementing custom message passing layers: https://pytorch-geometric.readthedocs.io/en/latest/notes/create_gnn.html"
   ]
  },
  {
   "attachments": {},
   "cell_type": "markdown",
   "metadata": {
    "id": "syDtxjxoCZgq"
   },
   "source": [
    "## GraphSage Implementation\n",
    "\n",
    "For our first GNN layer, you will implement the well known GraphSage ([Hamilton et al. (2017)](https://arxiv.org/abs/1706.02216)) layer! \n",
    "\n",
    "For a given *central* node $v$ with current embedding $h_v^{l-1}$, the message passing update rule to tranform $h_v^{l-1} \\rightarrow h_v^l$ is as follows: \n",
    "\n",
    "\\begin{equation}\n",
    "h_v^{(l)} = W_{dst}\\cdot h_v^{(l-1)} + W_{src} \\cdot AGG(\\{h_u^{(l-1)}, \\forall u \\in N(v) \\})\n",
    "\\end{equation}\n",
    "\n",
    "where $W_{src}$ and $W_{dst}$ are learnable weight matrices and the nodes $u$ are *neighboring* nodes. Additionally, you will use mean aggregation:\n",
    "\n",
    "\\begin{equation}\n",
    "AGG(\\{h_u^{(l-1)}, \\forall u \\in N(v) \\}) = \\frac{1}{|N(v)|} \\sum_{u\\in N(v)} h_u^{(l-1)}\n",
    "\\end{equation}\n",
    "\n",
    "One thing to note is that we have added a **skip connection** to your GraphSage implementation through the term $W_{dst}\\cdot h_v^{(l-1)}$. \n",
    "\n",
    "Before implementing this update rule, we encourage you to think about how different parts of the GraphSage formulas correspond with the functions outlined earlier: 1) `forward`, 2) `message`, and 3) `aggregate`. As a hint, you are given what the aggregation function is (i.e. mean aggregation)! Now the question remains, what are the messages passed by each neighbor nodes and when do we call the `propagate` function? \n",
    "\n",
    "Note: in this case the message function or messages are actually quite simple. Additionally, remember that the `propagate` function encapsulates the operations of / the outputs of the combined `message` and `aggregate` functions.\n",
    "\n",
    "\n",
    "Lastly, $\\ell$-2 normalization of the node embeddings is applied after each iteration.\n",
    "\n",
    "\n",
    "<font color='red'>For the following questions, DON'T refer to any existing implementations online.</font>"
   ]
  },
  {
   "cell_type": "code",
   "execution_count": 202,
   "metadata": {
    "id": "RwG4HqCFCaOD"
   },
   "outputs": [],
   "source": [
    "class GraphSage(MessagePassing):\n",
    "    \n",
    "    def __init__(self, in_channels, out_channels, args, **kwargs):  \n",
    "        super(GraphSage, self).__init__(**kwargs)\n",
    "\n",
    "        self.in_channels = in_channels\n",
    "        self.out_channels = out_channels\n",
    "        self.normalize = args.normalize\n",
    "        bias = args.bias\n",
    "        self.lin_src = None\n",
    "        self.lin_dst = None\n",
    "\n",
    "        ############# Your code here #############\n",
    "        # Define the layers needed for the message and update functions below.\n",
    "        # self.lin_src is the linear transformation that you apply to aggregated \n",
    "        #            message from neighbors.\n",
    "        # self.lin_dst is the linear transformation that you apply to embedding \n",
    "        #            for central node.\n",
    "        # Our implementation is ~2 lines, but don't worry if you deviate from this.\n",
    "        self.lin_src = nn.Linear(in_channels, out_channels)\n",
    "        self.lin_dst = nn.Linear(in_channels, out_channels)\n",
    "        ############################################################################\n",
    "\n",
    "        self.reset_parameters()\n",
    "\n",
    "    def reset_parameters(self):\n",
    "        self.lin_src.reset_parameters()\n",
    "        self.lin_dst.reset_parameters()\n",
    "\n",
    "    def forward(self, x, edge_index, size = None):\n",
    "        \"\"\"\"\"\"\n",
    "\n",
    "        out = None\n",
    "\n",
    "        ############# Your code here #############\n",
    "        # Implement message passing, as well as any post-processing (our update rule).\n",
    "        # 1. Call the propagate function to conduct message passing.\n",
    "        #    1.1 See the description of propagate above or the following link for more information: \n",
    "        #        https://pytorch-geometric.readthedocs.io/en/latest/notes/create_gnn.html\n",
    "        #    1.2 You will only use the representation for neighbor nodes (x_j) in message passing. \n",
    "        #        Thus, you can simply pass the same representation for src / dst as x=(x, x). \n",
    "        #        Although we give this to you, try thinking through what this means following\n",
    "        #        the descriptions above.\n",
    "        # 2. Update your node embeddings with a skip connection.\n",
    "        # 3. If normalize is set, do L-2 normalization (defined in \n",
    "        #    torch.nn.functional)\n",
    "        #\n",
    "        # Our implementation is ~5 lines, but don't worry if you deviate from this.\n",
    "        node_embeddings = self.propagate(edge_index, x=(x, x))\n",
    "        W_src = self.lin_src(node_embeddings)\n",
    "        W_dst = self.lin_dst(x)\n",
    "        out = W_dst + W_src\n",
    "        if self.normalize:\n",
    "            out = F.normalize(out, p=2)\n",
    "        ############################################################################\n",
    "\n",
    "        return out\n",
    "\n",
    "    def message(self, x_j):\n",
    "\n",
    "        out = None\n",
    "\n",
    "        ############# Your code here #############\n",
    "        # Implement your message function here.\n",
    "        # Hint: Look at the formulation of the mean aggregation function, focusing on \n",
    "        # what message each individual neighboring node passes during aggregation.\n",
    "        #\n",
    "        # Our implementation is ~1 lines, but don't worry if you deviate from this.\n",
    "        out = x_j\n",
    "        ############################################################################\n",
    "\n",
    "        return out\n",
    "\n",
    "    def aggregate(self, inputs, index, dim_size = None):\n",
    "\n",
    "        out = None\n",
    "\n",
    "        # The axis along which to index number of nodes.\n",
    "        node_dim = self.node_dim\n",
    "\n",
    "        ############# Your code here #############\n",
    "        # Implement your aggregate function here.\n",
    "        # See here as how to use torch_scatter.scatter: \n",
    "        # https://pytorch-scatter.readthedocs.io/en/latest/functions/scatter.html#torch_scatter.scatter\n",
    "        #\n",
    "        # Our implementation is ~1 lines, but don't worry if you deviate from this.\n",
    "        out = torch_scatter.scatter( src=inputs, index=index, dim=node_dim, reduce=\"mean\" )\n",
    "        ############################################################################\n",
    "\n",
    "        return out\n"
   ]
  },
  {
   "cell_type": "markdown",
   "metadata": {
    "id": "qjcfF3RACdLD"
   },
   "source": [
    "## GAT Implementation\n",
    "\n",
    "Attention mechanisms have become the state-of-the-art in many sequence-based tasks such as machine translation and learning sentence representations. One of the major benefits of attention-based mechanisms is their ability to focus on the most relevant parts of the input to make decisions. In this problem, you will learn how attention mechanisms can be used to perform node classification over graph-structured data through the usage of Graph Attention Networks (GATs) ([Veličković et al. (2018)](https://arxiv.org/abs/1710.10903)).\n",
    "\n",
    "The building block of the Graph Attention Network is the graph attention layer, which is a variant of the aggregation function. Like before, a graph attention layer $l$ transforms the set of node features $\\mathbf{h^{l-1}} = \\{h_1^{l-1}, h_2^{l-1}, \\dots, h_N^{l-1}$\\}, $h_i^{l-1} \\in R^F$ $\\rightarrow$ $\\mathbf{h^{l}} = \\{h_1^{l}, h_2^{l}, \\dots, h_N^{l}$\\}, $h_i^{l} \\in R^{F'}$.\n",
    "\n",
    "Now let's see how this transformation is performed for each graph attention layer. First, a shared linear transformation parameterized by the weight matrix $\\mathbf{W} \\in \\mathbb{R}^{F' \\times F}$ is applied to every node. \n",
    "\n",
    "Next, we perform self-attention on the nodes using a shared attention function $a$:\n",
    "\\begin{equation} \n",
    "a : \\mathbb{R}^{F'} \\times \\mathbb{R}^{F'} \\rightarrow \\mathbb{R}\n",
    "\\end{equation}\n",
    "\n",
    "that computes the attention coefficients, capturing the importance of node $j$'s features to node $i$:\n",
    "\\begin{equation}\n",
    "e_{ij} = a(\\mathbf{W_{dst}}\\overrightarrow{h_i}, \\mathbf{W_{src}} \\overrightarrow{h_j})\n",
    "\\end{equation}\n",
    "\n",
    "The most general formulation of self-attention allows every node to attend to all other nodes, which drops all structural information. However, to utilize the graph structure in the attention mechanisms, we use **masked attention**. In masked attention, we only compute attention coefficients $e_{ij}$ for nodes $j \\in \\mathcal{N}_i$ where $\\mathcal{N}_i$ is the set of neighbors for node $i$ in the graph. Namely, we only compute attention along the edges of the graph. \n",
    "\n",
    "To easily compare coefficients across nodes, we normalize the coefficients across a node $i$'s neighbors $j$ using the softmax function:\n",
    "\\begin{equation}\n",
    "\\alpha_{ij} = \\text{softmax}_j(e_{ij}) = \\frac{\\exp(e_{ij})}{\\sum_{k \\in \\mathcal{N}_i} \\exp(e_{ik})}\n",
    "\\end{equation}\n",
    "\n",
    "For this problem, our attention mechanism $a$ will be a single-layer feedforward neural network parametrized by weight vectors $\\overrightarrow{a_{src}} \\in \\mathbb{R}^{F'}$ and $\\overrightarrow{a_{dst}} \\in \\mathbb{R}^{F'}$, followed by a LeakyReLU nonlinearity (with negative input slope 0.2). Letting $\\cdot^T$ represent transposition, the coefficients computed by our attention mechanism may be expressed as:\n",
    "\n",
    "\\begin{equation}\n",
    "\\alpha_{ij} = \\frac{\\exp\\Big(\\text{LeakyReLU}\\Big(\\overrightarrow{a_{dst}}^T \\mathbf{W_{dst}} \\overrightarrow{h_i} + \\overrightarrow{a_{src}}^T\\mathbf{W_{src}}\\overrightarrow{h_j}\\Big)\\Big)}{\\sum_{k\\in \\mathcal{N}_i} \\exp\\Big(\\text{LeakyReLU}\\Big(\\overrightarrow{a_{dst}}^T \\mathbf{W_{dst}} \\overrightarrow{h_i} + \\overrightarrow{a_{src}}^T\\mathbf{W_{src}}\\overrightarrow{h_k}\\Big)\\Big)}\n",
    "\\end{equation}\n",
    "\n",
    "For the following questions, we denote `alpha_{src}` = $\\alpha_{src} = [...,\\overrightarrow{a_{src}}^T \\mathbf{W_{src}} \\overrightarrow{h_j},...] \\in \\mathcal{R}^n$ and `alpha_{dst}` = $\\alpha_{dst} = [..., \\overrightarrow{a_{dst}}^T \\mathbf{W_{dst}} \\overrightarrow{h_i}, ...] \\in \\mathcal{R}^n$, where again $n$ is the number of nodes in the graph.\n",
    "\n",
    "\n",
    "For every GAT layer, after the attention coefficients are computed, the aggregation function for a node $i$ is computed as a weighted sum over the messages from neighboring nodes $j$ **weighted by the attention weights** $\\alpha_{ij}$. These aggregated features will serve as the final output features for every node.\n",
    "\n",
    "\\begin{equation}\n",
    "h_i' = \\sum_{j \\in \\mathcal{N}_i} \\alpha_{ij} \\mathbf{W_{src}} \\overrightarrow{h_j}.\n",
    "\\end{equation}\n",
    "\n",
    "At this point, we have covered a lot of information! Before reading further about multi-head attention, we encourage you to go again through the exercise of thinking about what components of the attention mechanism correspond with the different functions: 1) `forward`, 2) `message`, and 3 `aggregate`. \n",
    "\n",
    "- Hint 1: in the `forward` method, the subsript `_src` refers to resources used on source/neighbor nodes, whereas subsript `_dst` refers to resources used on destination/target/central nodes\n",
    "- Hint 2: Our aggregation is very similar to that of GraphSage except now we are using sum aggregation.\n",
    "- Hint 3: The terms we aggregate over represent the individual message that each neighbor node j sends. Thus, we see that $\\alpha_{ij}$ is actually part of the message each node sends and should be computed during the message step. This makes sense since each attention weight is associated with a single edge in the graph.\n",
    "- Hint 4: Look at the terms in the definition of $\\alpha_{ij}$. What values can you pre-process and pass as parameters to the `propagate` function (i.e. those computed only over the nodes *that do not* require edge information). The parameters of `message(..., x_j, alpha_j, alpha_i, ...)` should give a good hint.  \n",
    "- Hint 5: Remember that parameters accessed in the `message` function are extracted from parameters passed to propagate using `edge_index`; thus, their first dimension has shape $|E|$.\n",
    "\n",
    "### Multi-Head Attention\n",
    "To stabilize the learning process of self-attention, you will use multi-head attention. To do this you use $K$ **independent** attention mechanisms, or ``heads'', to compute output features exactly as described in the above equations. Then, you simply concatenate these output feature representations:\n",
    "\n",
    "\\begin{equation}\n",
    "    \\overrightarrow{h_i}' = ||_{k=1}^K \\Big(\\sum_{j \\in \\mathcal{N}_i} \\alpha_{ij}^{(k)} \\mathbf{W_{src}}^{(k)} \\overrightarrow{h_j}\\Big)\n",
    "\\end{equation}\n",
    "\n",
    "where $||$ is concatenation, $\\alpha_{ij}^{(k)}$ are the normalized attention coefficients computed by the $k$-th attention mechanism $(a^k)$, and $\\mathbf{W_{src}}^{(k)}$ is the corresponding input linear transformation's weight matrix. Note that for this setting, $\\mathbf{h'} \\in \\mathbb{R}^{KF'}$. \n",
    "\n",
    "**Note:** We recommend first thinking through the implementation of single head attention. Switching to multi-head attention then requires thinking through adding an extra dimension $K$ to effectively compute $K$ separate single head attention outputs."
   ]
  },
  {
   "cell_type": "code",
   "execution_count": 242,
   "metadata": {
    "id": "w4j45gTpCeXO"
   },
   "outputs": [],
   "source": [
    "class GAT(MessagePassing):\n",
    "\n",
    "    def __init__(self, in_channels, out_channels, args, **kwargs):\n",
    "        super(GAT, self).__init__(node_dim=0, **kwargs)\n",
    "\n",
    "        self.in_channels = in_channels\n",
    "        self.out_channels = out_channels\n",
    "        self.heads = args.heads\n",
    "        self.negative_slope = args.negative_slope\n",
    "        self.dropout = args.dropout\n",
    "        bias = args.bias\n",
    "\n",
    "        self.lin_src = None\n",
    "        self.lin_dst = None\n",
    "        self.att_src = None\n",
    "        self.att_dst = None\n",
    "\n",
    "        ############# Your code here #############\n",
    "        # Define the layers needed for the message functions below.\n",
    "        # self.lin_src is the linear transformation that you apply to embeddings \n",
    "        # BEFORE message passing.\n",
    "        # \n",
    "        # Pay attention to dimensions of the linear layers, especially when\n",
    "        # implementing multi-head attention.\n",
    "        # Our implementation is ~1 lines, but don't worry if you deviate from this.\n",
    "        self.lin_src = nn.Linear(in_features=self.in_channels, out_features=self.heads * self.out_channels)\n",
    "        ############################################################################\n",
    "\n",
    "        self.lin_dst = self.lin_src\n",
    "\n",
    "        ############# Your code here #############\n",
    "        # Define the attention parameters \\overrightarrow{a_{src}/{dst}}^T in the above intro.\n",
    "        # 1. Be mindful of when you want to include multi-head attention.\n",
    "        # 2. Note that for each attention head we parametrize the attention parameters \n",
    "        #    as weight vectors NOT matrices - i.e. their first dimension should be 1.\n",
    "        self.att_src = nn.Parameter(torch.randn(self.heads, self.out_channels))\n",
    "        self.att_dst = nn.Parameter(torch.randn(self.heads, self.out_channels))\n",
    "        ############################################################################\n",
    "\n",
    "        self.reset_parameters()\n",
    "\n",
    "    def reset_parameters(self):\n",
    "        nn.init.xavier_uniform_(self.lin_src.weight)\n",
    "        nn.init.xavier_uniform_(self.lin_dst.weight)\n",
    "        nn.init.xavier_uniform_(self.att_src)\n",
    "        nn.init.xavier_uniform_(self.att_dst)\n",
    "\n",
    "    def forward(self, x, edge_index, size = None):\n",
    "        \n",
    "        H, C = self.heads, self.out_channels\n",
    "\n",
    "        ############# Your code here #############\n",
    "        # Implement message passing, as well as any pre- and post-processing (our update rule).\n",
    "        # 1. First apply linear transformation to node embeddings, and split that \n",
    "        #    into multiple heads. We use the same representations for source and\n",
    "        #    target nodes, but apply different linear weights (W_{src} and W_{dst})\n",
    "        # 2. Calculate alpha vectors for central nodes (alpha_{dst}) and neighbor nodes (alpha_{src}).\n",
    "        # 3. Call propagate function to conduct the message passing. \n",
    "        #    3.1 Remember to pass alpha = (alpha_{src}, alpha_{dst}) as a parameter.\n",
    "        #    3.2 See here for more information: https://pytorch-geometric.readthedocs.io/en/latest/notes/create_gnn.html\n",
    "        # 4. Transform the output back to the shape of N * d.\n",
    "        # Our implementation is ~5 lines, but don't worry if you deviate from this.\n",
    "        print(x.size())\n",
    "        x_src = self.lin_src(x).reshape(-1, H, C) #linear transformation\n",
    "        x_dst = self.lin_dst(x).reshape(-1, H, C) #linear transformation\n",
    "\n",
    "        alpha_src = self.att_src * x_src\n",
    "        alpha_dst = self.att_dst * x_dst\n",
    "        \n",
    "        out = self.propagate(edge_index, x=(x_src, x_dst), alpha=(alpha_src, alpha_dst)).reshape(-1, H * C) # Call propagate remember to pass alpha=(alpha_{src}, alpha_{dst})\n",
    "        ############################################################################\n",
    "\n",
    "        return out\n",
    "\n",
    "\n",
    "    def message(self, x_j, alpha_j, alpha_i, index, ptr, size_i):\n",
    "\n",
    "        ############# Your code here #############\n",
    "        # Implement your message function. Putting the attention in message \n",
    "        # instead of in update is a little tricky.\n",
    "        # 1. Calculate the attention weights using alpha_i and alpha_j,\n",
    "        #    and apply leaky ReLU.\n",
    "        # 2. Calculate softmax over the neighbor nodes for all the nodes. Use \n",
    "        #    torch_geometric.utils.softmax instead of the one in Pytorch.\n",
    "        # 3. Apply dropout to attention weights (alpha).\n",
    "        # 4. Multiply embeddings and attention weights. As a sanity check, the output\n",
    "        #    should be of shape (E, H, d).\n",
    "        # 5. ptr (LongTensor, optional): If given, computes the softmax based on\n",
    "        #    sorted inputs in CSR representation. You can simply pass it to softmax.\n",
    "        # Our implementation is ~5 lines, but don't worry if you deviate from this.\n",
    "        \n",
    "        attention_weights = F.leaky_relu(alpha_i + alpha_j) # calculate attention weights using alpha_i and alpha_j use leaky ReLU\n",
    "        \n",
    "        if ptr is not None: # If given computes the softmax based on ptr's format\n",
    "            softmax_over_nodes = torch_geometric.utils.softmax(attention_weights, ptr)\n",
    "            \n",
    "        else: # Calculate softmax over the neighbor nodes for all the nodes \n",
    "            softmax_over_nodes = torch_geometric.utils.softmax(attention_weights, index)\n",
    "            \n",
    "        dropout_attention = F.dropout(softmax_over_nodes, p=self.dropout) # Apply dropout to attention weights\n",
    "        out = dropout_attention * x_j # Multiply embeddings and attention weights. Should be (E, H, d) shape\n",
    "        ############################################################################\n",
    "\n",
    "        return out\n",
    "\n",
    "\n",
    "    def aggregate(self, inputs, index, dim_size = None):\n",
    "\n",
    "        ############# Your code here #############\n",
    "        # Implement your aggregate function here.\n",
    "        # See here as how to use torch_scatter.scatter: https://pytorch-scatter.readthedocs.io/en/latest/_modules/torch_scatter/scatter.html\n",
    "        # Pay attention to \"reduce\" parameter is different from that in GraphSage.\n",
    "        # Our implementation is ~1 lines, but don't worry if you deviate from this.\n",
    "        out = torch_scatter.scatter( src=inputs, index=index, dim=self.node_dim, reduce=\"sum\" )\n",
    "        ############################################################################\n",
    "    \n",
    "        return out"
   ]
  },
  {
   "cell_type": "markdown",
   "metadata": {
    "id": "V2dkgSuWCheU"
   },
   "source": [
    "## Building Optimizers\n",
    "\n",
    "This function has been implemented for you. **For grading purposes please use the default Adam optimizer**, but feel free to play with other types of optimizers on your own."
   ]
  },
  {
   "cell_type": "code",
   "execution_count": 235,
   "metadata": {
    "id": "f_TIQ8NPCjBP"
   },
   "outputs": [],
   "source": [
    "import torch.optim as optim\n",
    "\n",
    "def build_optimizer(args, params):\n",
    "    weight_decay = args.weight_decay\n",
    "    filter_fn = filter(lambda p : p.requires_grad, params)\n",
    "    if args.opt == 'adam':\n",
    "        optimizer = optim.Adam(filter_fn, lr=args.lr, weight_decay=weight_decay)\n",
    "    elif args.opt == 'sgd':\n",
    "        optimizer = optim.SGD(filter_fn, lr=args.lr, momentum=0.95, weight_decay=weight_decay)\n",
    "    elif args.opt == 'rmsprop':\n",
    "        optimizer = optim.RMSprop(filter_fn, lr=args.lr, weight_decay=weight_decay)\n",
    "    elif args.opt == 'adagrad':\n",
    "        optimizer = optim.Adagrad(filter_fn, lr=args.lr, weight_decay=weight_decay)\n",
    "    if args.opt_scheduler == 'none':\n",
    "        return None, optimizer\n",
    "    elif args.opt_scheduler == 'step':\n",
    "        scheduler = optim.lr_scheduler.StepLR(optimizer, step_size=args.opt_decay_step, gamma=args.opt_decay_rate)\n",
    "    elif args.opt_scheduler == 'cos':\n",
    "        scheduler = optim.lr_scheduler.CosineAnnealingLR(optimizer, T_max=args.opt_restart)\n",
    "    return scheduler, optimizer"
   ]
  },
  {
   "cell_type": "markdown",
   "metadata": {
    "id": "hBYdWFwYCkwY"
   },
   "source": [
    "## Training and Testing\n",
    "\n",
    "Here we provide you with the functions to train and test. **Please do not modify this part for grading purposes.**"
   ]
  },
  {
   "cell_type": "code",
   "execution_count": 236,
   "metadata": {
    "id": "_tZMWRc8CmGg"
   },
   "outputs": [],
   "source": [
    "import time\n",
    "\n",
    "import networkx as nx\n",
    "import numpy as np\n",
    "import torch\n",
    "import torch.optim as optim\n",
    "from tqdm import trange\n",
    "import pandas as pd\n",
    "import copy\n",
    "\n",
    "from torch_geometric.datasets import TUDataset\n",
    "from torch_geometric.datasets import Planetoid\n",
    "from torch_geometric.data import DataLoader\n",
    "\n",
    "import torch_geometric.nn as pyg_nn\n",
    "\n",
    "import matplotlib.pyplot as plt\n",
    "\n",
    "\n",
    "def train(dataset, args):\n",
    "    \n",
    "    print(\"Node task. test set size:\", np.sum(dataset[0]['test_mask'].numpy()))\n",
    "    print()\n",
    "    test_loader = loader = DataLoader(dataset, batch_size=args.batch_size, shuffle=False)\n",
    "\n",
    "    # build model\n",
    "    model = GNNStack(dataset.num_node_features, args.hidden_dim, dataset.num_classes, args)\n",
    "    \n",
    "    # Disable compile as this does not seem to work yet in PyTorch 2.0.1/PyG 2.3.1\n",
    "    # try:\n",
    "    #   model = torch_geometric.compile(model)\n",
    "    #   print(f\"GNNStack based on {args.model_type} Model compiled\")\n",
    "    # except Exception as err:\n",
    "    #   print(f\"Model compile not supported: {err}\")\n",
    "    \n",
    "    scheduler, opt = build_optimizer(args, model.parameters())\n",
    "\n",
    "    # train\n",
    "    losses = []\n",
    "    test_accs = []\n",
    "    best_acc = 0\n",
    "    best_model = None\n",
    "    for epoch in trange(args.epochs, desc=\"Training\", unit=\"Epochs\"):\n",
    "        total_loss = 0\n",
    "        model.train()\n",
    "        for batch in loader:\n",
    "            opt.zero_grad()\n",
    "            pred = model(batch)\n",
    "            label = batch.y\n",
    "            pred = pred[batch.train_mask]\n",
    "            label = label[batch.train_mask]\n",
    "            loss = model.loss(pred, label)\n",
    "            loss.backward()\n",
    "            opt.step()\n",
    "            total_loss += loss.item() * batch.num_graphs\n",
    "        total_loss /= len(loader.dataset)\n",
    "        losses.append(total_loss)\n",
    "\n",
    "        if epoch % 10 == 0:\n",
    "          test_acc = test(test_loader, model)\n",
    "          test_accs.append(test_acc)\n",
    "          if test_acc > best_acc:\n",
    "            best_acc = test_acc\n",
    "            best_model = copy.deepcopy(model)\n",
    "        else:\n",
    "          test_accs.append(test_accs[-1])\n",
    "    \n",
    "    return test_accs, losses, best_model, best_acc, test_loader\n",
    "\n",
    "def test(loader, test_model, is_validation=False, save_model_preds=False, model_type=None):\n",
    "    test_model.eval()\n",
    "\n",
    "    correct = 0\n",
    "    # Note that Cora is only one graph!\n",
    "    for data in loader:\n",
    "        with torch.no_grad():\n",
    "            # max(dim=1) returns values, indices tuple; only need indices\n",
    "            pred = test_model(data).max(dim=1)[1]\n",
    "            label = data.y\n",
    "\n",
    "        mask = data.val_mask if is_validation else data.test_mask\n",
    "        # node classification: only evaluate on nodes in test set\n",
    "        pred = pred[mask]\n",
    "        label = label[mask]\n",
    "\n",
    "        if save_model_preds:\n",
    "          print (\"Saving Model Predictions for Model Type\", model_type)\n",
    "\n",
    "          data = {}\n",
    "          data['pred'] = pred.view(-1).cpu().detach().numpy()\n",
    "          data['label'] = label.view(-1).cpu().detach().numpy()\n",
    "\n",
    "          df = pd.DataFrame(data=data)\n",
    "          # Save locally as csv\n",
    "          df.to_csv('CORA-Node-' + model_type + '.csv', sep=',', index=False)\n",
    "            \n",
    "        correct += pred.eq(label).sum().item()\n",
    "\n",
    "    total = 0\n",
    "    for data in loader.dataset:\n",
    "        total += torch.sum(data.val_mask if is_validation else data.test_mask).item()\n",
    "\n",
    "    return correct / total\n",
    "\n",
    "def train_wrapper(args):\n",
    "\n",
    "    args = objectview(args)\n",
    "\n",
    "    if args.dataset == 'cora':\n",
    "        dataset = Planetoid(root='/tmp/cora', name='Cora')\n",
    "    else:\n",
    "        raise NotImplementedError(\"Unknown dataset\") \n",
    "    test_accs, losses, best_model, best_acc, test_loader = train(dataset, args) \n",
    "\n",
    "    print(\"Maximum test set accuracy: {0}\".format(max(test_accs)))\n",
    "    print(\"Minimum loss: {0}\".format(min(losses)))\n",
    "\n",
    "    # Run test for our best model to save the predictions!\n",
    "    test(test_loader, best_model, is_validation=False, save_model_preds=True, model_type=args.model_type)\n",
    "    print()\n",
    "\n",
    "    out = {\n",
    "        \"model_type\": args.model_type,\n",
    "        \"dataset_name\": dataset.name,\n",
    "        \"losses\": losses, \n",
    "        \"test_accuracies\": test_accs\n",
    "    }\n",
    "\n",
    "    return objectview(out)\n",
    "  \n",
    "class objectview(object):\n",
    "    def __init__(self, d):\n",
    "        self.__dict__ = d\n"
   ]
  },
  {
   "cell_type": "markdown",
   "metadata": {
    "id": "L7-h7jIsCns4"
   },
   "source": [
    "## Let's Start the Training!\n",
    "\n",
    "You will be working on the CORA dataset on node-level classification.\n",
    "\n",
    "This part is implemented for you. **For grading purposes, please do not modify the default parameters.** However, feel free to play with different configurations just for fun!\n",
    "\n",
    "**Submit your best accuracy and loss on Gradescope.**"
   ]
  },
  {
   "cell_type": "code",
   "execution_count": 231,
   "metadata": {
    "colab": {
     "base_uri": "https://localhost:8080/"
    },
    "id": "MRCr4iGfJLKT",
    "outputId": "cdcff784-2973-4188-996e-eaf4ae88cc50"
   },
   "outputs": [
    {
     "name": "stdout",
     "output_type": "stream",
     "text": [
      "Node task. test set size: 1000\n",
      "\n"
     ]
    },
    {
     "name": "stderr",
     "output_type": "stream",
     "text": [
      "Training: 100%|██████████████████████████████████████████████████████████████████████████████████████████████████████████████████████████████████████████████████████████████| 500/500 [00:15<00:00, 32.56Epochs/s]\n"
     ]
    },
    {
     "name": "stdout",
     "output_type": "stream",
     "text": [
      "Maximum test set accuracy: 0.804\n",
      "Minimum loss: 0.18197055160999298\n",
      "Saving Model Predictions for Model Type GraphSage\n",
      "\n"
     ]
    }
   ],
   "source": [
    "if 'IS_GRADESCOPE_ENV' not in os.environ:\n",
    "    args = {\n",
    "        'model_type': 'GraphSage', \n",
    "        'dataset': 'cora', \n",
    "        'num_layers': 2, \n",
    "        'normalize': True, \n",
    "        'bias': False, \n",
    "        'heads': 1, \n",
    "        'negative_slope': 0.2, \n",
    "        'batch_size': 32, \n",
    "        'hidden_dim': 32, \n",
    "        'dropout': 0.5, \n",
    "        'epochs': 500, \n",
    "        'opt': 'adam', \n",
    "        'opt_scheduler': 'none', \n",
    "        'opt_restart': 0, \n",
    "        'weight_decay': 5e-3, \n",
    "        'lr': 0.01\n",
    "    }\n",
    "\n",
    "    graph_sage_plot_data = train_wrapper(args)"
   ]
  },
  {
   "cell_type": "code",
   "execution_count": 243,
   "metadata": {
    "colab": {
     "base_uri": "https://localhost:8080/"
    },
    "id": "OLPgtZ7cJLKU",
    "outputId": "c812bbe1-03e4-4534-aa0e-375a1b3fd09d"
   },
   "outputs": [
    {
     "name": "stdout",
     "output_type": "stream",
     "text": [
      "Node task. test set size: 1000\n",
      "\n"
     ]
    },
    {
     "name": "stderr",
     "output_type": "stream",
     "text": [
      "Training:   1%|█▌                                                                                                                                                              | 5/500 [00:00<00:10, 48.65Epochs/s]"
     ]
    },
    {
     "name": "stdout",
     "output_type": "stream",
     "text": [
      "torch.Size([2708, 1433])\n",
      "torch.Size([2708, 64])\n",
      "torch.Size([2708, 1433])\n",
      "torch.Size([2708, 64])\n",
      "torch.Size([2708, 1433])\n",
      "torch.Size([2708, 64])\n",
      "torch.Size([2708, 1433])\n",
      "torch.Size([2708, 64])\n",
      "torch.Size([2708, 1433])\n",
      "torch.Size([2708, 64])\n",
      "torch.Size([2708, 1433])\n",
      "torch.Size([2708, 64])\n",
      "torch.Size([2708, 1433])\n",
      "torch.Size([2708, 64])\n",
      "torch.Size([2708, 1433])\n",
      "torch.Size([2708, 64])\n",
      "torch.Size([2708, 1433])\n",
      "torch.Size([2708, 64])\n",
      "torch.Size([2708, 1433])\n",
      "torch.Size([2708, 64])\n",
      "torch.Size([2708, 1433])\n",
      "torch.Size([2708, 64])\n",
      "torch.Size([2708, 1433])\n",
      "torch.Size([2708, 64])\n",
      "torch.Size([2708, 1433])\n"
     ]
    },
    {
     "name": "stderr",
     "output_type": "stream",
     "text": [
      "Training:   3%|█████▍                                                                                                                                                         | 17/500 [00:00<00:09, 52.94Epochs/s]"
     ]
    },
    {
     "name": "stdout",
     "output_type": "stream",
     "text": [
      "torch.Size([2708, 64])\n",
      "torch.Size([2708, 1433])\n",
      "torch.Size([2708, 64])\n",
      "torch.Size([2708, 1433])\n",
      "torch.Size([2708, 64])\n",
      "torch.Size([2708, 1433])\n",
      "torch.Size([2708, 64])\n",
      "torch.Size([2708, 1433])\n",
      "torch.Size([2708, 64])\n",
      "torch.Size([2708, 1433])\n",
      "torch.Size([2708, 64])\n",
      "torch.Size([2708, 1433])\n",
      "torch.Size([2708, 64])\n",
      "torch.Size([2708, 1433])\n",
      "torch.Size([2708, 64])\n",
      "torch.Size([2708, 1433])\n",
      "torch.Size([2708, 64])\n",
      "torch.Size([2708, 1433])\n",
      "torch.Size([2708, 64])\n",
      "torch.Size([2708, 1433])\n",
      "torch.Size([2708, 64])\n",
      "torch.Size([2708, 1433])\n"
     ]
    },
    {
     "name": "stderr",
     "output_type": "stream",
     "text": [
      "Training:   6%|█████████▌                                                                                                                                                     | 30/500 [00:00<00:08, 54.03Epochs/s]"
     ]
    },
    {
     "name": "stdout",
     "output_type": "stream",
     "text": [
      "torch.Size([2708, 64])\n",
      "torch.Size([2708, 1433])\n",
      "torch.Size([2708, 64])\n",
      "torch.Size([2708, 1433])\n",
      "torch.Size([2708, 64])\n",
      "torch.Size([2708, 1433])\n",
      "torch.Size([2708, 64])\n",
      "torch.Size([2708, 1433])\n",
      "torch.Size([2708, 64])\n",
      "torch.Size([2708, 1433])\n",
      "torch.Size([2708, 64])\n",
      "torch.Size([2708, 1433])\n",
      "torch.Size([2708, 64])\n",
      "torch.Size([2708, 1433])\n",
      "torch.Size([2708, 64])\n",
      "torch.Size([2708, 1433])\n",
      "torch.Size([2708, 64])\n",
      "torch.Size([2708, 1433])\n",
      "torch.Size([2708, 64])\n",
      "torch.Size([2708, 1433])\n",
      "torch.Size([2708, 64])\n",
      "torch.Size([2708, 1433])\n",
      "torch.Size([2708, 64])\n",
      "torch.Size([2708, 1433])\n",
      "torch.Size([2708, 64])\n",
      "torch.Size([2708, 1433])\n"
     ]
    },
    {
     "name": "stderr",
     "output_type": "stream",
     "text": [
      "Training:   8%|█████████████▎                                                                                                                                                 | 42/500 [00:00<00:08, 56.06Epochs/s]"
     ]
    },
    {
     "name": "stdout",
     "output_type": "stream",
     "text": [
      "torch.Size([2708, 64])\n",
      "torch.Size([2708, 1433])\n",
      "torch.Size([2708, 64])\n",
      "torch.Size([2708, 1433])\n",
      "torch.Size([2708, 64])\n",
      "torch.Size([2708, 1433])\n",
      "torch.Size([2708, 64])\n",
      "torch.Size([2708, 1433])\n",
      "torch.Size([2708, 64])\n",
      "torch.Size([2708, 1433])\n",
      "torch.Size([2708, 64])\n",
      "torch.Size([2708, 1433])\n",
      "torch.Size([2708, 64])\n",
      "torch.Size([2708, 1433])\n",
      "torch.Size([2708, 64])\n",
      "torch.Size([2708, 1433])\n",
      "torch.Size([2708, 64])\n",
      "torch.Size([2708, 1433])\n",
      "torch.Size([2708, 64])\n",
      "torch.Size([2708, 1433])\n",
      "torch.Size([2708, 64])\n",
      "torch.Size([2708, 1433])\n",
      "torch.Size([2708, 64])\n",
      "torch.Size([2708, 1433])\n",
      "torch.Size([2708, 64])\n",
      "torch.Size([2708, 1433])\n",
      "torch.Size([2708, 64])\n"
     ]
    },
    {
     "name": "stderr",
     "output_type": "stream",
     "text": [
      "Training:  11%|█████████████████▍                                                                                                                                             | 55/500 [00:00<00:07, 58.71Epochs/s]"
     ]
    },
    {
     "name": "stdout",
     "output_type": "stream",
     "text": [
      "torch.Size([2708, 1433])\n",
      "torch.Size([2708, 64])\n",
      "torch.Size([2708, 1433])\n",
      "torch.Size([2708, 64])\n",
      "torch.Size([2708, 1433])\n",
      "torch.Size([2708, 64])\n",
      "torch.Size([2708, 1433])\n",
      "torch.Size([2708, 64])\n",
      "torch.Size([2708, 1433])\n",
      "torch.Size([2708, 64])\n",
      "torch.Size([2708, 1433])\n",
      "torch.Size([2708, 64])\n",
      "torch.Size([2708, 1433])\n",
      "torch.Size([2708, 64])\n",
      "torch.Size([2708, 1433])\n",
      "torch.Size([2708, 64])\n",
      "torch.Size([2708, 1433])\n",
      "torch.Size([2708, 64])\n",
      "torch.Size([2708, 1433])\n",
      "torch.Size([2708, 64])\n",
      "torch.Size([2708, 1433])\n",
      "torch.Size([2708, 64])\n",
      "torch.Size([2708, 1433])\n",
      "torch.Size([2708, 64])\n",
      "torch.Size([2708, 1433])\n",
      "torch.Size([2708, 64])\n",
      "torch.Size([2708, 1433])\n",
      "torch.Size([2708, 64])\n"
     ]
    },
    {
     "name": "stderr",
     "output_type": "stream",
     "text": [
      "Training:  14%|█████████████████████▌                                                                                                                                         | 68/500 [00:01<00:07, 60.23Epochs/s]"
     ]
    },
    {
     "name": "stdout",
     "output_type": "stream",
     "text": [
      "torch.Size([2708, 1433])\n",
      "torch.Size([2708, 64])\n",
      "torch.Size([2708, 1433])\n",
      "torch.Size([2708, 64])\n",
      "torch.Size([2708, 1433])\n",
      "torch.Size([2708, 64])\n",
      "torch.Size([2708, 1433])\n",
      "torch.Size([2708, 64])\n",
      "torch.Size([2708, 1433])\n",
      "torch.Size([2708, 64])\n",
      "torch.Size([2708, 1433])\n",
      "torch.Size([2708, 64])\n",
      "torch.Size([2708, 1433])\n",
      "torch.Size([2708, 64])\n",
      "torch.Size([2708, 1433])\n",
      "torch.Size([2708, 64])\n",
      "torch.Size([2708, 1433])\n",
      "torch.Size([2708, 64])\n",
      "torch.Size([2708, 1433])\n",
      "torch.Size([2708, 64])\n",
      "torch.Size([2708, 1433])\n",
      "torch.Size([2708, 64])\n",
      "torch.Size([2708, 1433])\n",
      "torch.Size([2708, 64])\n",
      "torch.Size([2708, 1433])\n",
      "torch.Size([2708, 64])\n",
      "torch.Size([2708, 1433])\n"
     ]
    },
    {
     "name": "stderr",
     "output_type": "stream",
     "text": [
      "Training:  16%|█████████████████████████▊                                                                                                                                     | 81/500 [00:01<00:07, 59.41Epochs/s]"
     ]
    },
    {
     "name": "stdout",
     "output_type": "stream",
     "text": [
      "torch.Size([2708, 64])\n",
      "torch.Size([2708, 1433])\n",
      "torch.Size([2708, 64])\n",
      "torch.Size([2708, 1433])\n",
      "torch.Size([2708, 64])\n",
      "torch.Size([2708, 1433])\n",
      "torch.Size([2708, 64])\n",
      "torch.Size([2708, 1433])\n",
      "torch.Size([2708, 64])\n",
      "torch.Size([2708, 1433])\n",
      "torch.Size([2708, 64])\n",
      "torch.Size([2708, 1433])\n",
      "torch.Size([2708, 64])\n",
      "torch.Size([2708, 1433])\n",
      "torch.Size([2708, 64])\n",
      "torch.Size([2708, 1433])\n",
      "torch.Size([2708, 64])\n",
      "torch.Size([2708, 1433])\n",
      "torch.Size([2708, 64])\n",
      "torch.Size([2708, 1433])\n",
      "torch.Size([2708, 64])\n",
      "torch.Size([2708, 1433])\n",
      "torch.Size([2708, 64])\n",
      "torch.Size([2708, 1433])\n",
      "torch.Size([2708, 64])\n",
      "torch.Size([2708, 1433])\n",
      "torch.Size([2708, 64])\n"
     ]
    },
    {
     "name": "stderr",
     "output_type": "stream",
     "text": [
      "Training:  18%|███████████████████████████▉                                                                                                                                   | 88/500 [00:01<00:06, 60.50Epochs/s]"
     ]
    },
    {
     "name": "stdout",
     "output_type": "stream",
     "text": [
      "torch.Size([2708, 1433])\n",
      "torch.Size([2708, 64])\n",
      "torch.Size([2708, 1433])\n",
      "torch.Size([2708, 64])\n",
      "torch.Size([2708, 1433])\n",
      "torch.Size([2708, 64])\n",
      "torch.Size([2708, 1433])\n",
      "torch.Size([2708, 64])\n",
      "torch.Size([2708, 1433])\n",
      "torch.Size([2708, 64])\n",
      "torch.Size([2708, 1433])\n",
      "torch.Size([2708, 64])\n",
      "torch.Size([2708, 1433])\n",
      "torch.Size([2708, 64])\n",
      "torch.Size([2708, 1433])\n",
      "torch.Size([2708, 64])\n",
      "torch.Size([2708, 1433])\n",
      "torch.Size([2708, 64])\n",
      "torch.Size([2708, 1433])\n",
      "torch.Size([2708, 64])\n",
      "torch.Size([2708, 1433])\n",
      "torch.Size([2708, 64])\n"
     ]
    },
    {
     "name": "stderr",
     "output_type": "stream",
     "text": [
      "Training:  20%|███████████████████████████████▉                                                                                                                              | 101/500 [00:01<00:07, 54.01Epochs/s]"
     ]
    },
    {
     "name": "stdout",
     "output_type": "stream",
     "text": [
      "torch.Size([2708, 1433])\n",
      "torch.Size([2708, 64])\n",
      "torch.Size([2708, 1433])\n",
      "torch.Size([2708, 64])\n",
      "torch.Size([2708, 1433])\n",
      "torch.Size([2708, 64])\n",
      "torch.Size([2708, 1433])\n",
      "torch.Size([2708, 64])\n",
      "torch.Size([2708, 1433])\n",
      "torch.Size([2708, 64])\n",
      "torch.Size([2708, 1433])\n",
      "torch.Size([2708, 64])\n",
      "torch.Size([2708, 1433])\n",
      "torch.Size([2708, 64])\n",
      "torch.Size([2708, 1433])\n",
      "torch.Size([2708, 64])\n",
      "torch.Size([2708, 1433])\n",
      "torch.Size([2708, 64])\n",
      "torch.Size([2708, 1433])\n",
      "torch.Size([2708, 64])\n",
      "torch.Size([2708, 1433])\n",
      "torch.Size([2708, 64])\n",
      "torch.Size([2708, 1433])\n",
      "torch.Size([2708, 64])\n",
      "torch.Size([2708, 1433])\n",
      "torch.Size([2708, 64])\n"
     ]
    },
    {
     "name": "stderr",
     "output_type": "stream",
     "text": [
      "Training:  22%|██████████████████████████████████▏                                                                                                                           | 108/500 [00:01<00:07, 55.91Epochs/s]"
     ]
    },
    {
     "name": "stdout",
     "output_type": "stream",
     "text": [
      "torch.Size([2708, 1433])\n",
      "torch.Size([2708, 64])\n",
      "torch.Size([2708, 1433])\n",
      "torch.Size([2708, 64])\n",
      "torch.Size([2708, 1433])\n",
      "torch.Size([2708, 64])\n",
      "torch.Size([2708, 1433])\n",
      "torch.Size([2708, 64])\n",
      "torch.Size([2708, 1433])\n",
      "torch.Size([2708, 64])\n",
      "torch.Size([2708, 1433])\n",
      "torch.Size([2708, 64])\n",
      "torch.Size([2708, 1433])\n",
      "torch.Size([2708, 64])\n",
      "torch.Size([2708, 1433])\n",
      "torch.Size([2708, 64])\n",
      "torch.Size([2708, 1433])\n",
      "torch.Size([2708, 64])\n",
      "torch.Size([2708, 1433])\n",
      "torch.Size([2708, 64])\n",
      "torch.Size([2708, 1433])\n",
      "torch.Size([2708, 64])\n"
     ]
    },
    {
     "name": "stderr",
     "output_type": "stream",
     "text": [
      "Training:  23%|████████████████████████████████████                                                                                                                          | 114/500 [00:02<00:06, 55.63Epochs/s]"
     ]
    },
    {
     "name": "stdout",
     "output_type": "stream",
     "text": [
      "torch.Size([2708, 1433])\n",
      "torch.Size([2708, 64])\n",
      "torch.Size([2708, 1433])\n",
      "torch.Size([2708, 64])\n"
     ]
    },
    {
     "name": "stderr",
     "output_type": "stream",
     "text": [
      "Training:  24%|█████████████████████████████████████▉                                                                                                                        | 120/500 [00:02<00:06, 56.43Epochs/s]"
     ]
    },
    {
     "name": "stdout",
     "output_type": "stream",
     "text": [
      "torch.Size([2708, 1433])\n",
      "torch.Size([2708, 64])\n",
      "torch.Size([2708, 1433])\n",
      "torch.Size([2708, 64])\n",
      "torch.Size([2708, 1433])\n",
      "torch.Size([2708, 64])\n",
      "torch.Size([2708, 1433])\n",
      "torch.Size([2708, 64])\n",
      "torch.Size([2708, 1433])\n",
      "torch.Size([2708, 64])\n",
      "torch.Size([2708, 1433])\n",
      "torch.Size([2708, 64])\n",
      "torch.Size([2708, 1433])\n",
      "torch.Size([2708, 64])\n",
      "torch.Size([2708, 1433])\n",
      "torch.Size([2708, 64])\n",
      "torch.Size([2708, 1433])\n",
      "torch.Size([2708, 64])\n",
      "torch.Size([2708, 1433])\n",
      "torch.Size([2708, 64])\n",
      "torch.Size([2708, 1433])\n",
      "torch.Size([2708, 64])\n"
     ]
    },
    {
     "name": "stderr",
     "output_type": "stream",
     "text": [
      "Training:  25%|███████████████████████████████████████▊                                                                                                                      | 126/500 [00:02<00:06, 55.97Epochs/s]"
     ]
    },
    {
     "name": "stdout",
     "output_type": "stream",
     "text": [
      "torch.Size([2708, 1433])\n",
      "torch.Size([2708, 64])\n",
      "torch.Size([2708, 1433])\n",
      "torch.Size([2708, 64])\n"
     ]
    },
    {
     "name": "stderr",
     "output_type": "stream",
     "text": [
      "Training:  26%|█████████████████████████████████████████▋                                                                                                                    | 132/500 [00:02<00:06, 55.71Epochs/s]"
     ]
    },
    {
     "name": "stdout",
     "output_type": "stream",
     "text": [
      "torch.Size([2708, 1433])\n",
      "torch.Size([2708, 64])\n",
      "torch.Size([2708, 1433])\n",
      "torch.Size([2708, 64])\n",
      "torch.Size([2708, 1433])\n",
      "torch.Size([2708, 64])\n",
      "torch.Size([2708, 1433])\n",
      "torch.Size([2708, 64])\n",
      "torch.Size([2708, 1433])\n",
      "torch.Size([2708, 64])\n",
      "torch.Size([2708, 1433])\n",
      "torch.Size([2708, 64])\n",
      "torch.Size([2708, 1433])\n",
      "torch.Size([2708, 64])\n",
      "torch.Size([2708, 1433])\n",
      "torch.Size([2708, 64])\n",
      "torch.Size([2708, 1433])\n",
      "torch.Size([2708, 64])\n",
      "torch.Size([2708, 1433])\n",
      "torch.Size([2708, 64])\n",
      "torch.Size([2708, 1433])\n",
      "torch.Size([2708, 64])\n"
     ]
    },
    {
     "name": "stderr",
     "output_type": "stream",
     "text": [
      "Training:  28%|███████████████████████████████████████████▌                                                                                                                  | 138/500 [00:02<00:06, 56.56Epochs/s]"
     ]
    },
    {
     "name": "stdout",
     "output_type": "stream",
     "text": [
      "torch.Size([2708, 1433])\n",
      "torch.Size([2708, 64])\n",
      "torch.Size([2708, 1433])\n",
      "torch.Size([2708, 64])\n"
     ]
    },
    {
     "name": "stderr",
     "output_type": "stream",
     "text": [
      "Training:  29%|█████████████████████████████████████████████▌                                                                                                                | 144/500 [00:02<00:06, 55.95Epochs/s]"
     ]
    },
    {
     "name": "stdout",
     "output_type": "stream",
     "text": [
      "torch.Size([2708, 1433])\n",
      "torch.Size([2708, 64])\n",
      "torch.Size([2708, 1433])\n",
      "torch.Size([2708, 64])\n",
      "torch.Size([2708, 1433])\n",
      "torch.Size([2708, 64])\n",
      "torch.Size([2708, 1433])\n",
      "torch.Size([2708, 64])\n",
      "torch.Size([2708, 1433])\n",
      "torch.Size([2708, 64])\n",
      "torch.Size([2708, 1433])\n",
      "torch.Size([2708, 64])\n",
      "torch.Size([2708, 1433])\n",
      "torch.Size([2708, 64])\n",
      "torch.Size([2708, 1433])\n",
      "torch.Size([2708, 64])\n",
      "torch.Size([2708, 1433])\n",
      "torch.Size([2708, 64])\n",
      "torch.Size([2708, 1433])\n",
      "torch.Size([2708, 64])\n",
      "torch.Size([2708, 1433])\n",
      "torch.Size([2708, 64])\n"
     ]
    },
    {
     "name": "stderr",
     "output_type": "stream",
     "text": [
      "Training:  30%|███████████████████████████████████████████████▍                                                                                                              | 150/500 [00:02<00:06, 57.09Epochs/s]"
     ]
    },
    {
     "name": "stdout",
     "output_type": "stream",
     "text": [
      "torch.Size([2708, 1433])\n",
      "torch.Size([2708, 64])\n",
      "torch.Size([2708, 1433])\n",
      "torch.Size([2708, 64])\n",
      "torch.Size([2708, 1433])\n"
     ]
    },
    {
     "name": "stderr",
     "output_type": "stream",
     "text": [
      "Training:  31%|█████████████████████████████████████████████████▎                                                                                                            | 156/500 [00:02<00:06, 56.57Epochs/s]"
     ]
    },
    {
     "name": "stdout",
     "output_type": "stream",
     "text": [
      "torch.Size([2708, 64])\n",
      "torch.Size([2708, 1433])\n",
      "torch.Size([2708, 64])\n",
      "torch.Size([2708, 1433])\n",
      "torch.Size([2708, 64])\n",
      "torch.Size([2708, 1433])\n",
      "torch.Size([2708, 64])\n",
      "torch.Size([2708, 1433])\n",
      "torch.Size([2708, 64])\n",
      "torch.Size([2708, 1433])\n",
      "torch.Size([2708, 64])\n",
      "torch.Size([2708, 1433])\n",
      "torch.Size([2708, 64])\n",
      "torch.Size([2708, 1433])\n",
      "torch.Size([2708, 64])\n",
      "torch.Size([2708, 1433])\n",
      "torch.Size([2708, 64])\n",
      "torch.Size([2708, 1433])\n",
      "torch.Size([2708, 64])\n",
      "torch.Size([2708, 1433])\n",
      "torch.Size([2708, 64])\n",
      "torch.Size([2708, 1433])\n"
     ]
    },
    {
     "name": "stderr",
     "output_type": "stream",
     "text": [
      "Training:  32%|███████████████████████████████████████████████████▏                                                                                                          | 162/500 [00:02<00:06, 56.15Epochs/s]"
     ]
    },
    {
     "name": "stdout",
     "output_type": "stream",
     "text": [
      "torch.Size([2708, 64])\n",
      "torch.Size([2708, 1433])\n",
      "torch.Size([2708, 64])\n"
     ]
    },
    {
     "name": "stderr",
     "output_type": "stream",
     "text": [
      "Training:  34%|█████████████████████████████████████████████████████                                                                                                         | 168/500 [00:02<00:05, 56.79Epochs/s]"
     ]
    },
    {
     "name": "stdout",
     "output_type": "stream",
     "text": [
      "torch.Size([2708, 1433])\n",
      "torch.Size([2708, 64])\n",
      "torch.Size([2708, 1433])\n",
      "torch.Size([2708, 64])\n",
      "torch.Size([2708, 1433])\n",
      "torch.Size([2708, 64])\n",
      "torch.Size([2708, 1433])\n",
      "torch.Size([2708, 64])\n",
      "torch.Size([2708, 1433])\n",
      "torch.Size([2708, 64])\n",
      "torch.Size([2708, 1433])\n",
      "torch.Size([2708, 64])\n",
      "torch.Size([2708, 1433])\n",
      "torch.Size([2708, 64])\n",
      "torch.Size([2708, 1433])\n",
      "torch.Size([2708, 64])\n",
      "torch.Size([2708, 1433])\n",
      "torch.Size([2708, 64])\n",
      "torch.Size([2708, 1433])\n",
      "torch.Size([2708, 64])\n",
      "torch.Size([2708, 1433])\n",
      "torch.Size([2708, 64])\n"
     ]
    },
    {
     "name": "stderr",
     "output_type": "stream",
     "text": [
      "Training:  35%|██████████████████████████████████████████████████████▉                                                                                                       | 174/500 [00:03<00:05, 56.29Epochs/s]"
     ]
    },
    {
     "name": "stdout",
     "output_type": "stream",
     "text": [
      "torch.Size([2708, 1433])\n",
      "torch.Size([2708, 64])\n",
      "torch.Size([2708, 1433])\n",
      "torch.Size([2708, 64])\n"
     ]
    },
    {
     "name": "stderr",
     "output_type": "stream",
     "text": [
      "Training:  36%|████████████████████████████████████████████████████████▉                                                                                                     | 180/500 [00:03<00:05, 57.02Epochs/s]"
     ]
    },
    {
     "name": "stdout",
     "output_type": "stream",
     "text": [
      "torch.Size([2708, 1433])\n",
      "torch.Size([2708, 64])\n",
      "torch.Size([2708, 1433])\n",
      "torch.Size([2708, 64])\n",
      "torch.Size([2708, 1433])\n",
      "torch.Size([2708, 64])\n",
      "torch.Size([2708, 1433])\n",
      "torch.Size([2708, 64])\n",
      "torch.Size([2708, 1433])\n",
      "torch.Size([2708, 64])\n",
      "torch.Size([2708, 1433])\n",
      "torch.Size([2708, 64])\n",
      "torch.Size([2708, 1433])\n",
      "torch.Size([2708, 64])\n",
      "torch.Size([2708, 1433])\n",
      "torch.Size([2708, 64])\n",
      "torch.Size([2708, 1433])\n",
      "torch.Size([2708, 64])\n",
      "torch.Size([2708, 1433])\n",
      "torch.Size([2708, 64])\n",
      "torch.Size([2708, 1433])\n",
      "torch.Size([2708, 64])\n"
     ]
    },
    {
     "name": "stderr",
     "output_type": "stream",
     "text": [
      "Training:  37%|██████████████████████████████████████████████████████████▊                                                                                                   | 186/500 [00:03<00:05, 56.47Epochs/s]"
     ]
    },
    {
     "name": "stdout",
     "output_type": "stream",
     "text": [
      "torch.Size([2708, 1433])\n",
      "torch.Size([2708, 64])\n",
      "torch.Size([2708, 1433])\n",
      "torch.Size([2708, 64])\n"
     ]
    },
    {
     "name": "stderr",
     "output_type": "stream",
     "text": [
      "Training:  38%|████████████████████████████████████████████████████████████▋                                                                                                 | 192/500 [00:03<00:05, 55.54Epochs/s]"
     ]
    },
    {
     "name": "stdout",
     "output_type": "stream",
     "text": [
      "torch.Size([2708, 1433])\n",
      "torch.Size([2708, 64])\n",
      "torch.Size([2708, 1433])\n",
      "torch.Size([2708, 64])\n",
      "torch.Size([2708, 1433])\n",
      "torch.Size([2708, 64])\n",
      "torch.Size([2708, 1433])\n",
      "torch.Size([2708, 64])\n",
      "torch.Size([2708, 1433])\n",
      "torch.Size([2708, 64])\n",
      "torch.Size([2708, 1433])\n",
      "torch.Size([2708, 64])\n",
      "torch.Size([2708, 1433])\n",
      "torch.Size([2708, 64])\n",
      "torch.Size([2708, 1433])\n",
      "torch.Size([2708, 64])\n",
      "torch.Size([2708, 1433])\n",
      "torch.Size([2708, 64])\n",
      "torch.Size([2708, 1433])\n",
      "torch.Size([2708, 64])\n",
      "torch.Size([2708, 1433])\n",
      "torch.Size([2708, 64])\n",
      "torch.Size([2708, 1433])\n",
      "torch.Size([2708, 64])\n",
      "torch.Size([2708, 1433])\n",
      "torch.Size([2708, 64])\n"
     ]
    },
    {
     "name": "stderr",
     "output_type": "stream",
     "text": [
      "Training:  41%|████████████████████████████████████████████████████████████████▊                                                                                             | 205/500 [00:03<00:05, 56.17Epochs/s]"
     ]
    },
    {
     "name": "stdout",
     "output_type": "stream",
     "text": [
      "torch.Size([2708, 1433])\n",
      "torch.Size([2708, 64])\n",
      "torch.Size([2708, 1433])\n",
      "torch.Size([2708, 64])\n",
      "torch.Size([2708, 1433])\n",
      "torch.Size([2708, 64])\n",
      "torch.Size([2708, 1433])\n",
      "torch.Size([2708, 64])\n",
      "torch.Size([2708, 1433])\n",
      "torch.Size([2708, 64])\n",
      "torch.Size([2708, 1433])\n",
      "torch.Size([2708, 64])\n",
      "torch.Size([2708, 1433])\n",
      "torch.Size([2708, 64])\n",
      "torch.Size([2708, 1433])\n",
      "torch.Size([2708, 64])\n",
      "torch.Size([2708, 1433])\n",
      "torch.Size([2708, 64])\n",
      "torch.Size([2708, 1433])\n",
      "torch.Size([2708, 64])\n",
      "torch.Size([2708, 1433])\n",
      "torch.Size([2708, 64])\n",
      "torch.Size([2708, 1433])\n",
      "torch.Size([2708, 64])\n",
      "torch.Size([2708, 1433])\n",
      "torch.Size([2708, 64])\n"
     ]
    },
    {
     "name": "stderr",
     "output_type": "stream",
     "text": [
      "Training:  43%|████████████████████████████████████████████████████████████████████▌                                                                                         | 217/500 [00:03<00:04, 56.70Epochs/s]"
     ]
    },
    {
     "name": "stdout",
     "output_type": "stream",
     "text": [
      "torch.Size([2708, 1433])\n",
      "torch.Size([2708, 64])\n",
      "torch.Size([2708, 1433])\n",
      "torch.Size([2708, 64])\n",
      "torch.Size([2708, 1433])\n",
      "torch.Size([2708, 64])\n",
      "torch.Size([2708, 1433])\n",
      "torch.Size([2708, 64])\n",
      "torch.Size([2708, 1433])\n",
      "torch.Size([2708, 64])\n",
      "torch.Size([2708, 1433])\n",
      "torch.Size([2708, 64])\n",
      "torch.Size([2708, 1433])\n",
      "torch.Size([2708, 64])\n",
      "torch.Size([2708, 1433])\n",
      "torch.Size([2708, 64])\n",
      "torch.Size([2708, 1433])\n",
      "torch.Size([2708, 64])\n",
      "torch.Size([2708, 1433])\n",
      "torch.Size([2708, 64])\n",
      "torch.Size([2708, 1433])\n",
      "torch.Size([2708, 64])\n",
      "torch.Size([2708, 1433])\n",
      "torch.Size([2708, 64])\n",
      "torch.Size([2708, 1433])\n",
      "torch.Size([2708, 64])\n"
     ]
    },
    {
     "name": "stderr",
     "output_type": "stream",
     "text": [
      "Training:  46%|████████████████████████████████████████████████████████████████████████▋                                                                                     | 230/500 [00:04<00:04, 57.39Epochs/s]"
     ]
    },
    {
     "name": "stdout",
     "output_type": "stream",
     "text": [
      "torch.Size([2708, 1433])\n",
      "torch.Size([2708, 64])\n",
      "torch.Size([2708, 1433])\n",
      "torch.Size([2708, 64])\n",
      "torch.Size([2708, 1433])\n",
      "torch.Size([2708, 64])\n",
      "torch.Size([2708, 1433])\n",
      "torch.Size([2708, 64])\n",
      "torch.Size([2708, 1433])\n",
      "torch.Size([2708, 64])\n",
      "torch.Size([2708, 1433])\n",
      "torch.Size([2708, 64])\n",
      "torch.Size([2708, 1433])\n",
      "torch.Size([2708, 64])\n",
      "torch.Size([2708, 1433])\n",
      "torch.Size([2708, 64])\n",
      "torch.Size([2708, 1433])\n",
      "torch.Size([2708, 64])\n",
      "torch.Size([2708, 1433])\n",
      "torch.Size([2708, 64])\n",
      "torch.Size([2708, 1433])\n",
      "torch.Size([2708, 64])\n",
      "torch.Size([2708, 1433])\n",
      "torch.Size([2708, 64])\n",
      "torch.Size([2708, 1433])\n",
      "torch.Size([2708, 64])\n"
     ]
    },
    {
     "name": "stderr",
     "output_type": "stream",
     "text": [
      "Training:  48%|████████████████████████████████████████████████████████████████████████████▍                                                                                 | 242/500 [00:04<00:04, 56.43Epochs/s]"
     ]
    },
    {
     "name": "stdout",
     "output_type": "stream",
     "text": [
      "torch.Size([2708, 1433])\n",
      "torch.Size([2708, 64])\n",
      "torch.Size([2708, 1433])\n",
      "torch.Size([2708, 64])\n",
      "torch.Size([2708, 1433])\n",
      "torch.Size([2708, 64])\n",
      "torch.Size([2708, 1433])\n",
      "torch.Size([2708, 64])\n",
      "torch.Size([2708, 1433])\n",
      "torch.Size([2708, 64])\n",
      "torch.Size([2708, 1433])\n",
      "torch.Size([2708, 64])\n",
      "torch.Size([2708, 1433])\n",
      "torch.Size([2708, 64])\n",
      "torch.Size([2708, 1433])\n",
      "torch.Size([2708, 64])\n",
      "torch.Size([2708, 1433])\n",
      "torch.Size([2708, 64])\n",
      "torch.Size([2708, 1433])\n",
      "torch.Size([2708, 64])\n",
      "torch.Size([2708, 1433])\n",
      "torch.Size([2708, 64])\n",
      "torch.Size([2708, 1433])\n",
      "torch.Size([2708, 64])\n",
      "torch.Size([2708, 1433])\n",
      "torch.Size([2708, 64])\n"
     ]
    },
    {
     "name": "stderr",
     "output_type": "stream",
     "text": [
      "Training:  51%|████████████████████████████████████████████████████████████████████████████████▎                                                                             | 254/500 [00:04<00:04, 54.00Epochs/s]"
     ]
    },
    {
     "name": "stdout",
     "output_type": "stream",
     "text": [
      "torch.Size([2708, 1433])\n",
      "torch.Size([2708, 64])\n",
      "torch.Size([2708, 1433])\n",
      "torch.Size([2708, 64])\n",
      "torch.Size([2708, 1433])\n",
      "torch.Size([2708, 64])\n",
      "torch.Size([2708, 1433])\n",
      "torch.Size([2708, 64])\n",
      "torch.Size([2708, 1433])\n",
      "torch.Size([2708, 64])\n",
      "torch.Size([2708, 1433])\n",
      "torch.Size([2708, 64])\n",
      "torch.Size([2708, 1433])\n",
      "torch.Size([2708, 64])\n",
      "torch.Size([2708, 1433])\n",
      "torch.Size([2708, 64])\n",
      "torch.Size([2708, 1433])\n",
      "torch.Size([2708, 64])\n",
      "torch.Size([2708, 1433])\n",
      "torch.Size([2708, 64])\n",
      "torch.Size([2708, 1433])\n",
      "torch.Size([2708, 64])\n",
      "torch.Size([2708, 1433])\n",
      "torch.Size([2708, 64])\n"
     ]
    },
    {
     "name": "stderr",
     "output_type": "stream",
     "text": [
      "Training:  52%|██████████████████████████████████████████████████████████████████████████████████▏                                                                           | 260/500 [00:04<00:04, 53.95Epochs/s]"
     ]
    },
    {
     "name": "stdout",
     "output_type": "stream",
     "text": [
      "torch.Size([2708, 1433])\n",
      "torch.Size([2708, 64])\n",
      "torch.Size([2708, 1433])\n",
      "torch.Size([2708, 64])\n",
      "torch.Size([2708, 1433])\n",
      "torch.Size([2708, 64])\n",
      "torch.Size([2708, 1433])\n",
      "torch.Size([2708, 64])\n",
      "torch.Size([2708, 1433])\n",
      "torch.Size([2708, 64])\n",
      "torch.Size([2708, 1433])\n",
      "torch.Size([2708, 64])\n",
      "torch.Size([2708, 1433])\n",
      "torch.Size([2708, 64])\n",
      "torch.Size([2708, 1433])\n",
      "torch.Size([2708, 64])\n",
      "torch.Size([2708, 1433])\n",
      "torch.Size([2708, 64])\n",
      "torch.Size([2708, 1433])\n"
     ]
    },
    {
     "name": "stderr",
     "output_type": "stream",
     "text": [
      "Training:  53%|████████████████████████████████████████████████████████████████████████████████████                                                                          | 266/500 [00:04<00:04, 52.61Epochs/s]"
     ]
    },
    {
     "name": "stdout",
     "output_type": "stream",
     "text": [
      "torch.Size([2708, 64])\n",
      "torch.Size([2708, 1433])\n",
      "torch.Size([2708, 64])\n",
      "torch.Size([2708, 1433])\n"
     ]
    },
    {
     "name": "stderr",
     "output_type": "stream",
     "text": [
      "Training:  54%|█████████████████████████████████████████████████████████████████████████████████████▉                                                                        | 272/500 [00:04<00:04, 50.88Epochs/s]"
     ]
    },
    {
     "name": "stdout",
     "output_type": "stream",
     "text": [
      "torch.Size([2708, 64])\n",
      "torch.Size([2708, 1433])\n",
      "torch.Size([2708, 64])\n",
      "torch.Size([2708, 1433])\n",
      "torch.Size([2708, 64])\n",
      "torch.Size([2708, 1433])\n",
      "torch.Size([2708, 64])\n",
      "torch.Size([2708, 1433])\n",
      "torch.Size([2708, 64])\n",
      "torch.Size([2708, 1433])\n",
      "torch.Size([2708, 64])\n",
      "torch.Size([2708, 1433])\n",
      "torch.Size([2708, 64])\n",
      "torch.Size([2708, 1433])\n",
      "torch.Size([2708, 64])\n",
      "torch.Size([2708, 1433])\n",
      "torch.Size([2708, 64])\n",
      "torch.Size([2708, 1433])\n",
      "torch.Size([2708, 64])\n",
      "torch.Size([2708, 1433])\n",
      "torch.Size([2708, 64])\n",
      "torch.Size([2708, 1433])\n",
      "torch.Size([2708, 64])\n",
      "torch.Size([2708, 1433])\n"
     ]
    },
    {
     "name": "stderr",
     "output_type": "stream",
     "text": [
      "Training:  57%|██████████████████████████████████████████████████████████████████████████████████████████                                                                    | 285/500 [00:05<00:03, 54.59Epochs/s]"
     ]
    },
    {
     "name": "stdout",
     "output_type": "stream",
     "text": [
      "torch.Size([2708, 64])\n",
      "torch.Size([2708, 1433])\n",
      "torch.Size([2708, 64])\n",
      "torch.Size([2708, 1433])\n",
      "torch.Size([2708, 64])\n",
      "torch.Size([2708, 1433])\n",
      "torch.Size([2708, 64])\n",
      "torch.Size([2708, 1433])\n",
      "torch.Size([2708, 64])\n",
      "torch.Size([2708, 1433])\n",
      "torch.Size([2708, 64])\n",
      "torch.Size([2708, 1433])\n",
      "torch.Size([2708, 64])\n",
      "torch.Size([2708, 1433])\n",
      "torch.Size([2708, 64])\n",
      "torch.Size([2708, 1433])\n",
      "torch.Size([2708, 64])\n",
      "torch.Size([2708, 1433])\n",
      "torch.Size([2708, 64])\n",
      "torch.Size([2708, 1433])\n",
      "torch.Size([2708, 64])\n",
      "torch.Size([2708, 1433])\n",
      "torch.Size([2708, 64])\n",
      "torch.Size([2708, 1433])\n",
      "torch.Size([2708, 64])\n"
     ]
    },
    {
     "name": "stderr",
     "output_type": "stream",
     "text": [
      "Training:  59%|█████████████████████████████████████████████████████████████████████████████████████████████▊                                                                | 297/500 [00:05<00:03, 55.75Epochs/s]"
     ]
    },
    {
     "name": "stdout",
     "output_type": "stream",
     "text": [
      "torch.Size([2708, 1433])\n",
      "torch.Size([2708, 64])\n",
      "torch.Size([2708, 1433])\n",
      "torch.Size([2708, 64])\n",
      "torch.Size([2708, 1433])\n",
      "torch.Size([2708, 64])\n",
      "torch.Size([2708, 1433])\n",
      "torch.Size([2708, 64])\n",
      "torch.Size([2708, 1433])\n",
      "torch.Size([2708, 64])\n",
      "torch.Size([2708, 1433])\n",
      "torch.Size([2708, 64])\n",
      "torch.Size([2708, 1433])\n",
      "torch.Size([2708, 64])\n",
      "torch.Size([2708, 1433])\n",
      "torch.Size([2708, 64])\n",
      "torch.Size([2708, 1433])\n",
      "torch.Size([2708, 64])\n",
      "torch.Size([2708, 1433])\n",
      "torch.Size([2708, 64])\n",
      "torch.Size([2708, 1433])\n",
      "torch.Size([2708, 64])\n",
      "torch.Size([2708, 1433])\n",
      "torch.Size([2708, 64])\n",
      "torch.Size([2708, 1433])\n",
      "torch.Size([2708, 64])\n"
     ]
    },
    {
     "name": "stderr",
     "output_type": "stream",
     "text": [
      "Training:  62%|█████████████████████████████████████████████████████████████████████████████████████████████████▉                                                            | 310/500 [00:05<00:03, 57.30Epochs/s]"
     ]
    },
    {
     "name": "stdout",
     "output_type": "stream",
     "text": [
      "torch.Size([2708, 1433])\n",
      "torch.Size([2708, 64])\n",
      "torch.Size([2708, 1433])\n",
      "torch.Size([2708, 64])\n",
      "torch.Size([2708, 1433])\n",
      "torch.Size([2708, 64])\n",
      "torch.Size([2708, 1433])\n",
      "torch.Size([2708, 64])\n",
      "torch.Size([2708, 1433])\n",
      "torch.Size([2708, 64])\n",
      "torch.Size([2708, 1433])\n",
      "torch.Size([2708, 64])\n",
      "torch.Size([2708, 1433])\n",
      "torch.Size([2708, 64])\n",
      "torch.Size([2708, 1433])\n",
      "torch.Size([2708, 64])\n",
      "torch.Size([2708, 1433])\n",
      "torch.Size([2708, 64])\n",
      "torch.Size([2708, 1433])\n",
      "torch.Size([2708, 64])\n",
      "torch.Size([2708, 1433])\n",
      "torch.Size([2708, 64])\n",
      "torch.Size([2708, 1433])\n",
      "torch.Size([2708, 64])\n",
      "torch.Size([2708, 1433])\n",
      "torch.Size([2708, 64])\n"
     ]
    },
    {
     "name": "stderr",
     "output_type": "stream",
     "text": [
      "Training:  64%|█████████████████████████████████████████████████████████████████████████████████████████████████████▊                                                        | 322/500 [00:05<00:03, 55.90Epochs/s]"
     ]
    },
    {
     "name": "stdout",
     "output_type": "stream",
     "text": [
      "torch.Size([2708, 1433])\n",
      "torch.Size([2708, 64])\n",
      "torch.Size([2708, 1433])\n",
      "torch.Size([2708, 64])\n",
      "torch.Size([2708, 1433])\n",
      "torch.Size([2708, 64])\n",
      "torch.Size([2708, 1433])\n",
      "torch.Size([2708, 64])\n",
      "torch.Size([2708, 1433])\n",
      "torch.Size([2708, 64])\n",
      "torch.Size([2708, 1433])\n",
      "torch.Size([2708, 64])\n",
      "torch.Size([2708, 1433])\n",
      "torch.Size([2708, 64])\n",
      "torch.Size([2708, 1433])\n",
      "torch.Size([2708, 64])\n",
      "torch.Size([2708, 1433])\n",
      "torch.Size([2708, 64])\n",
      "torch.Size([2708, 1433])\n",
      "torch.Size([2708, 64])\n",
      "torch.Size([2708, 1433])\n",
      "torch.Size([2708, 64])\n",
      "torch.Size([2708, 1433])\n",
      "torch.Size([2708, 64])\n",
      "torch.Size([2708, 1433])\n",
      "torch.Size([2708, 64])\n"
     ]
    },
    {
     "name": "stderr",
     "output_type": "stream",
     "text": [
      "Training:  66%|███████████████████████████████████████████████████████████████████████████████████████████████████████▉                                                      | 329/500 [00:05<00:02, 57.57Epochs/s]"
     ]
    },
    {
     "name": "stdout",
     "output_type": "stream",
     "text": [
      "torch.Size([2708, 1433])\n",
      "torch.Size([2708, 64])\n",
      "torch.Size([2708, 1433])\n",
      "torch.Size([2708, 64])\n",
      "torch.Size([2708, 1433])\n",
      "torch.Size([2708, 64])\n",
      "torch.Size([2708, 1433])\n",
      "torch.Size([2708, 64])\n",
      "torch.Size([2708, 1433])\n",
      "torch.Size([2708, 64])\n",
      "torch.Size([2708, 1433])\n",
      "torch.Size([2708, 64])\n",
      "torch.Size([2708, 1433])\n",
      "torch.Size([2708, 64])\n",
      "torch.Size([2708, 1433])\n",
      "torch.Size([2708, 64])\n",
      "torch.Size([2708, 1433])\n",
      "torch.Size([2708, 64])\n",
      "torch.Size([2708, 1433])\n",
      "torch.Size([2708, 64])\n",
      "torch.Size([2708, 1433])\n",
      "torch.Size([2708, 64])\n"
     ]
    },
    {
     "name": "stderr",
     "output_type": "stream",
     "text": [
      "Training:  67%|█████████████████████████████████████████████████████████████████████████████████████████████████████████▊                                                    | 335/500 [00:05<00:02, 57.01Epochs/s]"
     ]
    },
    {
     "name": "stdout",
     "output_type": "stream",
     "text": [
      "torch.Size([2708, 1433])\n",
      "torch.Size([2708, 64])\n",
      "torch.Size([2708, 1433])\n",
      "torch.Size([2708, 64])\n"
     ]
    },
    {
     "name": "stderr",
     "output_type": "stream",
     "text": [
      "Training:  68%|███████████████████████████████████████████████████████████████████████████████████████████████████████████▊                                                  | 341/500 [00:06<00:02, 56.48Epochs/s]"
     ]
    },
    {
     "name": "stdout",
     "output_type": "stream",
     "text": [
      "torch.Size([2708, 1433])\n",
      "torch.Size([2708, 64])\n",
      "torch.Size([2708, 1433])\n",
      "torch.Size([2708, 64])\n",
      "torch.Size([2708, 1433])\n",
      "torch.Size([2708, 64])\n",
      "torch.Size([2708, 1433])\n",
      "torch.Size([2708, 64])\n",
      "torch.Size([2708, 1433])\n",
      "torch.Size([2708, 64])\n",
      "torch.Size([2708, 1433])\n",
      "torch.Size([2708, 64])\n",
      "torch.Size([2708, 1433])\n",
      "torch.Size([2708, 64])\n",
      "torch.Size([2708, 1433])\n",
      "torch.Size([2708, 64])\n",
      "torch.Size([2708, 1433])\n",
      "torch.Size([2708, 64])\n",
      "torch.Size([2708, 1433])\n",
      "torch.Size([2708, 64])\n",
      "torch.Size([2708, 1433])\n",
      "torch.Size([2708, 64])\n"
     ]
    },
    {
     "name": "stderr",
     "output_type": "stream",
     "text": [
      "Training:  70%|█████████████████████████████████████████████████████████████████████████████████████████████████████████████▉                                                | 348/500 [00:06<00:02, 58.02Epochs/s]"
     ]
    },
    {
     "name": "stdout",
     "output_type": "stream",
     "text": [
      "torch.Size([2708, 1433])\n",
      "torch.Size([2708, 64])\n",
      "torch.Size([2708, 1433])\n",
      "torch.Size([2708, 64])\n"
     ]
    },
    {
     "name": "stderr",
     "output_type": "stream",
     "text": [
      "Training:  71%|███████████████████████████████████████████████████████████████████████████████████████████████████████████████▊                                              | 354/500 [00:06<00:02, 57.24Epochs/s]"
     ]
    },
    {
     "name": "stdout",
     "output_type": "stream",
     "text": [
      "torch.Size([2708, 1433])\n",
      "torch.Size([2708, 64])\n",
      "torch.Size([2708, 1433])\n",
      "torch.Size([2708, 64])\n",
      "torch.Size([2708, 1433])\n",
      "torch.Size([2708, 64])\n",
      "torch.Size([2708, 1433])\n",
      "torch.Size([2708, 64])\n",
      "torch.Size([2708, 1433])\n",
      "torch.Size([2708, 64])\n",
      "torch.Size([2708, 1433])\n",
      "torch.Size([2708, 64])\n",
      "torch.Size([2708, 1433])\n",
      "torch.Size([2708, 64])\n",
      "torch.Size([2708, 1433])\n",
      "torch.Size([2708, 64])\n",
      "torch.Size([2708, 1433])\n",
      "torch.Size([2708, 64])\n",
      "torch.Size([2708, 1433])\n",
      "torch.Size([2708, 64])\n",
      "torch.Size([2708, 1433])\n",
      "torch.Size([2708, 64])\n"
     ]
    },
    {
     "name": "stderr",
     "output_type": "stream",
     "text": [
      "Training:  72%|█████████████████████████████████████████████████████████████████████████████████████████████████████████████████▊                                            | 360/500 [00:06<00:02, 57.47Epochs/s]"
     ]
    },
    {
     "name": "stdout",
     "output_type": "stream",
     "text": [
      "torch.Size([2708, 1433])\n",
      "torch.Size([2708, 64])\n",
      "torch.Size([2708, 1433])\n",
      "torch.Size([2708, 64])\n"
     ]
    },
    {
     "name": "stderr",
     "output_type": "stream",
     "text": [
      "Training:  73%|███████████████████████████████████████████████████████████████████████████████████████████████████████████████████▋                                          | 366/500 [00:06<00:02, 56.85Epochs/s]"
     ]
    },
    {
     "name": "stdout",
     "output_type": "stream",
     "text": [
      "torch.Size([2708, 1433])\n",
      "torch.Size([2708, 64])\n",
      "torch.Size([2708, 1433])\n",
      "torch.Size([2708, 64])\n",
      "torch.Size([2708, 1433])\n",
      "torch.Size([2708, 64])\n",
      "torch.Size([2708, 1433])\n",
      "torch.Size([2708, 64])\n",
      "torch.Size([2708, 1433])\n",
      "torch.Size([2708, 64])\n",
      "torch.Size([2708, 1433])\n",
      "torch.Size([2708, 64])\n",
      "torch.Size([2708, 1433])\n",
      "torch.Size([2708, 64])\n",
      "torch.Size([2708, 1433])\n",
      "torch.Size([2708, 64])\n",
      "torch.Size([2708, 1433])\n",
      "torch.Size([2708, 64])\n",
      "torch.Size([2708, 1433])\n",
      "torch.Size([2708, 64])\n",
      "torch.Size([2708, 1433])\n",
      "torch.Size([2708, 64])\n"
     ]
    },
    {
     "name": "stderr",
     "output_type": "stream",
     "text": [
      "Training:  74%|█████████████████████████████████████████████████████████████████████████████████████████████████████████████████████▌                                        | 372/500 [00:06<00:02, 56.65Epochs/s]"
     ]
    },
    {
     "name": "stdout",
     "output_type": "stream",
     "text": [
      "torch.Size([2708, 1433])\n",
      "torch.Size([2708, 64])\n",
      "torch.Size([2708, 1433])\n",
      "torch.Size([2708, 64])\n",
      "torch.Size([2708, 1433])\n"
     ]
    },
    {
     "name": "stderr",
     "output_type": "stream",
     "text": [
      "Training:  76%|███████████████████████████████████████████████████████████████████████████████████████████████████████████████████████▍                                      | 378/500 [00:06<00:02, 57.29Epochs/s]"
     ]
    },
    {
     "name": "stdout",
     "output_type": "stream",
     "text": [
      "torch.Size([2708, 64])\n",
      "torch.Size([2708, 1433])\n",
      "torch.Size([2708, 64])\n",
      "torch.Size([2708, 1433])\n",
      "torch.Size([2708, 64])\n",
      "torch.Size([2708, 1433])\n",
      "torch.Size([2708, 64])\n",
      "torch.Size([2708, 1433])\n",
      "torch.Size([2708, 64])\n",
      "torch.Size([2708, 1433])\n",
      "torch.Size([2708, 64])\n",
      "torch.Size([2708, 1433])\n",
      "torch.Size([2708, 64])\n",
      "torch.Size([2708, 1433])\n",
      "torch.Size([2708, 64])\n",
      "torch.Size([2708, 1433])\n",
      "torch.Size([2708, 64])\n",
      "torch.Size([2708, 1433])\n",
      "torch.Size([2708, 64])\n",
      "torch.Size([2708, 1433])\n",
      "torch.Size([2708, 64])\n",
      "torch.Size([2708, 1433])\n",
      "torch.Size([2708, 64])\n",
      "torch.Size([2708, 1433])\n",
      "torch.Size([2708, 64])\n"
     ]
    },
    {
     "name": "stderr",
     "output_type": "stream",
     "text": [
      "Training:  78%|███████████████████████████████████████████████████████████████████████████████████████████████████████████████████████████▌                                  | 391/500 [00:06<00:01, 56.81Epochs/s]"
     ]
    },
    {
     "name": "stdout",
     "output_type": "stream",
     "text": [
      "torch.Size([2708, 1433])\n",
      "torch.Size([2708, 64])\n",
      "torch.Size([2708, 1433])\n",
      "torch.Size([2708, 64])\n",
      "torch.Size([2708, 1433])\n",
      "torch.Size([2708, 64])\n",
      "torch.Size([2708, 1433])\n",
      "torch.Size([2708, 64])\n",
      "torch.Size([2708, 1433])\n",
      "torch.Size([2708, 64])\n",
      "torch.Size([2708, 1433])\n",
      "torch.Size([2708, 64])\n",
      "torch.Size([2708, 1433])\n",
      "torch.Size([2708, 64])\n",
      "torch.Size([2708, 1433])\n",
      "torch.Size([2708, 64])\n",
      "torch.Size([2708, 1433])\n",
      "torch.Size([2708, 64])\n",
      "torch.Size([2708, 1433])\n",
      "torch.Size([2708, 64])\n",
      "torch.Size([2708, 1433])\n",
      "torch.Size([2708, 64])\n",
      "torch.Size([2708, 1433])\n",
      "torch.Size([2708, 64])\n",
      "torch.Size([2708, 1433])\n",
      "torch.Size([2708, 64])\n"
     ]
    },
    {
     "name": "stderr",
     "output_type": "stream",
     "text": [
      "Training:  81%|███████████████████████████████████████████████████████████████████████████████████████████████████████████████████████████████▎                              | 403/500 [00:07<00:01, 56.88Epochs/s]"
     ]
    },
    {
     "name": "stdout",
     "output_type": "stream",
     "text": [
      "torch.Size([2708, 1433])\n",
      "torch.Size([2708, 64])\n",
      "torch.Size([2708, 1433])\n",
      "torch.Size([2708, 64])\n",
      "torch.Size([2708, 1433])\n",
      "torch.Size([2708, 64])\n",
      "torch.Size([2708, 1433])\n",
      "torch.Size([2708, 64])\n",
      "torch.Size([2708, 1433])\n",
      "torch.Size([2708, 64])\n",
      "torch.Size([2708, 1433])\n",
      "torch.Size([2708, 64])\n",
      "torch.Size([2708, 1433])\n",
      "torch.Size([2708, 64])\n",
      "torch.Size([2708, 1433])\n",
      "torch.Size([2708, 64])\n",
      "torch.Size([2708, 1433])\n",
      "torch.Size([2708, 64])\n",
      "torch.Size([2708, 1433])\n",
      "torch.Size([2708, 64])\n",
      "torch.Size([2708, 1433])\n",
      "torch.Size([2708, 64])\n",
      "torch.Size([2708, 1433])\n",
      "torch.Size([2708, 64])\n",
      "torch.Size([2708, 1433])\n",
      "torch.Size([2708, 64])\n"
     ]
    },
    {
     "name": "stderr",
     "output_type": "stream",
     "text": [
      "Training:  83%|███████████████████████████████████████████████████████████████████████████████████████████████████████████████████████████████████▍                          | 416/500 [00:07<00:01, 57.45Epochs/s]"
     ]
    },
    {
     "name": "stdout",
     "output_type": "stream",
     "text": [
      "torch.Size([2708, 1433])\n",
      "torch.Size([2708, 64])\n",
      "torch.Size([2708, 1433])\n",
      "torch.Size([2708, 64])\n",
      "torch.Size([2708, 1433])\n",
      "torch.Size([2708, 64])\n",
      "torch.Size([2708, 1433])\n",
      "torch.Size([2708, 64])\n",
      "torch.Size([2708, 1433])\n",
      "torch.Size([2708, 64])\n",
      "torch.Size([2708, 1433])\n",
      "torch.Size([2708, 64])\n",
      "torch.Size([2708, 1433])\n",
      "torch.Size([2708, 64])\n",
      "torch.Size([2708, 1433])\n",
      "torch.Size([2708, 64])\n",
      "torch.Size([2708, 1433])\n",
      "torch.Size([2708, 64])\n",
      "torch.Size([2708, 1433])\n",
      "torch.Size([2708, 64])\n",
      "torch.Size([2708, 1433])\n",
      "torch.Size([2708, 64])\n",
      "torch.Size([2708, 1433])\n",
      "torch.Size([2708, 64])\n",
      "torch.Size([2708, 1433])\n",
      "torch.Size([2708, 64])\n"
     ]
    },
    {
     "name": "stderr",
     "output_type": "stream",
     "text": [
      "Training:  86%|███████████████████████████████████████████████████████████████████████████████████████████████████████████████████████████████████████▏                      | 428/500 [00:07<00:01, 57.44Epochs/s]"
     ]
    },
    {
     "name": "stdout",
     "output_type": "stream",
     "text": [
      "torch.Size([2708, 1433])\n",
      "torch.Size([2708, 64])\n",
      "torch.Size([2708, 1433])\n",
      "torch.Size([2708, 64])\n",
      "torch.Size([2708, 1433])\n",
      "torch.Size([2708, 64])\n",
      "torch.Size([2708, 1433])\n",
      "torch.Size([2708, 64])\n",
      "torch.Size([2708, 1433])\n",
      "torch.Size([2708, 64])\n",
      "torch.Size([2708, 1433])\n",
      "torch.Size([2708, 64])\n",
      "torch.Size([2708, 1433])\n",
      "torch.Size([2708, 64])\n",
      "torch.Size([2708, 1433])\n",
      "torch.Size([2708, 64])\n",
      "torch.Size([2708, 1433])\n",
      "torch.Size([2708, 64])\n",
      "torch.Size([2708, 1433])\n",
      "torch.Size([2708, 64])\n",
      "torch.Size([2708, 1433])\n",
      "torch.Size([2708, 64])\n",
      "torch.Size([2708, 1433])\n",
      "torch.Size([2708, 64])\n",
      "torch.Size([2708, 1433])\n",
      "torch.Size([2708, 64])\n"
     ]
    },
    {
     "name": "stderr",
     "output_type": "stream",
     "text": [
      "Training:  88%|███████████████████████████████████████████████████████████████████████████████████████████████████████████████████████████████████████████▎                  | 441/500 [00:07<00:01, 56.95Epochs/s]"
     ]
    },
    {
     "name": "stdout",
     "output_type": "stream",
     "text": [
      "torch.Size([2708, 1433])\n",
      "torch.Size([2708, 64])\n",
      "torch.Size([2708, 1433])\n",
      "torch.Size([2708, 64])\n",
      "torch.Size([2708, 1433])\n",
      "torch.Size([2708, 64])\n",
      "torch.Size([2708, 1433])\n",
      "torch.Size([2708, 64])\n",
      "torch.Size([2708, 1433])\n",
      "torch.Size([2708, 64])\n",
      "torch.Size([2708, 1433])\n",
      "torch.Size([2708, 64])\n",
      "torch.Size([2708, 1433])\n",
      "torch.Size([2708, 64])\n",
      "torch.Size([2708, 1433])\n",
      "torch.Size([2708, 64])\n",
      "torch.Size([2708, 1433])\n",
      "torch.Size([2708, 64])\n",
      "torch.Size([2708, 1433])\n",
      "torch.Size([2708, 64])\n",
      "torch.Size([2708, 1433])\n",
      "torch.Size([2708, 64])\n",
      "torch.Size([2708, 1433])\n",
      "torch.Size([2708, 64])\n",
      "torch.Size([2708, 1433])\n",
      "torch.Size([2708, 64])\n"
     ]
    },
    {
     "name": "stderr",
     "output_type": "stream",
     "text": [
      "Training:  89%|█████████████████████████████████████████████████████████████████████████████████████████████████████████████████████████████████████████████▎                | 447/500 [00:07<00:00, 57.36Epochs/s]"
     ]
    },
    {
     "name": "stdout",
     "output_type": "stream",
     "text": [
      "torch.Size([2708, 1433])\n",
      "torch.Size([2708, 64])\n",
      "torch.Size([2708, 1433])\n",
      "torch.Size([2708, 64])\n",
      "torch.Size([2708, 1433])\n",
      "torch.Size([2708, 64])\n",
      "torch.Size([2708, 1433])\n",
      "torch.Size([2708, 64])\n",
      "torch.Size([2708, 1433])\n",
      "torch.Size([2708, 64])\n",
      "torch.Size([2708, 1433])\n",
      "torch.Size([2708, 64])\n",
      "torch.Size([2708, 1433])\n",
      "torch.Size([2708, 64])\n",
      "torch.Size([2708, 1433])\n",
      "torch.Size([2708, 64])\n",
      "torch.Size([2708, 1433])\n",
      "torch.Size([2708, 64])\n",
      "torch.Size([2708, 1433])\n",
      "torch.Size([2708, 64])\n",
      "torch.Size([2708, 1433])\n",
      "torch.Size([2708, 64])\n"
     ]
    },
    {
     "name": "stderr",
     "output_type": "stream",
     "text": [
      "Training:  91%|███████████████████████████████████████████████████████████████████████████████████████████████████████████████████████████████████████████████▏              | 453/500 [00:08<00:00, 56.55Epochs/s]"
     ]
    },
    {
     "name": "stdout",
     "output_type": "stream",
     "text": [
      "torch.Size([2708, 1433])\n",
      "torch.Size([2708, 64])\n",
      "torch.Size([2708, 1433])\n",
      "torch.Size([2708, 64])\n"
     ]
    },
    {
     "name": "stderr",
     "output_type": "stream",
     "text": [
      "Training:  92%|█████████████████████████████████████████████████████████████████████████████████████████████████████████████████████████████████████████████████▎            | 460/500 [00:08<00:00, 57.81Epochs/s]"
     ]
    },
    {
     "name": "stdout",
     "output_type": "stream",
     "text": [
      "torch.Size([2708, 1433])\n",
      "torch.Size([2708, 64])\n",
      "torch.Size([2708, 1433])\n",
      "torch.Size([2708, 64])\n",
      "torch.Size([2708, 1433])\n",
      "torch.Size([2708, 64])\n",
      "torch.Size([2708, 1433])\n",
      "torch.Size([2708, 64])\n",
      "torch.Size([2708, 1433])\n",
      "torch.Size([2708, 64])\n",
      "torch.Size([2708, 1433])\n",
      "torch.Size([2708, 64])\n",
      "torch.Size([2708, 1433])\n",
      "torch.Size([2708, 64])\n",
      "torch.Size([2708, 1433])\n",
      "torch.Size([2708, 64])\n",
      "torch.Size([2708, 1433])\n",
      "torch.Size([2708, 64])\n",
      "torch.Size([2708, 1433])\n",
      "torch.Size([2708, 64])\n",
      "torch.Size([2708, 1433])\n",
      "torch.Size([2708, 64])\n"
     ]
    },
    {
     "name": "stderr",
     "output_type": "stream",
     "text": [
      "Training:  93%|███████████████████████████████████████████████████████████████████████████████████████████████████████████████████████████████████████████████████▎          | 466/500 [00:08<00:00, 57.29Epochs/s]"
     ]
    },
    {
     "name": "stdout",
     "output_type": "stream",
     "text": [
      "torch.Size([2708, 1433])\n",
      "torch.Size([2708, 64])\n",
      "torch.Size([2708, 1433])\n",
      "torch.Size([2708, 64])\n"
     ]
    },
    {
     "name": "stderr",
     "output_type": "stream",
     "text": [
      "Training:  94%|█████████████████████████████████████████████████████████████████████████████████████████████████████████████████████████████████████████████████████▏        | 472/500 [00:08<00:00, 56.58Epochs/s]"
     ]
    },
    {
     "name": "stdout",
     "output_type": "stream",
     "text": [
      "torch.Size([2708, 1433])\n",
      "torch.Size([2708, 64])\n",
      "torch.Size([2708, 1433])\n",
      "torch.Size([2708, 64])\n",
      "torch.Size([2708, 1433])\n",
      "torch.Size([2708, 64])\n",
      "torch.Size([2708, 1433])\n",
      "torch.Size([2708, 64])\n",
      "torch.Size([2708, 1433])\n",
      "torch.Size([2708, 64])\n",
      "torch.Size([2708, 1433])\n",
      "torch.Size([2708, 64])\n",
      "torch.Size([2708, 1433])\n",
      "torch.Size([2708, 64])\n",
      "torch.Size([2708, 1433])\n",
      "torch.Size([2708, 64])\n",
      "torch.Size([2708, 1433])\n",
      "torch.Size([2708, 64])\n",
      "torch.Size([2708, 1433])\n",
      "torch.Size([2708, 64])\n",
      "torch.Size([2708, 1433])\n",
      "torch.Size([2708, 64])\n",
      "torch.Size([2708, 1433])\n",
      "torch.Size([2708, 64])\n",
      "torch.Size([2708, 1433])\n",
      "torch.Size([2708, 64])\n"
     ]
    },
    {
     "name": "stderr",
     "output_type": "stream",
     "text": [
      "Training:  97%|█████████████████████████████████████████████████████████████████████████████████████████████████████████████████████████████████████████████████████████▎    | 485/500 [00:08<00:00, 57.13Epochs/s]"
     ]
    },
    {
     "name": "stdout",
     "output_type": "stream",
     "text": [
      "torch.Size([2708, 1433])\n",
      "torch.Size([2708, 64])\n",
      "torch.Size([2708, 1433])\n",
      "torch.Size([2708, 64])\n",
      "torch.Size([2708, 1433])\n",
      "torch.Size([2708, 64])\n",
      "torch.Size([2708, 1433])\n",
      "torch.Size([2708, 64])\n",
      "torch.Size([2708, 1433])\n",
      "torch.Size([2708, 64])\n",
      "torch.Size([2708, 1433])\n",
      "torch.Size([2708, 64])\n",
      "torch.Size([2708, 1433])\n",
      "torch.Size([2708, 64])\n",
      "torch.Size([2708, 1433])\n",
      "torch.Size([2708, 64])\n",
      "torch.Size([2708, 1433])\n",
      "torch.Size([2708, 64])\n",
      "torch.Size([2708, 1433])\n",
      "torch.Size([2708, 64])\n",
      "torch.Size([2708, 1433])\n",
      "torch.Size([2708, 64])\n",
      "torch.Size([2708, 1433])\n",
      "torch.Size([2708, 64])\n",
      "torch.Size([2708, 1433])\n",
      "torch.Size([2708, 64])\n"
     ]
    },
    {
     "name": "stderr",
     "output_type": "stream",
     "text": [
      "Training:  99%|█████████████████████████████████████████████████████████████████████████████████████████████████████████████████████████████████████████████████████████████ | 497/500 [00:08<00:00, 56.69Epochs/s]"
     ]
    },
    {
     "name": "stdout",
     "output_type": "stream",
     "text": [
      "torch.Size([2708, 1433])\n",
      "torch.Size([2708, 64])\n",
      "torch.Size([2708, 1433])\n",
      "torch.Size([2708, 64])\n",
      "torch.Size([2708, 1433])\n",
      "torch.Size([2708, 64])\n",
      "torch.Size([2708, 1433])\n",
      "torch.Size([2708, 64])\n",
      "torch.Size([2708, 1433])\n",
      "torch.Size([2708, 64])\n",
      "torch.Size([2708, 1433])\n",
      "torch.Size([2708, 64])\n",
      "torch.Size([2708, 1433])\n",
      "torch.Size([2708, 64])\n",
      "torch.Size([2708, 1433])\n",
      "torch.Size([2708, 64])\n",
      "torch.Size([2708, 1433])\n",
      "torch.Size([2708, 64])\n",
      "torch.Size([2708, 1433])\n",
      "torch.Size([2708, 64])\n"
     ]
    },
    {
     "name": "stderr",
     "output_type": "stream",
     "text": [
      "Training: 100%|██████████████████████████████████████████████████████████████████████████████████████████████████████████████████████████████████████████████████████████████| 500/500 [00:08<00:00, 56.35Epochs/s]"
     ]
    },
    {
     "name": "stdout",
     "output_type": "stream",
     "text": [
      "Maximum test set accuracy: 0.768\n",
      "Minimum loss: 0.10215006023645401\n",
      "torch.Size([2708, 1433])\n",
      "torch.Size([2708, 64])\n",
      "Saving Model Predictions for Model Type GAT\n",
      "\n"
     ]
    },
    {
     "name": "stderr",
     "output_type": "stream",
     "text": [
      "\n"
     ]
    }
   ],
   "source": [
    "if 'IS_GRADESCOPE_ENV' not in os.environ:\n",
    "    args = {\n",
    "        'model_type': 'GAT', \n",
    "        'dataset': 'cora', \n",
    "        'num_layers': 2, \n",
    "        'normalize': True, \n",
    "        'bias': False, \n",
    "        'heads': 2, \n",
    "        'negative_slope': 0.2, \n",
    "        'batch_size': 32, \n",
    "        'hidden_dim': 32, \n",
    "        'dropout': 0.5, \n",
    "        'epochs': 500, \n",
    "        'opt': 'adam', \n",
    "        'opt_scheduler': 'none', \n",
    "        'opt_restart': 0, \n",
    "        'weight_decay': 5e-3, \n",
    "        'lr': 0.01\n",
    "    }\n",
    "\n",
    "    gat_plot_data = train_wrapper(args)"
   ]
  },
  {
   "cell_type": "code",
   "execution_count": null,
   "metadata": {
    "colab": {
     "base_uri": "https://localhost:8080/",
     "height": 281
    },
    "id": "zGMDAEZ8JLKV",
    "outputId": "a9a0004a-2e53-4a94-e7fe-ecbb8f508a8c"
   },
   "outputs": [],
   "source": [
    "if 'IS_GRADESCOPE_ENV' not in os.environ:\n",
    "    \n",
    "    # GraphSage plot\n",
    "    if 'graph_sage_plot_data' in locals():\n",
    "        plt.title(graph_sage_plot_data.dataset_name)\n",
    "        plt.plot(graph_sage_plot_data.losses, label=\"training loss\" + \" - \" + graph_sage_plot_data.model_type)\n",
    "        plt.plot(graph_sage_plot_data.test_accuracies, label=\"test accuracy\" + \" - \" + graph_sage_plot_data.model_type)\n",
    "\n",
    "    # GAT plot\n",
    "    if 'gat_plot_data' in locals():\n",
    "        plt.title(gat_plot_data.dataset_name)\n",
    "        plt.plot(gat_plot_data.losses, label=\"training loss\" + \" - \" + gat_plot_data.model_type)\n",
    "        plt.plot(gat_plot_data.test_accuracies, label=\"test accuracy\" + \" - \" + gat_plot_data.model_type)\n",
    "    \n",
    "    plt.legend()\n",
    "    plt.show()"
   ]
  },
  {
   "cell_type": "markdown",
   "metadata": {
    "id": "gHELqjARZ1W5"
   },
   "source": [
    "## Question 1.1: What is the maximum accuracy obtained on the test set for GraphSage? (20 points)\n",
    "\n",
    "Running the cell above will show the results of your best model and save your best model's predictions to a file named *CORA-Node-GraphSage.csv*.  \n",
    "\n",
    "As you have seen before you can view this file by clicking on the *Folder* icon on the left side pannel. When you sumbit your assignment, you will have to download this file and attatch it to your submission."
   ]
  },
  {
   "cell_type": "markdown",
   "metadata": {
    "id": "PlCtBEBLMBkR"
   },
   "source": [
    "## Question 1.2: What is the maximum accuracy obtained on test set for GAT? (20 points)\n",
    "\n",
    "\n",
    "Running the training cell above will also save your best GAT model predictions as *CORA-Node-GAT.csv*.  \n",
    "\n",
    "When you sumbit your assignment, you will have to download this file and attatch it to your submission.\n"
   ]
  },
  {
   "cell_type": "markdown",
   "metadata": {
    "id": "Nwwq0nSdmsOL"
   },
   "source": [
    "# 2) DeepSNAP Basics\n",
    "\n",
    "In previous Colabs, you have seen graph class (NetworkX) and tensor (PyG) representations of graphs. The graph class `nx.Graph` provides rich analysis and manipulation functionalities, such as computing the clustering coefficient and PageRank vector for a graph. When working with PyG you were then introduced to tensor based representation of graphs (i.e. edge tensor `edge_index` and node attributes tensors `x` and `y`). \n",
    "\n",
    "In this section, we present DeepSNAP, a package that combines the benefits of both graph representations and offers a full pipeline for GNN training / validation / and testing. Namely, DeepSNAP includes a graph class representation to allow for more efficient graph manipulation and analysis in addition to a tensor based representation for efficient message passing computation.\n",
    "\n"
   ]
  },
  {
   "cell_type": "markdown",
   "metadata": {
    "id": "Sf7vUmdNKCjA"
   },
   "source": [
    "In general, [DeepSNAP](https://github.com/snap-stanford/deepsnap) is a Python library to assist efficient deep learning on graphs. DeepSNAP enables flexible graph manipulation, standard graph learning pipelines, heterogeneous graphs, and overall represents a simple graph learning API. In more detail:\n",
    "\n",
    "1. DeepSNAP allows for sophisticated graph manipulations, such as feature computation, pretraining, subgraph extraction etc. during/before training.\n",
    "2. DeepSNAP standardizes the pipelines for node, edge, and graph-level prediction tasks under inductive or transductive settings. Specifically, DeepSNAP removes previous non-trivial / repetative design choices left to the user, such as how to split datasets. DeepSNAP thus greatly saves in coding efforts and enables fair model comparison.\n",
    "3. Many real-world graphs are heterogeneous in nature (i.e. include different node types or edge types). However, most packages lack complete support for heterogeneous graphs, including data storage and flexible message passing. DeepSNAP provides an efficient and flexible heterogeneous graph that supports both node and edge heterogeneity.\n",
    "\n",
    "In this next section, you will use DeepSNAP for graph manipulation and dataset splitting.\n",
    "\n",
    "[DeepSNAP](https://github.com/snap-stanford/deepsnap) is a newly released project and it is still under development. If you find any bugs or have any improvement ideas, feel free to raise issues or create pull requests on the GitHub directly :)"
   ]
  },
  {
   "cell_type": "markdown",
   "metadata": {
    "id": "20SvvngpQmmQ"
   },
   "source": [
    "## Setup"
   ]
  },
  {
   "cell_type": "code",
   "execution_count": 34,
   "metadata": {
    "id": "zfbBVFmAQlwz"
   },
   "outputs": [],
   "source": [
    "import torch\n",
    "import networkx as nx\n",
    "import matplotlib.pyplot as plt\n",
    "\n",
    "from deepsnap.graph import Graph\n",
    "from deepsnap.batch import Batch\n",
    "from deepsnap.dataset import GraphDataset\n",
    "from torch_geometric.datasets import Planetoid, TUDataset\n",
    "\n",
    "from torch.utils.data import DataLoader\n",
    "\n",
    "def visualize(G, color_map=None, seed=123):\n",
    "  if color_map is None:\n",
    "    color_map = '#c92506'\n",
    "  plt.figure(figsize=(8, 8))\n",
    "  nodes = nx.draw_networkx_nodes(G, pos=nx.spring_layout(G, seed=seed), \\\n",
    "                                 label=None, node_color=color_map, node_shape='o', node_size=150)\n",
    "  edges = nx.draw_networkx_edges(G, pos=nx.spring_layout(G, seed=seed), alpha=0.5)\n",
    "  if color_map is not None:\n",
    "    plt.scatter([],[], c='#c92506', label='Nodes with label 0', edgecolors=\"black\", s=140)\n",
    "    plt.scatter([],[], c='#fcec00', label='Nodes with label 1', edgecolors=\"black\", s=140)\n",
    "    plt.legend(prop={'size': 13}, handletextpad=0)\n",
    "  nodes.set_edgecolor('black')\n",
    "  plt.show()"
   ]
  },
  {
   "cell_type": "markdown",
   "metadata": {
    "id": "ic-o1P3r6hr2"
   },
   "source": [
    "## DeepSNAP Graph\n",
    "\n",
    "The `deepsnap.graph.Graph` class is the core class of DeepSNAP. It not only represents a graph in tensor format but also includes a graph object from a graph manipulation package.\n",
    "\n",
    "Currently DeepSNAP supports [NetworkX](https://networkx.org/) and [Snap.py](https://snap.stanford.edu/snappy/doc/index.html) as back end graph manipulation packages.\n",
    "\n",
    "In this Colab, you will focus on using NetworkX as the back end graph manipulation package."
   ]
  },
  {
   "cell_type": "markdown",
   "metadata": {
    "id": "Ispq_lIoJl_z"
   },
   "source": [
    "### NetworkX to DeepSNAP\n",
    "To begin, you will first work through converting a simple random NetworkX graph to a DeepSNAP graph."
   ]
  },
  {
   "cell_type": "code",
   "execution_count": 35,
   "metadata": {
    "colab": {
     "base_uri": "https://localhost:8080/",
     "height": 568
    },
    "id": "zT5qca3x6XpG",
    "outputId": "317347f7-a358-4c6a-e8ef-d90fcf052ccd"
   },
   "outputs": [
    {
     "name": "stdout",
     "output_type": "stream",
     "text": [
      "(0, {'node_feature': tensor([0.2609, 0.4663, 0.3076, 0.2616, 0.6897]), 'node_label': tensor(0)})\n"
     ]
    },
    {
     "data": {
      "image/png": "[encoded data removed]",
      "text/plain": [
       "<Figure size 800x800 with 1 Axes>"
      ]
     },
     "metadata": {},
     "output_type": "display_data"
    },
    {
     "name": "stdout",
     "output_type": "stream",
     "text": [
      "Graph(G=[], edge_index=[2, 524], edge_label_index=[2, 524], node_feature=[100, 5], node_label=[100], node_label_index=[100])\n",
      "Node feature (node_feature) has shape torch.Size([100, 5]) and type torch.float32\n",
      "Node label (node_label) has shape torch.Size([100]) and type torch.int64\n",
      "Edge index (edge_index) has shape torch.Size([2, 524]) and type torch.int64\n",
      "The DeepSNAP graph has <class 'networkx.classes.graph.Graph'> as the internal manupulation graph\n"
     ]
    }
   ],
   "source": [
    "if 'IS_GRADESCOPE_ENV' not in os.environ:\n",
    "  num_nodes = 100\n",
    "  p = 0.05\n",
    "  seed = 100\n",
    "\n",
    "  # Generate a networkx random graph\n",
    "  G = nx.gnp_random_graph(num_nodes, p, seed=seed)\n",
    "\n",
    "  # Generate some random node features and labels\n",
    "  node_feature = {node : torch.rand([5, ]) for node in G.nodes()}\n",
    "  node_label = {node : torch.randint(0, 2, ()) for node in G.nodes()}\n",
    "\n",
    "  # Set the random features and labels to G\n",
    "  nx.set_node_attributes(G, node_feature, name='node_feature')\n",
    "  nx.set_node_attributes(G, node_label, name='node_label')\n",
    "\n",
    "  # Print one node example\n",
    "  for node in G.nodes(data=True):\n",
    "    print(node)\n",
    "    break\n",
    "\n",
    "  color_map = ['#c92506' if node[1]['node_label'].item() == 0 else '#fcec00' for node in G.nodes(data=True)]\n",
    "\n",
    "  # Visualize the graph\n",
    "  visualize(G, color_map=color_map)\n",
    "\n",
    "  # Transform the networkx graph into the deepsnap graph\n",
    "  graph = Graph(G)\n",
    "\n",
    "  # Print out the general deepsnap graph information\n",
    "  print(graph)\n",
    "\n",
    "  # DeepSNAP will convert node attributes to tensors\n",
    "  # Notice the type of tensors\n",
    "  print(\"Node feature (node_feature) has shape {} and type {}\".format(graph.node_feature.shape, graph.node_feature.dtype))\n",
    "  print(\"Node label (node_label) has shape {} and type {}\".format(graph.node_label.shape, graph.node_label.dtype))\n",
    "\n",
    "  # DeepSNAP will also generate the edge_index tensor\n",
    "  print(\"Edge index (edge_index) has shape {} and type {}\".format(graph.edge_index.shape, graph.edge_index.dtype))\n",
    "\n",
    "  # Different from only storing tensors, deepsnap graph also references to the networkx graph\n",
    "  # We will discuss why the reference will be helpful later\n",
    "  print(\"The DeepSNAP graph has {} as the internal manupulation graph\".format(type(graph.G)))"
   ]
  },
  {
   "cell_type": "markdown",
   "metadata": {
    "id": "PNMbc307KOQD"
   },
   "source": [
    "### Tensor graph attributes\n",
    "\n",
    "Similar to the native PyG tensor based representation, DeepSNAP includes a graph tensor based representation with three levels of graph attributes. In this example, you primarily have **node level** attributes including `node_feature` and `node_label`. The other two levels of attributes are **edge** and **graph** attributes. Similar to node level attributes, these attributes are prefixed by their respective type. For example, the features become `edge_feature` or `graph_feature` and labels becomes `edge_label` or `graph_label` etc."
   ]
  },
  {
   "cell_type": "markdown",
   "metadata": {
    "id": "G8Xz58_Da0qL"
   },
   "source": [
    "### Graph Object\n",
    "DeepSNAP allows you to easily access graph information  through the backend graph object and graph manipulation package."
   ]
  },
  {
   "cell_type": "code",
   "execution_count": 36,
   "metadata": {
    "colab": {
     "base_uri": "https://localhost:8080/"
    },
    "id": "dLo4zWAoeg6S",
    "outputId": "679a4b14-a3a5-4b56-af91-b7fe8b4689f0"
   },
   "outputs": [
    {
     "name": "stdout",
     "output_type": "stream",
     "text": [
      "The random graph has 100 nodes\n",
      "The random graph has 262 edges\n"
     ]
    }
   ],
   "source": [
    "if 'IS_GRADESCOPE_ENV' not in os.environ:\n",
    "  # Number of nodes\n",
    "  print(\"The random graph has {} nodes\".format(graph.num_nodes))\n",
    "\n",
    "  # Number of edges\n",
    "  print(\"The random graph has {} edges\".format(graph.num_edges))"
   ]
  },
  {
   "cell_type": "markdown",
   "metadata": {
    "id": "Po7IaRmwblI5"
   },
   "source": [
    "### PyG to DeepSNAP\n",
    "\n",
    "Lastly, DeepSNAP provides functionality to automatically transform a PyG dataset into a list of DeepSNAP graphs.\n",
    "\n",
    "Here you transform the CORA dataset into a list with one DeepSNAP graph (i.e. the singular CORA graph)."
   ]
  },
  {
   "cell_type": "code",
   "execution_count": 37,
   "metadata": {
    "colab": {
     "base_uri": "https://localhost:8080/"
    },
    "id": "ZFkg2kCgcFwR",
    "outputId": "58e984f7-5b72-4781-a90b-7a93f66c49de"
   },
   "outputs": [
    {
     "name": "stderr",
     "output_type": "stream",
     "text": [
      "Downloading https://github.com/kimiyoung/planetoid/raw/master/data/ind.cora.x\n",
      "Downloading https://github.com/kimiyoung/planetoid/raw/master/data/ind.cora.tx\n",
      "Downloading https://github.com/kimiyoung/planetoid/raw/master/data/ind.cora.allx\n",
      "Downloading https://github.com/kimiyoung/planetoid/raw/master/data/ind.cora.y\n",
      "Downloading https://github.com/kimiyoung/planetoid/raw/master/data/ind.cora.ty\n",
      "Downloading https://github.com/kimiyoung/planetoid/raw/master/data/ind.cora.ally\n",
      "Downloading https://github.com/kimiyoung/planetoid/raw/master/data/ind.cora.graph\n",
      "Downloading https://github.com/kimiyoung/planetoid/raw/master/data/ind.cora.test.index\n"
     ]
    },
    {
     "name": "stdout",
     "output_type": "stream",
     "text": [
      "Graph(G=[], edge_index=[2, 10556], edge_label_index=[2, 10556], node_feature=[2708, 1433], node_label=[2708], node_label_index=[2708])\n"
     ]
    },
    {
     "name": "stderr",
     "output_type": "stream",
     "text": [
      "Processing...\n",
      "Done!\n"
     ]
    }
   ],
   "source": [
    "if 'IS_GRADESCOPE_ENV' not in os.environ:\n",
    "  root = './tmp/cora'\n",
    "  name = 'Cora'\n",
    "\n",
    "  # The Cora dataset\n",
    "  pyg_dataset= Planetoid(root, name)\n",
    "\n",
    "  # PyG dataset to a list of deepsnap graphs\n",
    "  graphs = GraphDataset.pyg_to_graphs(pyg_dataset)\n",
    "\n",
    "  # Get the first deepsnap graph (CORA only has one graph)\n",
    "  graph = graphs[0]\n",
    "  print(graph)"
   ]
  },
  {
   "cell_type": "markdown",
   "metadata": {
    "id": "NLm5vVYMAP2x"
   },
   "source": [
    "## Question 2.1: How many classes are in the CORA graph? How many features does each node have? (5 points)\n"
   ]
  },
  {
   "cell_type": "code",
   "execution_count": 38,
   "metadata": {
    "colab": {
     "base_uri": "https://localhost:8080/"
    },
    "id": "8iF_Kyqr_JbY",
    "outputId": "5628068a-5d2b-4634-f14b-13c0d2cad177"
   },
   "outputs": [
    {
     "name": "stdout",
     "output_type": "stream",
     "text": [
      "Cora has 7 classes\n",
      "Cora has 1433 features\n"
     ]
    }
   ],
   "source": [
    "def get_num_node_classes(graph):\n",
    "  # TODO: Implement a function that takes a deepsnap graph object\n",
    "  # and return the number of node classes of that graph.\n",
    "\n",
    "  num_node_classes = 0\n",
    "\n",
    "  ############# Your code here #############\n",
    "  ## (~1 line of code)\n",
    "  ## Note\n",
    "  ## 1. Colab autocomplete functionality might be useful\n",
    "  ## 2. DeepSNAP documentation might be useful https://snap.stanford.edu/deepsnap/modules/graph.html\n",
    "  num_node_classes = graph.num_node_labels\n",
    "  ##########################################\n",
    "\n",
    "  return num_node_classes\n",
    "\n",
    "def get_num_node_features(graph):\n",
    "  # TODO: Implement a function that takes a deepsnap graph object\n",
    "  # and return the number of node features of that graph.\n",
    "\n",
    "  num_node_features = 0\n",
    "\n",
    "  ############# Your code here #############\n",
    "  ## (~1 line of code)\n",
    "  ## Note\n",
    "  ## 1. Colab autocomplete functionality might be useful\n",
    "  ## 2. DeepSNAP documentation might be useful https://snap.stanford.edu/deepsnap/modules/graph.html\n",
    "  num_node_features = graph.num_node_features\n",
    "  ##########################################\n",
    "\n",
    "  return num_node_features\n",
    "\n",
    "if 'IS_GRADESCOPE_ENV' not in os.environ:\n",
    "  num_node_classes = get_num_node_classes(graph)\n",
    "  num_node_features = get_num_node_features(graph)\n",
    "  print(\"{} has {} classes\".format(name, num_node_classes))\n",
    "  print(\"{} has {} features\".format(name, num_node_features))"
   ]
  },
  {
   "cell_type": "markdown",
   "metadata": {
    "id": "rwKbzhHUAckZ"
   },
   "source": [
    "## DeepSNAP Dataset\n",
    "\n",
    "Now, you will learn how to create DeepSNAP datasets. A `deepsnap.dataset.GraphDataset` contains a list of `deepsnap.graph.Graph` objects. In addition to the list of graphs, you must specify what task the dataset will be used on: node level task (`task=node`), edge level task (`task=link_pred`) and graph level task (`task=graph`).\n",
    "\n",
    "The GraphDataset class contains many other useful parameters that can be specified during initialization. If you are interested, you can take a look at the [documentation](https://snap.stanford.edu/deepsnap/modules/dataset.html#deepsnap-graphdataset)."
   ]
  },
  {
   "cell_type": "markdown",
   "metadata": {
    "id": "HSidf9E0hn2s"
   },
   "source": [
    "As an example, let us first look at the COX2 dataset, which contains 467 graphs. In initializing our dataset, convert the PyG dataset into its corresponding DeepSNAP dataset and specify the task to `graph`."
   ]
  },
  {
   "cell_type": "code",
   "execution_count": 195,
   "metadata": {
    "colab": {
     "base_uri": "https://localhost:8080/"
    },
    "id": "l4kqUldyoaS_",
    "outputId": "265390e1-08c1-41c4-a88f-c4c56f459562"
   },
   "outputs": [
    {
     "name": "stdout",
     "output_type": "stream",
     "text": [
      "GraphDataset(467)\n"
     ]
    }
   ],
   "source": [
    "if 'IS_GRADESCOPE_ENV' not in os.environ:  \n",
    "  root = './tmp/cox2'\n",
    "  name = 'COX2'\n",
    "\n",
    "  # Load the dataset through PyG\n",
    "  pyg_dataset = TUDataset(root, name)\n",
    "\n",
    "  # Convert to a list of deepsnap graphs\n",
    "  graphs = GraphDataset.pyg_to_graphs(pyg_dataset)\n",
    "\n",
    "  # Convert list of deepsnap graphs to deepsnap dataset with specified task=graph\n",
    "  dataset = GraphDataset(graphs, task='graph')\n",
    "  print(dataset)"
   ]
  },
  {
   "cell_type": "markdown",
   "metadata": {
    "id": "7sCV3xJWCddX"
   },
   "source": [
    "## Question 2.2: What is the label of the graph with index 100? (5 points)"
   ]
  },
  {
   "cell_type": "code",
   "execution_count": 196,
   "metadata": {
    "colab": {
     "base_uri": "https://localhost:8080/"
    },
    "id": "LIis9oTZAfs3",
    "outputId": "9f25536c-5b60-4fdb-8c02-4701625212a2"
   },
   "outputs": [
    {
     "name": "stdout",
     "output_type": "stream",
     "text": [
      "Graph(G=[], edge_index=[2, 82], edge_label_index=[2, 82], graph_label=[1], node_feature=[39, 35], node_label_index=[39], task=[])\n",
      "Graph with index 100 has label tensor([0])\n"
     ]
    }
   ],
   "source": [
    "def get_graph_class(dataset, idx):\n",
    "  # TODO: Implement a function that takes a deepsnap dataset object,\n",
    "  # the index of a graph in the dataset, and returns the class/label \n",
    "  # of the graph (in integer).\n",
    "\n",
    "  label = -1\n",
    "\n",
    "  ############# Your code here ############\n",
    "  ## (~1 line of code)\n",
    "  ## Notice\n",
    "  ## 1. The graph label refers to a graph-level attribute\n",
    "  label = dataset[idx].graph_label\n",
    "  #########################################\n",
    "\n",
    "  return label\n",
    "\n",
    "if 'IS_GRADESCOPE_ENV' not in os.environ:\n",
    "  graph_0 = dataset[0]\n",
    "  print(graph_0)\n",
    "  idx = 100\n",
    "  label = get_graph_class(dataset, idx)\n",
    "  print('Graph with index {} has label {}'.format(idx, label))"
   ]
  },
  {
   "cell_type": "markdown",
   "metadata": {
    "id": "fKhcVeAhCwoY"
   },
   "source": [
    "## Question 2.3: How many edges are in the graph with index 200? (5 points)\n"
   ]
  },
  {
   "cell_type": "code",
   "execution_count": 42,
   "metadata": {
    "colab": {
     "base_uri": "https://localhost:8080/"
    },
    "id": "f5m2DOfhBtWv",
    "outputId": "a38191a1-5024-4c75-9b70-4ae507829e9e"
   },
   "outputs": [
    {
     "name": "stdout",
     "output_type": "stream",
     "text": [
      "Graph with index 200 has 49 edges\n"
     ]
    }
   ],
   "source": [
    "def get_graph_num_edges(dataset, idx):\n",
    "  # TODO: Implement a function that takes a deepsnap dataset object,\n",
    "  # the index of a graph in dataset, and returns the number of \n",
    "  # edges in the graph (in integer).\n",
    "\n",
    "  num_edges = 0\n",
    "\n",
    "  ############# Your code here ############\n",
    "  ## (~1 lines of code)\n",
    "  ## Note\n",
    "  ## 1. You can use the class property directly\n",
    "  num_edges = dataset[idx].num_edges\n",
    "  #########################################\n",
    "\n",
    "  return num_edges\n",
    "\n",
    "if 'IS_GRADESCOPE_ENV' not in os.environ:\n",
    "  idx = 200\n",
    "  num_edges = get_graph_num_edges(dataset, idx)\n",
    "  print('Graph with index {} has {} edges'.format(idx, num_edges))"
   ]
  },
  {
   "cell_type": "markdown",
   "metadata": {
    "id": "AXa7yIG4E0Fp"
   },
   "source": [
    "# 3) DeepSNAP Advanced\n",
    "\n",
    "Now that you have learned the basics of DeepSNAP, let's move on to some more advanced functionalities.\n",
    "\n",
    "In this section you will use DeepSNAP for graph feature computation and transductive/inductive dataset splitting."
   ]
  },
  {
   "cell_type": "markdown",
   "metadata": {
    "id": "Y5fsGBLY8cxa"
   },
   "source": [
    "## Setup"
   ]
  },
  {
   "cell_type": "code",
   "execution_count": 43,
   "metadata": {
    "id": "g-jgRLiQ8cSj"
   },
   "outputs": [],
   "source": [
    "import torch\n",
    "import networkx as nx\n",
    "import matplotlib.pyplot as plt\n",
    "\n",
    "from deepsnap.graph import Graph\n",
    "from deepsnap.batch import Batch\n",
    "from deepsnap.dataset import GraphDataset\n",
    "from torch_geometric.datasets import Planetoid, TUDataset\n",
    "\n",
    "from torch.utils.data import DataLoader"
   ]
  },
  {
   "cell_type": "markdown",
   "metadata": {
    "id": "HnazPGGAJAZN"
   },
   "source": [
    "## Data Split in Graphs\n",
    "\n",
    "As discussed in the `Module 2: Introduction to Graph Neural Networks / 2.3  GNN Training Pipeline / Setting up GNN Prediction Tasks` Lecture, data splitting for graphs can be much harder than for CV or NLP.\n",
    "\n",
    "In general, data splitting is divided into two settings, **inductive** and **transductive**."
   ]
  },
  {
   "cell_type": "markdown",
   "metadata": {
    "id": "l9KG_MhqsWBp"
   },
   "source": [
    "## Inductive Split\n",
    "\n",
    "In an inductive setting, you split a list of multiple graphs into disjoint training/valiation and test sets.\n",
    "\n",
    "Here is an example of using DeepSNAP to inductively split a list of graphs for a graph level task (graph classification etc.):"
   ]
  },
  {
   "cell_type": "code",
   "execution_count": 44,
   "metadata": {
    "colab": {
     "base_uri": "https://localhost:8080/"
    },
    "id": "Gpc6bTm3GF02",
    "outputId": "846fa611-0369-4905-c519-a723a44fe40a"
   },
   "outputs": [
    {
     "name": "stdout",
     "output_type": "stream",
     "text": [
      "COX2 train dataset: GraphDataset(373)\n",
      "COX2 validation dataset: GraphDataset(46)\n",
      "COX2 test dataset: GraphDataset(48)\n"
     ]
    }
   ],
   "source": [
    "if 'IS_GRADESCOPE_ENV' not in os.environ:\n",
    "  root = './tmp/cox2'\n",
    "  name = 'COX2'\n",
    "\n",
    "  pyg_dataset = TUDataset(root, name)\n",
    "\n",
    "  graphs = GraphDataset.pyg_to_graphs(pyg_dataset)\n",
    "\n",
    "  # Here we specify the task as graph-level task such as graph classification\n",
    "  task = 'graph'\n",
    "  dataset = GraphDataset(graphs, task=task)\n",
    "\n",
    "  # Specify transductive=False (inductive)\n",
    "  dataset_train, dataset_val, dataset_test = dataset.split(transductive=False, split_ratio=[0.8, 0.1, 0.1])\n",
    "\n",
    "  print(\"COX2 train dataset: {}\".format(dataset_train))\n",
    "  print(\"COX2 validation dataset: {}\".format(dataset_val))\n",
    "  print(\"COX2 test dataset: {}\".format(dataset_test))"
   ]
  },
  {
   "cell_type": "markdown",
   "metadata": {
    "id": "yWKQwa4WsgQp"
   },
   "source": [
    "## Transductive Split\n",
    "\n",
    "In the transductive setting, the training /validation / test sets are all over the same graph. As discussed in the `Module 2: Introduction to Graph Neural Networks / 2.3  GNN Training Pipeline / Setting up GNN Prediction Tasks` Lecture, in a transductive setting, we do not need to generalize to new unseen graphs. \n",
    "\n",
    "As an example, here you transductively split the CORA graph for a node level task, such as node classification. \n",
    "\n",
    "(Notice that in DeepSNAP the default split setting is random (i.e. DeepSNAP randomly splits the e.g. nodes into train / val / test); however, you can also use a fixed split by specifying `fixed_split=True` when loading the dataset from PyG or changing the `node_label_index` directly)."
   ]
  },
  {
   "cell_type": "code",
   "execution_count": 45,
   "metadata": {
    "colab": {
     "base_uri": "https://localhost:8080/"
    },
    "id": "b5OdxSg4sfyR",
    "outputId": "23cd84ef-8703-4871-da37-6ca19e5f9ae4"
   },
   "outputs": [
    {
     "name": "stdout",
     "output_type": "stream",
     "text": [
      "Cora train dataset: GraphDataset(1)\n",
      "Cora validation dataset: GraphDataset(1)\n",
      "Cora test dataset: GraphDataset(1)\n",
      "Original Cora has 2708 nodes\n",
      "After the split, Cora has 2166 training nodes\n",
      "After the split, Cora has 270 validation nodes\n",
      "After the split, Cora has 272 test nodes\n"
     ]
    }
   ],
   "source": [
    "if 'IS_GRADESCOPE_ENV' not in os.environ:\n",
    "  root = './tmp/cora'\n",
    "  name = 'Cora'\n",
    "\n",
    "  pyg_dataset = Planetoid(root, name)\n",
    "\n",
    "  graphs = GraphDataset.pyg_to_graphs(pyg_dataset)\n",
    "\n",
    "  # Here we specify the task as node-level task such as node classification\n",
    "  task = 'node'\n",
    "\n",
    "  dataset = GraphDataset(graphs, task=task)\n",
    "\n",
    "  # Specify we want the transductive splitting\n",
    "  dataset_train, dataset_val, dataset_test = dataset.split(transductive=True, split_ratio=[0.8, 0.1, 0.1])\n",
    "\n",
    "  print(\"Cora train dataset: {}\".format(dataset_train))\n",
    "  print(\"Cora validation dataset: {}\".format(dataset_val))\n",
    "  print(\"Cora test dataset: {}\".format(dataset_test))\n",
    "\n",
    "  print(\"Original Cora has {} nodes\".format(dataset.num_nodes[0]))\n",
    "\n",
    "  # The nodes in each set can be find in node_label_index\n",
    "  print(\"After the split, Cora has {} training nodes\".format(dataset_train[0].node_label_index.shape[0]))\n",
    "  print(\"After the split, Cora has {} validation nodes\".format(dataset_val[0].node_label_index.shape[0]))\n",
    "  print(\"After the split, Cora has {} test nodes\".format(dataset_test[0].node_label_index.shape[0]))"
   ]
  },
  {
   "cell_type": "markdown",
   "metadata": {
    "id": "d7ePKgM00lGE"
   },
   "source": [
    "## Edge Level Split\n",
    "\n",
    "Compared to node and graph level splitting, edge level splitting is a little bit tricky ;)\n",
    "\n",
    "For edge level splitting you need to consider several different tasks:\n",
    "\n",
    "1. Splitting positive edges into train / val / test datasets.\n",
    "2. Sampling / re-sampling negative edges (i.e. edges not present in the graph).\n",
    "3. Splitting edges into message passing and supervision edges.\n",
    "\n",
    "With regard to point 3, for edge level data splitting we classify edges into two types. The first is `message passing` edges, edges that are used for message passing by our GNN. The second is `supervision`, edges that are used in the loss function for backpropagation. DeepSNAP allows for two different modes, where the `message passing` and `supervision` edges are either the same or disjoint."
   ]
  },
  {
   "cell_type": "markdown",
   "metadata": {
    "id": "SnzISX5RoiR6"
   },
   "source": [
    "### All Edge Splitting Mode\n",
    "\n",
    "First, you will explore the `edge_train_mode=\"all\"` mode for edge level splitting, where the `message passing` and `supervision` edges are shared during training."
   ]
  },
  {
   "cell_type": "code",
   "execution_count": 46,
   "metadata": {
    "colab": {
     "base_uri": "https://localhost:8080/"
    },
    "id": "_D104xO6137n",
    "outputId": "b9647236-2787-4306-d987-16a15bf196a1"
   },
   "outputs": [
    {
     "name": "stdout",
     "output_type": "stream",
     "text": [
      "Cora train dataset: GraphDataset(1)\n",
      "Cora validation dataset: GraphDataset(1)\n",
      "Cora test dataset: GraphDataset(1)\n"
     ]
    }
   ],
   "source": [
    "if 'IS_GRADESCOPE_ENV' not in os.environ:\n",
    "  root = './tmp/cora'\n",
    "  name = 'Cora'\n",
    "\n",
    "  pyg_dataset = Planetoid(root, name)\n",
    "\n",
    "  graphs = GraphDataset.pyg_to_graphs(pyg_dataset)\n",
    "\n",
    "  # Specify task as link_pred for edge-level task\n",
    "  task = 'link_pred'\n",
    "\n",
    "  # Specify the train mode, \"all\" mode is default for deepsnap dataset\n",
    "  edge_train_mode = \"all\"\n",
    "\n",
    "  dataset = GraphDataset(graphs, task=task, edge_train_mode=edge_train_mode)\n",
    "\n",
    "  # Transductive link prediction split\n",
    "  dataset_train, dataset_val, dataset_test = dataset.split(transductive=True, split_ratio=[0.8, 0.1, 0.1])\n",
    "\n",
    "  print(\"Cora train dataset: {}\".format(dataset_train))\n",
    "  print(\"Cora validation dataset: {}\".format(dataset_val))\n",
    "  print(\"Cora test dataset: {}\".format(dataset_test))"
   ]
  },
  {
   "cell_type": "markdown",
   "metadata": {
    "id": "GscopwOXC_Y7"
   },
   "source": [
    "In DeepSNAP, the indices of supervision edges are stored in the `edge_label_index` tensor and the corresponding edge labels are stored in `edge_label` tensor."
   ]
  },
  {
   "cell_type": "code",
   "execution_count": 47,
   "metadata": {
    "colab": {
     "base_uri": "https://localhost:8080/"
    },
    "id": "XJF8fZnA2eLR",
    "outputId": "9a478f9a-e4e9-4811-84ba-c7d473738c16"
   },
   "outputs": [
    {
     "name": "stdout",
     "output_type": "stream",
     "text": [
      "Original Cora graph has 5278 edges\n",
      "\n",
      "Train set has 4222 message passing edge\n",
      "Train set has 4222 supervision (positive) edges\n",
      "\n",
      "Validation set has 4222 message passing edge\n",
      "Validation set has 527 supervision (positive) edges\n",
      "\n",
      "Test set has 4749 message passing edge\n",
      "Test set has 529 supervision (positive) edges\n"
     ]
    }
   ],
   "source": [
    "if 'IS_GRADESCOPE_ENV' not in os.environ:\n",
    "  print(\"Original Cora graph has {} edges\".format(dataset[0].num_edges))\n",
    "  print()\n",
    "\n",
    "  print(\"Train set has {} message passing edge\".format(dataset_train[0].edge_index.shape[1] // 2))\n",
    "  print(\"Train set has {} supervision (positive) edges\".format(dataset_train[0].edge_label_index.shape[1] // 4))\n",
    "\n",
    "  print()\n",
    "  print(\"Validation set has {} message passing edge\".format(dataset_val[0].edge_index.shape[1] // 2))\n",
    "  print(\"Validation set has {} supervision (positive) edges\".format(dataset_val[0].edge_label_index.shape[1] // 4))\n",
    "\n",
    "  print()\n",
    "  print(\"Test set has {} message passing edge\".format(dataset_test[0].edge_index.shape[1] // 2))\n",
    "  print(\"Test set has {} supervision (positive) edges\".format(dataset_test[0].edge_label_index.shape[1] // 4))"
   ]
  },
  {
   "cell_type": "markdown",
   "metadata": {
    "id": "s6BX-I_oEKQX"
   },
   "source": [
    "**Specific things to note in `all` mode**:\n",
    "\n",
    "* At training time: the supervision edges are the same as the training message passing edges.  \n",
    "* At validation time: the message passing edges are the training message passing edges and training supervision edges (still the training message passing edges in this case). However, you now include a set of unseen validation supervision edges that are disjoint from the training supervision edges.\n",
    "* At test time: the message passing edges are the union of training message passing edges, training supervision edges, and validation supervision edges. The test supervision edges then disjoint from the training supervision edges and validation supervision edges.\n",
    "* For this illustration negative edges are excluded. However, the attributes `edge_label` and `edge_label_index` naturally also include the negative supervision edges (by default the number of negative edges is the same as the number of positive edges, hence the divide by 4 above).\n",
    "\n",
    "\n",
    "Now, that you have seen the basics of the `all` method for edge splitting, you will implement a function that checks whether two edge index tensors are disjoint and explore more edge splitting properties by using that function."
   ]
  },
  {
   "cell_type": "markdown",
   "metadata": {
    "id": "YOZHDskbAKN6"
   },
   "source": [
    "## Question 3: Implement a function that checks whether two edge_index tensors are disjoint (i.e. do not share any common edges). Then answer the True/False questions below. (10 points)\n",
    "\n"
   ]
  },
  {
   "cell_type": "code",
   "execution_count": 192,
   "metadata": {
    "id": "wgRYdyPp8EmO"
   },
   "outputs": [],
   "source": [
    "def edge_indices_disjoint(edge_index_1, edge_index_2):\n",
    "  # TODO: Implement this function that takes two edge index tensors,\n",
    "  # and returns whether these two edge index tensors are disjoint.\n",
    "  disjoint = None\n",
    "\n",
    "  ############# Your code here ############\n",
    "  ## (~5 lines of code)\n",
    "  ## Note\n",
    "  ## 1. Here disjoint means that there is no single edge belonging to both edge index tensors\n",
    "  ## 2. You do not need to consider the undirected case. For example, if edge_index_1 contains\n",
    "  ## edge (a, b) and edge_index_2 contains edge (b, a). We will treat them as disjoint in this\n",
    "  ## function.\n",
    "  disjoint = True\n",
    "  edge_set = set()\n",
    "  for i, j in edge_index_1.T:\n",
    "      edge_set.add((i.item(), j.item()))\n",
    "  for i, j in edge_index_2.T:\n",
    "      if (i.item(), j.item()) in edge_set: \n",
    "          return False\n",
    "  #########################################\n",
    "\n",
    "  return disjoint"
   ]
  },
  {
   "cell_type": "code",
   "execution_count": 193,
   "metadata": {
    "colab": {
     "base_uri": "https://localhost:8080/"
    },
    "id": "EL4ASIDDEIUf",
    "outputId": "b8373719-4d4d-4be0-9562-c76a2a0da439"
   },
   "outputs": [
    {
     "name": "stdout",
     "output_type": "stream",
     "text": [
      "3.1 Training (supervision) positive and negative edges are disjoint = True\n",
      "3.2 Validation (supervision) positive and negative edges are disjoint = True\n",
      "3.3 Test (supervision) positive and negative edges are disjoint = True\n",
      "3.4 Test (supervision) positive and validation (supervision) positive edges are disjoint = True\n",
      "3.5 Validation (supervision) positive and training (supervision) positive edges are disjoint = True\n"
     ]
    }
   ],
   "source": [
    "if 'IS_GRADESCOPE_ENV' not in os.environ:\n",
    "  num_train_edges = dataset_train[0].edge_label_index.shape[1] // 2\n",
    "  train_pos_edge_index = dataset_train[0].edge_label_index[:, :num_train_edges]\n",
    "  train_neg_edge_index = dataset_train[0].edge_label_index[:, num_train_edges:]\n",
    "  print(\"3.1 Training (supervision) positive and negative edges are disjoint = {}\"\\\n",
    "          .format(edge_indices_disjoint(train_pos_edge_index, train_neg_edge_index)))\n",
    "\n",
    "  num_val_edges = dataset_val[0].edge_label_index.shape[1] // 2\n",
    "  val_pos_edge_index = dataset_val[0].edge_label_index[:, :num_val_edges]\n",
    "  val_neg_edge_index = dataset_val[0].edge_label_index[:, num_val_edges:]\n",
    "  print(\"3.2 Validation (supervision) positive and negative edges are disjoint = {}\"\\\n",
    "          .format(edge_indices_disjoint(val_pos_edge_index, val_neg_edge_index)))\n",
    "\n",
    "  num_test_edges = dataset_test[0].edge_label_index.shape[1] // 2\n",
    "  test_pos_edge_index = dataset_test[0].edge_label_index[:, :num_test_edges]\n",
    "  test_neg_edge_index = dataset_test[0].edge_label_index[:, num_test_edges:]\n",
    "  print(\"3.3 Test (supervision) positive and negative edges are disjoint = {}\"\\\n",
    "          .format(edge_indices_disjoint(test_pos_edge_index, test_neg_edge_index)))\n",
    "\n",
    "  print(\"3.4 Test (supervision) positive and validation (supervision) positive edges are disjoint = {}\"\\\n",
    "          .format(edge_indices_disjoint(test_pos_edge_index, val_pos_edge_index)))\n",
    "  print(\"3.5 Validation (supervision) positive and training (supervision) positive edges are disjoint = {}\"\\\n",
    "          .format(edge_indices_disjoint(val_pos_edge_index, train_pos_edge_index)))"
   ]
  },
  {
   "cell_type": "markdown",
   "metadata": {
    "id": "8jLoVN5ZBTuA"
   },
   "source": [
    "### Disjoint Edge Splitting Mode\n",
    "\n",
    "Now you will look at a relatively more complex transductive edge split setting, the `edge_train_mode=\"disjoint\"` mode in DeepSNAP. In this setting, the `message passing` and `supervision` edges are completely disjoint"
   ]
  },
  {
   "cell_type": "code",
   "execution_count": 80,
   "metadata": {
    "colab": {
     "base_uri": "https://localhost:8080/"
    },
    "id": "3Rqzfb-0BTBm",
    "outputId": "27efeb22-50d1-4abf-a706-d23ab0749d9b"
   },
   "outputs": [
    {
     "name": "stdout",
     "output_type": "stream",
     "text": [
      "Original Cora graph has 5278 edges\n",
      "\n",
      "Train set has 3377 message passing edge\n",
      "Train set has 845 supervision (positive) edges\n",
      "\n",
      "Validation set has 4222 message passing edge\n",
      "Validation set has 527 supervision (positive) edges\n",
      "\n",
      "Test set has 4749 message passing edge\n",
      "Test set has 529 supervision (positive) edges\n"
     ]
    }
   ],
   "source": [
    "if 'IS_GRADESCOPE_ENV' not in os.environ:  \n",
    "  edge_train_mode = \"disjoint\"\n",
    "\n",
    "  dataset = GraphDataset(graphs, task='link_pred', edge_train_mode=edge_train_mode)\n",
    "  orig_edge_index = dataset[0].edge_index\n",
    "  dataset_train, dataset_val, dataset_test = dataset.split(\n",
    "      transductive=True, split_ratio=[0.8, 0.1, 0.1])\n",
    "\n",
    "  train_message_edge_index = dataset_train[0].edge_index\n",
    "  train_sup_edge_index = dataset_train[0].edge_label_index\n",
    "  val_message_edge_index = dataset_val[0].edge_index\n",
    "  val_sup_edge_index = dataset_val[0].edge_label_index\n",
    "  test_message_edge_index = dataset_test[0].edge_index\n",
    "  test_sup_edge_index = dataset_test[0].edge_label_index\n",
    "\n",
    "  print(\"Original Cora graph has {} edges\".format(dataset[0].num_edges))\n",
    "  print()\n",
    "  print(\"Train set has {} message passing edge\".format(train_message_edge_index.shape[1] // 2))\n",
    "  print(\"Train set has {} supervision (positive) edges\".format(train_sup_edge_index.shape[1] // 4))\n",
    "\n",
    "  print()\n",
    "  print(\"Validation set has {} message passing edge\".format(val_message_edge_index.shape[1] // 2))\n",
    "  print(\"Validation set has {} supervision (positive) edges\".format(val_sup_edge_index.shape[1] // 4))\n",
    "\n",
    "  print()\n",
    "  print(\"Test set has {} message passing edge\".format(test_message_edge_index.shape[1] // 2))\n",
    "  print(\"Test set has {} supervision (positive) edges\".format(test_sup_edge_index.shape[1] // 4))"
   ]
  },
  {
   "cell_type": "markdown",
   "metadata": {
    "id": "TUkBhiJNciol"
   },
   "source": [
    "\n",
    "**Specific things to note in `disjoint` mode**:\n",
    "\n",
    "* At training time: the training supervision edges are disjoint from the training message passing edges.\n",
    "* At validation time: the message passing edges are the union of training message passing edges and training supervision edges. The validation supervision edges are disjoint from both the training message passing and supervision edges.\n",
    "* At test time: the message passing edges are the training message passing edges, training supervision edges, and validation supervision edges. The test supervision edges are disjoint from all the training and validation edges."
   ]
  },
  {
   "cell_type": "markdown",
   "metadata": {
    "id": "2WKfRjqAJHtK"
   },
   "source": [
    "## Negative Edges\n",
    "\n",
    "For edge level tasks, sampling negative edges (edges not present in the graph) is critical. Moreover, during each training iteration, you want to resample the negative edges.\n",
    "\n",
    "Below we print the training and validation sets negative edges in two training iterations.\n",
    "\n",
    "What we demonstrate is that the negative edges are only resampled during training."
   ]
  },
  {
   "cell_type": "code",
   "execution_count": 81,
   "metadata": {
    "colab": {
     "base_uri": "https://localhost:8080/"
    },
    "id": "AMEbnx63JHWj",
    "outputId": "91371ed4-6a65-4487-ca68-8a5cd7bde7ab"
   },
   "outputs": [
    {
     "name": "stdout",
     "output_type": "stream",
     "text": [
      "First iteration training negative edges:\n",
      "tensor([[1279, 1484,  794,  ..., 1990, 1752, 1955],\n",
      "        [2292, 2284,  107,  ..., 1247, 1003,  254]])\n",
      "Second iteration training negative edges:\n",
      "tensor([[1090,  880, 1231,  ..., 1004, 1018, 1545],\n",
      "        [2511, 1115, 2262,  ..., 2414,  848,  878]])\n",
      "First iteration validation negative edges:\n",
      "tensor([[ 863, 1320, 2008,  ..., 2297, 1615, 1965],\n",
      "        [2233, 1551, 2079,  ..., 1222, 1554, 1103]])\n",
      "Second iteration validation negative edges:\n",
      "tensor([[ 863, 1320, 2008,  ..., 2297, 1615, 1965],\n",
      "        [2233, 1551, 2079,  ..., 1222, 1554, 1103]])\n"
     ]
    }
   ],
   "source": [
    "if 'IS_GRADESCOPE_ENV' not in os.environ:  \n",
    "  dataset = GraphDataset(graphs, task='link_pred', edge_train_mode=\"disjoint\")\n",
    "  datasets = {}\n",
    "  follow_batch = []\n",
    "  datasets['train'], datasets['val'], datasets['test'] = dataset.split(\n",
    "      transductive=True, split_ratio=[0.8, 0.1, 0.1])\n",
    "  dataloaders = {\n",
    "    split: DataLoader(\n",
    "      ds, collate_fn=Batch.collate(follow_batch),\n",
    "      batch_size=1, shuffle=(split=='train')\n",
    "    )\n",
    "    for split, ds in datasets.items()\n",
    "  }\n",
    "  neg_edges_1 = None\n",
    "  for batch in dataloaders['train']:\n",
    "    num_edges = batch.edge_label_index.shape[1] // 2\n",
    "    neg_edges_1 = batch.edge_label_index[:, num_edges:]\n",
    "    print(\"First iteration training negative edges:\")\n",
    "    print(neg_edges_1)\n",
    "    break\n",
    "  neg_edges_2 = None\n",
    "  for batch in dataloaders['train']:\n",
    "    num_edges = batch.edge_label_index.shape[1] // 2\n",
    "    neg_edges_2 = batch.edge_label_index[:, num_edges:]\n",
    "    print(\"Second iteration training negative edges:\")\n",
    "    print(neg_edges_2)\n",
    "    break\n",
    "\n",
    "  neg_edges_1 = None\n",
    "  for batch in dataloaders['val']:\n",
    "    num_edges = batch.edge_label_index.shape[1] // 2\n",
    "    neg_edges_1 = batch.edge_label_index[:, num_edges:]\n",
    "    print(\"First iteration validation negative edges:\")\n",
    "    print(neg_edges_1)\n",
    "    break\n",
    "  neg_edges_2 = None\n",
    "  for batch in dataloaders['val']:\n",
    "    num_edges = batch.edge_label_index.shape[1] // 2\n",
    "    neg_edges_2 = batch.edge_label_index[:, num_edges:]\n",
    "    print(\"Second iteration validation negative edges:\")\n",
    "    print(neg_edges_2)\n",
    "    break"
   ]
  },
  {
   "cell_type": "markdown",
   "metadata": {
    "id": "DEzqh7wEdrh0"
   },
   "source": [
    "If you are interested in more graph splitting settings, please refer to the DeepSNAP dataset [documentation](https://snap.stanford.edu/deepsnap/modules/dataset.html)."
   ]
  },
  {
   "cell_type": "markdown",
   "metadata": {
    "id": "XkrYyeSUI_9_"
   },
   "source": [
    "## Graph Transformation and Feature Computation\n",
    "\n",
    "The other core functionality of DeepSNAP is graph transformation / feature computation.\n",
    "\n",
    "In DeepSNAP, graph transformation / feature computation is divided into two different types. The first includes transformations before training (e.g. transform the whole dataset before training directly), and the second includes transformations during training (transform batches of graphs).\n",
    "\n",
    "Below is an example that uses the NetworkX back end to calculate the PageRank value for each node and subsequently transforms the node features by concatenating each nodes PageRank score (transform the dataset before training)."
   ]
  },
  {
   "cell_type": "code",
   "execution_count": 82,
   "metadata": {
    "colab": {
     "base_uri": "https://localhost:8080/"
    },
    "id": "gnAVbZINLZ4I",
    "outputId": "de1d97f7-5ddc-4f02-9022-972d01ef6cf7"
   },
   "outputs": [
    {
     "name": "stdout",
     "output_type": "stream",
     "text": [
      "Number of features before transformation: 35\n",
      "Number of features after transformation: 36\n"
     ]
    }
   ],
   "source": [
    "def pagerank_transform_fn(graph):\n",
    "\n",
    "  # Get the referenced networkx graph\n",
    "  G = graph.G\n",
    "\n",
    "  # Calculate the pagerank by using networkx\n",
    "  pr = nx.pagerank(G)\n",
    "\n",
    "  # Transform the pagerank values to tensor\n",
    "  pr_feature = torch.tensor([pr[node] for node in range(graph.num_nodes)], dtype=torch.float32)\n",
    "  pr_feature = pr_feature.view(graph.num_nodes, 1)\n",
    "\n",
    "  # Concat the pagerank values to the node feature\n",
    "  graph.node_feature = torch.cat([graph.node_feature, pr_feature], dim=-1)\n",
    "\n",
    "if 'IS_GRADESCOPE_ENV' not in os.environ:\n",
    "  root = './tmp/cox2'\n",
    "  name = 'COX2'\n",
    "  pyg_dataset = TUDataset(root, name)\n",
    "  graphs = GraphDataset.pyg_to_graphs(pyg_dataset)\n",
    "  dataset = GraphDataset(graphs, task='graph')\n",
    "  print(\"Number of features before transformation: {}\".format(dataset.num_node_features))\n",
    "  dataset.apply_transform(pagerank_transform_fn, update_tensor=False)\n",
    "  print(\"Number of features after transformation: {}\".format(dataset.num_node_features))"
   ]
  },
  {
   "cell_type": "markdown",
   "metadata": {
    "id": "LHByE87SQkUw"
   },
   "source": [
    "## Question 4: Implement a transformation that adds the clustering coefficient of each node to its feature vector and then report the clustering coefficient of the node with index 3 in the graph with index 406 (10 points)."
   ]
  },
  {
   "cell_type": "code",
   "execution_count": 84,
   "metadata": {
    "colab": {
     "base_uri": "https://localhost:8080/"
    },
    "id": "RNEjfOZRNjYb",
    "outputId": "ffe17379-ac6c-4ae7-b3dd-88c4db2856e8"
   },
   "outputs": [
    {
     "name": "stdout",
     "output_type": "stream",
     "text": [
      "The node has clustering coefficient: 0.17\n"
     ]
    }
   ],
   "source": [
    "def cluster_transform_fn(graph):\n",
    "  # TODO: Implement a function that takes an deepsnap graph object and \n",
    "  # transform the graph by adding each node's clustering coefficient to its \n",
    "  # graph.node_feature representation\n",
    "\n",
    "  ############# Your code here ############\n",
    "  ## (~5 lines of code)\n",
    "  ## Note\n",
    "  ## 1. Compute the clustering coefficient value for each node and\n",
    "  ## concat this value to the last dimension of graph.node_feature\n",
    "  G = graph.G # Get the underlying Networkx graph\n",
    "  clustering_coefficient = nx.clustering(G)\n",
    "  clustering_coefficient_feature = torch.tensor([clustering_coefficient[node] for node in range(graph.num_nodes)], dtype=torch.float32)\n",
    "  clustering_coefficient_feature = clustering_coefficient_feature.view(graph.num_nodes, 1)\n",
    "  graph.node_feature = torch.cat([graph.node_feature, clustering_coefficient_feature], dim = -1)\n",
    "  #########################################\n",
    "\n",
    "if 'IS_GRADESCOPE_ENV' not in os.environ:\n",
    "  root = './cox2'\n",
    "  name = 'COX2'\n",
    "  pyg_dataset = TUDataset(root, name)\n",
    "  graphs = GraphDataset.pyg_to_graphs(pyg_dataset)\n",
    "  dataset = GraphDataset(graphs, task='graph')\n",
    "\n",
    "  # Transform the dataset\n",
    "  dataset.apply_transform(cluster_transform_fn, update_tensor=False)\n",
    "\n",
    "  node_idx = 3\n",
    "  graph_idx = 406\n",
    "  node_feature = dataset[graph_idx].node_feature\n",
    "\n",
    "  print(\"The node has clustering coefficient: {}\".format(round(node_feature[node_idx][-1].item(), 2)))"
   ]
  },
  {
   "cell_type": "markdown",
   "metadata": {
    "id": "4P5Ig7XaPYzp"
   },
   "source": [
    "### Final Thoughts\n",
    "Apart from transforming the whole dataset before training, DeepSNAP can also transform the graph (usually sampled batches of graphs, `deepsnap.batch.Batch`) during each training iteration.\n",
    "\n",
    "Also, DeepSNAP supports the synchronization of the transformation between the referenced graph objects and tensor representations. For example, you can just update the NetworkX graph object in the transform function, and by specifying `update_tensor=True` the internal tensor representations will be automatically updated!\n",
    "\n",
    "For more information, please refer to the DeepSNAP [documentation](https://snap.stanford.edu/deepsnap/)."
   ]
  },
  {
   "cell_type": "markdown",
   "metadata": {
    "id": "s-YLYMLFQYqp"
   },
   "source": [
    "# 4) Edge Level Prediction\n",
    "\n",
    "From the last section, you learned how DeepSNAP transductively splits edges for edge level tasks. For the last part of the notebook, you will use DeepSNAP and PyG together to implement a simple edge level prediction (link prediction) model!\n",
    "\n",
    "Specifically, you will use a 2 layer GraphSAGE embedding model to generate node embeddings, and then compute link predictions through a dot product link prediction head. Namely, given an edge (u, v) with GNN feature embeddings $f_u$ and $f_v$, our link prediction head generates its link prediction as $f_u \\cdot f_v$. \n",
    "\n",
    "To give a brief intuition for this dot product link prediction model, we are learning a GNN that embedds nodes such that nodes that have an edge in the graph are closer within the embedding space than nodes that do not have an edge. The dot product provides a proxy for closeness in our embedding space where a high positive dot product indicates that two vectors are more closely aligned (the angle between the vectors is small), whereas a negative dot-product indicates that vectors are unaligned (the angle between the vectors is greater than 90). "
   ]
  },
  {
   "cell_type": "code",
   "execution_count": 408,
   "metadata": {
    "id": "hrKCNtvERypQ"
   },
   "outputs": [],
   "source": [
    "import copy\n",
    "import torch\n",
    "import numpy as np\n",
    "import networkx as nx\n",
    "import matplotlib.pyplot as plt\n",
    "\n",
    "from deepsnap.graph import Graph\n",
    "from deepsnap.batch import Batch\n",
    "from deepsnap.dataset import GraphDataset\n",
    "from torch_geometric.datasets import Planetoid, TUDataset\n",
    "\n",
    "from torch.utils.data import DataLoader\n",
    "\n",
    "import torch.nn.functional as F\n",
    "from torch_geometric.nn import SAGEConv\n",
    "\n",
    "class LinkPredModel(torch.nn.Module):\n",
    "    def __init__(self, input_dim, hidden_dim, num_classes, dropout=0.2):\n",
    "        super(LinkPredModel, self).__init__()\n",
    "\n",
    "        self.conv1 = SAGEConv(input_dim, hidden_dim)\n",
    "        self.conv2 = SAGEConv(hidden_dim, hidden_dim)\n",
    "\n",
    "        self.loss_fn = None\n",
    "\n",
    "        ############# Your code here #############\n",
    "        ## (~1 line of code)\n",
    "        ## Note\n",
    "        ## 1. Initialize the loss function to BCEWithLogitsLoss\n",
    "        self.loss_fn = nn.BCEWithLogitsLoss()\n",
    "        ##########################################\n",
    "\n",
    "        self.dropout = dropout\n",
    "\n",
    "    def reset_parameters(self):\n",
    "        self.conv1.reset_parameters()\n",
    "        self.conv2.reset_parameters()\n",
    "\n",
    "    def forward(self, batch):\n",
    "        node_feature, edge_index, edge_label_index = batch.node_feature, batch.edge_index, batch.edge_label_index\n",
    "        \n",
    "        ############# Your code here #############\n",
    "        ## (~6 line of code)\n",
    "        ## Note\n",
    "        ## 1. Feed the node feature into the first conv layer\n",
    "        ## 2. Add a ReLU after the first conv layer\n",
    "        ## 3. Add dropout after the ReLU (with probability self.dropout)\n",
    "        ## 4. Feed the output to the second conv layer\n",
    "        ## 5. Select the embeddings of the source and destination \n",
    "        ## nodes of each edge by using the edge_label_index and \n",
    "        ## compute the dot product similarity of each pair.\n",
    "        x = self.conv1(node_feature, edge_index)\n",
    "        x = F.relu(x)\n",
    "        x = F.dropout(x, p=self.dropout)\n",
    "        x = self.conv2(x, edge_index)\n",
    "        source = x[edge_label_index[0]]\n",
    "        destination = x[edge_label_index[1]]\n",
    "        pred = (source * destination).sum(1)\n",
    "        #pred = torch.tensordot(source, destination, dims=([1],[1]))\n",
    "        #pred = torch.sum(pred, 1)\n",
    "        ##########################################\n",
    "\n",
    "        return pred\n",
    "    \n",
    "    def loss(self, pred, link_label):\n",
    "        return self.loss_fn(pred, link_label)"
   ]
  },
  {
   "cell_type": "code",
   "execution_count": 433,
   "metadata": {
    "id": "uuKbGFOu1Ka8"
   },
   "outputs": [],
   "source": [
    "from sklearn.metrics import *\n",
    "\n",
    "def train(model, dataloaders, optimizer, args):\n",
    "    val_max = 0\n",
    "    best_model = model\n",
    "\n",
    "    for epoch in range(1, args[\"epochs\"]):\n",
    "        for i, batch in enumerate(dataloaders['train']):\n",
    "            \n",
    "            batch.to(args[\"device\"])\n",
    "            model.train()\n",
    "\n",
    "            ############# Your code here #############\n",
    "            ## (~5 lines of code)\n",
    "            ## Note\n",
    "            ## 1. Zero grad the optimizer\n",
    "            ## 2. Get the model predictions for the current batch\n",
    "            ## 3. Convert the true labels to the same datatype as the predictions\n",
    "            ## 4. Compute loss and backpropagate\n",
    "            ## 5. Update the model parameters\n",
    "            optimizer.zero_grad()\n",
    "            pred = model(batch)\n",
    "            true_labels_converted = batch.edge_label.float() # Convert\n",
    "            print(f\"pred: {pred}\")\n",
    "            print(f\"true_labels_converted: {true_labels_converted}\")\n",
    "            loss = model.loss(pred, true_labels_converted)\n",
    "            loss.backward() # compute loss and backpropagate\n",
    "            print(f\"loss: {loss}\")\n",
    "            optimizer.step() # Update the model parameters\n",
    "            ##########################################\n",
    "\n",
    "            log = 'Epoch: {:03d}, Train: {:.4f}, Val: {:.4f}, Test: {:.4f}, Loss: {}'\n",
    "            score_train = test(model, dataloaders['train'], args)\n",
    "            score_val = test(model, dataloaders['val'], args)\n",
    "            score_test = test(model, dataloaders['test'], args)\n",
    "\n",
    "            print(log.format(epoch, score_train, score_val, score_test, loss.item()))\n",
    "            if val_max < score_val:\n",
    "                val_max = score_val\n",
    "                best_model = copy.deepcopy(model)\n",
    "    return best_model\n",
    "\n",
    "def test(model, dataloader, args, save_model_preds=False):\n",
    "    model.eval()\n",
    "\n",
    "    score = 0\n",
    "    preds = None\n",
    "    labels = None\n",
    "\n",
    "    ############# Your code here #############\n",
    "    ## (~7 lines of code)\n",
    "    ## Note\n",
    "    ## 1. Loop through batches in the dataloader (Note for us there is only one batch!)\n",
    "    ## 2. Feed the batch to the model\n",
    "    ## 3. Feed the model output to sigmoid\n",
    "    ## 4. Compute the ROC-AUC score by using sklearn roc_auc_score function\n",
    "    ##    Note: Look into flattening and converting torch tensors into numpy arrays\n",
    "    ## 5. Edge labels are stored in batch.edge_label\n",
    "    ## 6. Make sure to save your **numpy** model predictions as 'preds' \n",
    "    ##    and the **numpy** edge labels as 'labels'\n",
    "    for batch in dataloader:\n",
    "        batch.to(args['device'])\n",
    "        labels = batch.edge_label.cpu()\n",
    "        preds = model(batch).detach()\n",
    "        preds = torch.sigmoid(preds).cpu()\n",
    "        score = roc_auc_score(labels, preds)\n",
    "        #print(f\"score: {score}\")\n",
    "    ##########################################\n",
    "\n",
    "    if save_model_preds:\n",
    "        print (\"Saving Link Classification Model Predictions\")\n",
    "        print()\n",
    "\n",
    "        data = {}\n",
    "        data['pred'] = preds\n",
    "        data['label'] = labels\n",
    "\n",
    "        df = pd.DataFrame(data=data)\n",
    "        # Save locally as csv\n",
    "        df.to_csv('CORA-Link-Prediction.csv', sep=',', index=False)\n",
    " \n",
    "    return score"
   ]
  },
  {
   "cell_type": "code",
   "execution_count": 434,
   "metadata": {
    "id": "JTKWYX1b33V3"
   },
   "outputs": [],
   "source": [
    "# Please don't change any parameters\n",
    "args = {\n",
    "    \"device\" : 'cuda' if torch.cuda.is_available() else 'cpu',\n",
    "    \"hidden_dim\" : 128,\n",
    "    \"epochs\" : 200,\n",
    "}"
   ]
  },
  {
   "cell_type": "code",
   "execution_count": 435,
   "metadata": {
    "colab": {
     "base_uri": "https://localhost:8080/"
    },
    "id": "Klw_xYnE27xQ",
    "outputId": "13d40392-36f5-4cf0-e738-696fc7089c34"
   },
   "outputs": [
    {
     "name": "stdout",
     "output_type": "stream",
     "text": [
      "pred: tensor([0.5747, 0.4380, 0.4054,  ..., 0.6360, 0.5498, 0.4890], device='cuda:0',\n",
      "       grad_fn=<SumBackward1>)\n",
      "true_labels_converted: tensor([1., 1., 1.,  ..., 0., 0., 0.], device='cuda:0')\n",
      "loss: 0.7210630774497986\n",
      "Epoch: 001, Train: 0.5621, Val: 0.5630, Test: 0.5761, Loss: 0.7210630774497986\n",
      "pred: tensor([0.5363, 0.3726, 0.3866,  ..., 0.3853, 0.4401, 0.4970], device='cuda:0',\n",
      "       grad_fn=<SumBackward1>)\n",
      "true_labels_converted: tensor([1., 1., 1.,  ..., 0., 0., 0.], device='cuda:0')\n",
      "loss: 0.7139962911605835\n",
      "Epoch: 002, Train: 0.5946, Val: 0.5815, Test: 0.6064, Loss: 0.7139962911605835\n",
      "pred: tensor([0.4210, 0.3257, 0.3430,  ..., 0.4638, 0.2992, 0.3848], device='cuda:0',\n",
      "       grad_fn=<SumBackward1>)\n",
      "true_labels_converted: tensor([1., 1., 1.,  ..., 0., 0., 0.], device='cuda:0')\n",
      "loss: 0.7062500715255737\n",
      "Epoch: 003, Train: 0.6086, Val: 0.6118, Test: 0.6250, Loss: 0.7062500715255737\n",
      "pred: tensor([0.3085, 0.2417, 0.3076,  ..., 0.2848, 0.2708, 0.2934], device='cuda:0',\n",
      "       grad_fn=<SumBackward1>)\n",
      "true_labels_converted: tensor([1., 1., 1.,  ..., 0., 0., 0.], device='cuda:0')\n",
      "loss: 0.6996298432350159\n",
      "Epoch: 004, Train: 0.6374, Val: 0.6058, Test: 0.6372, Loss: 0.6996298432350159\n",
      "pred: tensor([0.2648, 0.1878, 0.2448,  ..., 0.3152, 0.1472, 0.2004], device='cuda:0',\n",
      "       grad_fn=<SumBackward1>)\n",
      "true_labels_converted: tensor([1., 1., 1.,  ..., 0., 0., 0.], device='cuda:0')\n",
      "loss: 0.6941025853157043\n",
      "Epoch: 005, Train: 0.6584, Val: 0.6475, Test: 0.6954, Loss: 0.6941025853157043\n",
      "pred: tensor([0.2060, 0.1459, 0.1863,  ..., 0.1707, 0.1242, 0.1795], device='cuda:0',\n",
      "       grad_fn=<SumBackward1>)\n",
      "true_labels_converted: tensor([1., 1., 1.,  ..., 0., 0., 0.], device='cuda:0')\n",
      "loss: 0.6917063593864441\n",
      "Epoch: 006, Train: 0.6813, Val: 0.6894, Test: 0.6964, Loss: 0.6917063593864441\n",
      "pred: tensor([0.1452, 0.0996, 0.1571,  ..., 0.0453, 0.1375, 0.1066], device='cuda:0',\n",
      "       grad_fn=<SumBackward1>)\n",
      "true_labels_converted: tensor([1., 1., 1.,  ..., 0., 0., 0.], device='cuda:0')\n",
      "loss: 0.6898541450500488\n",
      "Epoch: 007, Train: 0.6942, Val: 0.7010, Test: 0.7150, Loss: 0.6898541450500488\n",
      "pred: tensor([0.1196, 0.0681, 0.1107,  ..., 0.0990, 0.0819, 0.0637], device='cuda:0',\n",
      "       grad_fn=<SumBackward1>)\n",
      "true_labels_converted: tensor([1., 1., 1.,  ..., 0., 0., 0.], device='cuda:0')\n",
      "loss: 0.6886169910430908\n",
      "Epoch: 008, Train: 0.7039, Val: 0.7131, Test: 0.7355, Loss: 0.6886169910430908\n",
      "pred: tensor([0.0981, 0.0449, 0.0719,  ..., 0.0455, 0.0312, 0.0687], device='cuda:0',\n",
      "       grad_fn=<SumBackward1>)\n",
      "true_labels_converted: tensor([1., 1., 1.,  ..., 0., 0., 0.], device='cuda:0')\n",
      "loss: 0.6877874135971069\n",
      "Epoch: 009, Train: 0.7173, Val: 0.7178, Test: 0.7510, Loss: 0.6877874135971069\n",
      "pred: tensor([0.0771, 0.0262, 0.0789,  ..., 0.0140, 0.0291, 0.0140], device='cuda:0',\n",
      "       grad_fn=<SumBackward1>)\n",
      "true_labels_converted: tensor([1., 1., 1.,  ..., 0., 0., 0.], device='cuda:0')\n",
      "loss: 0.6874226927757263\n",
      "Epoch: 010, Train: 0.7327, Val: 0.7275, Test: 0.7380, Loss: 0.6874226927757263\n",
      "pred: tensor([0.0172, 0.0236, 0.0543,  ..., 0.0451, 0.0435, 0.0219], device='cuda:0',\n",
      "       grad_fn=<SumBackward1>)\n",
      "true_labels_converted: tensor([1., 1., 1.,  ..., 0., 0., 0.], device='cuda:0')\n",
      "loss: 0.6871696710586548\n",
      "Epoch: 011, Train: 0.7246, Val: 0.7230, Test: 0.7511, Loss: 0.6871696710586548\n",
      "pred: tensor([ 0.0556,  0.0075,  0.0417,  ...,  0.0496,  0.0127, -0.0029],\n",
      "       device='cuda:0', grad_fn=<SumBackward1>)\n",
      "true_labels_converted: tensor([1., 1., 1.,  ..., 0., 0., 0.], device='cuda:0')\n",
      "loss: 0.6870362162590027\n",
      "Epoch: 012, Train: 0.7324, Val: 0.6985, Test: 0.7365, Loss: 0.6870362162590027\n",
      "pred: tensor([ 0.0260,  0.0104,  0.0573,  ...,  0.0037,  0.0515, -0.0269],\n",
      "       device='cuda:0', grad_fn=<SumBackward1>)\n",
      "true_labels_converted: tensor([1., 1., 1.,  ..., 0., 0., 0.], device='cuda:0')\n",
      "loss: 0.6865524649620056\n",
      "Epoch: 013, Train: 0.7069, Val: 0.7021, Test: 0.7271, Loss: 0.6865524649620056\n",
      "pred: tensor([ 0.0193, -0.0311,  0.0072,  ...,  0.0408, -0.0160, -0.0060],\n",
      "       device='cuda:0', grad_fn=<SumBackward1>)\n",
      "true_labels_converted: tensor([1., 1., 1.,  ..., 0., 0., 0.], device='cuda:0')\n",
      "loss: 0.6861303448677063\n",
      "Epoch: 014, Train: 0.7070, Val: 0.7044, Test: 0.7106, Loss: 0.6861303448677063\n",
      "pred: tensor([ 0.0318, -0.0168,  0.0479,  ...,  0.0294,  0.0324, -0.0082],\n",
      "       device='cuda:0', grad_fn=<SumBackward1>)\n",
      "true_labels_converted: tensor([1., 1., 1.,  ..., 0., 0., 0.], device='cuda:0')\n",
      "loss: 0.6856643557548523\n",
      "Epoch: 015, Train: 0.6930, Val: 0.6869, Test: 0.7039, Loss: 0.6856643557548523\n",
      "pred: tensor([ 0.0640, -0.0017,  0.0397,  ...,  0.0731,  0.0569,  0.0430],\n",
      "       device='cuda:0', grad_fn=<SumBackward1>)\n",
      "true_labels_converted: tensor([1., 1., 1.,  ..., 0., 0., 0.], device='cuda:0')\n",
      "loss: 0.6855049133300781\n",
      "Epoch: 016, Train: 0.6987, Val: 0.6910, Test: 0.7014, Loss: 0.6855049133300781\n",
      "pred: tensor([ 0.0280, -0.0168,  0.0620,  ...,  0.0546,  0.0486,  0.0816],\n",
      "       device='cuda:0', grad_fn=<SumBackward1>)\n",
      "true_labels_converted: tensor([1., 1., 1.,  ..., 0., 0., 0.], device='cuda:0')\n",
      "loss: 0.6847453713417053\n",
      "Epoch: 017, Train: 0.6907, Val: 0.6740, Test: 0.7075, Loss: 0.6847453713417053\n",
      "pred: tensor([ 0.0437,  0.0054,  0.0462,  ...,  0.0117, -0.0042,  0.0921],\n",
      "       device='cuda:0', grad_fn=<SumBackward1>)\n",
      "true_labels_converted: tensor([1., 1., 1.,  ..., 0., 0., 0.], device='cuda:0')\n",
      "loss: 0.6846985220909119\n",
      "Epoch: 018, Train: 0.7028, Val: 0.6852, Test: 0.6944, Loss: 0.6846985220909119\n",
      "pred: tensor([0.0909, 0.0223, 0.0558,  ..., 0.0762, 0.0036, 0.0994], device='cuda:0',\n",
      "       grad_fn=<SumBackward1>)\n",
      "true_labels_converted: tensor([1., 1., 1.,  ..., 0., 0., 0.], device='cuda:0')\n",
      "loss: 0.6835379004478455\n",
      "Epoch: 019, Train: 0.7021, Val: 0.6819, Test: 0.7048, Loss: 0.6835379004478455\n",
      "pred: tensor([0.0951, 0.0121, 0.0662,  ..., 0.0812, 0.0593, 0.0347], device='cuda:0',\n",
      "       grad_fn=<SumBackward1>)\n",
      "true_labels_converted: tensor([1., 1., 1.,  ..., 0., 0., 0.], device='cuda:0')\n",
      "loss: 0.6832895278930664\n",
      "Epoch: 020, Train: 0.7001, Val: 0.6800, Test: 0.6961, Loss: 0.6832895278930664\n",
      "pred: tensor([0.0920, 0.0243, 0.0566,  ..., 0.1521, 0.1691, 0.1360], device='cuda:0',\n",
      "       grad_fn=<SumBackward1>)\n",
      "true_labels_converted: tensor([1., 1., 1.,  ..., 0., 0., 0.], device='cuda:0')\n",
      "loss: 0.6831281781196594\n",
      "Epoch: 021, Train: 0.6953, Val: 0.6903, Test: 0.7027, Loss: 0.6831281781196594\n",
      "pred: tensor([0.0723, 0.0050, 0.0559,  ..., 0.0759, 0.0569, 0.0537], device='cuda:0',\n",
      "       grad_fn=<SumBackward1>)\n",
      "true_labels_converted: tensor([1., 1., 1.,  ..., 0., 0., 0.], device='cuda:0')\n",
      "loss: 0.6810316443443298\n",
      "Epoch: 022, Train: 0.7112, Val: 0.6864, Test: 0.7140, Loss: 0.6810316443443298\n",
      "pred: tensor([0.1254, 0.0029, 0.0679,  ..., 0.0548, 0.0417, 0.0824], device='cuda:0',\n",
      "       grad_fn=<SumBackward1>)\n",
      "true_labels_converted: tensor([1., 1., 1.,  ..., 0., 0., 0.], device='cuda:0')\n",
      "loss: 0.6801261901855469\n",
      "Epoch: 023, Train: 0.7268, Val: 0.7042, Test: 0.7288, Loss: 0.6801261901855469\n",
      "pred: tensor([0.1388, 0.0011, 0.0890,  ..., 0.0258, 0.0302, 0.1633], device='cuda:0',\n",
      "       grad_fn=<SumBackward1>)\n",
      "true_labels_converted: tensor([1., 1., 1.,  ..., 0., 0., 0.], device='cuda:0')\n",
      "loss: 0.6786428689956665\n",
      "Epoch: 024, Train: 0.7275, Val: 0.7040, Test: 0.7231, Loss: 0.6786428689956665\n",
      "pred: tensor([0.1604, 0.0028, 0.0582,  ..., 0.2539, 0.2298, 0.0089], device='cuda:0',\n",
      "       grad_fn=<SumBackward1>)\n",
      "true_labels_converted: tensor([1., 1., 1.,  ..., 0., 0., 0.], device='cuda:0')\n",
      "loss: 0.6776623725891113\n",
      "Epoch: 025, Train: 0.7351, Val: 0.7137, Test: 0.7218, Loss: 0.6776623725891113\n",
      "pred: tensor([ 0.1513,  0.0159,  0.0996,  ...,  0.1805, -0.0184,  0.0802],\n",
      "       device='cuda:0', grad_fn=<SumBackward1>)\n",
      "true_labels_converted: tensor([1., 1., 1.,  ..., 0., 0., 0.], device='cuda:0')\n",
      "loss: 0.6765308380126953\n",
      "Epoch: 026, Train: 0.7439, Val: 0.7211, Test: 0.7435, Loss: 0.6765308380126953\n",
      "pred: tensor([ 0.1898, -0.0136,  0.0572,  ...,  0.2429,  0.0446,  0.1195],\n",
      "       device='cuda:0', grad_fn=<SumBackward1>)\n",
      "true_labels_converted: tensor([1., 1., 1.,  ..., 0., 0., 0.], device='cuda:0')\n",
      "loss: 0.6742863059043884\n",
      "Epoch: 027, Train: 0.7446, Val: 0.7269, Test: 0.7568, Loss: 0.6742863059043884\n",
      "pred: tensor([ 0.2268, -0.0042,  0.1026,  ...,  0.0468,  0.1137,  0.1825],\n",
      "       device='cuda:0', grad_fn=<SumBackward1>)\n",
      "true_labels_converted: tensor([1., 1., 1.,  ..., 0., 0., 0.], device='cuda:0')\n",
      "loss: 0.6723122596740723\n",
      "Epoch: 028, Train: 0.7651, Val: 0.7379, Test: 0.7530, Loss: 0.6723122596740723\n",
      "pred: tensor([0.1691, 0.0472, 0.0676,  ..., 0.0758, 0.0750, 0.0662], device='cuda:0',\n",
      "       grad_fn=<SumBackward1>)\n",
      "true_labels_converted: tensor([1., 1., 1.,  ..., 0., 0., 0.], device='cuda:0')\n",
      "loss: 0.6706562042236328\n",
      "Epoch: 029, Train: 0.7758, Val: 0.7477, Test: 0.7663, Loss: 0.6706562042236328\n",
      "pred: tensor([ 0.2079, -0.0214,  0.1045,  ...,  0.1065,  0.1035,  0.0224],\n",
      "       device='cuda:0', grad_fn=<SumBackward1>)\n",
      "true_labels_converted: tensor([1., 1., 1.,  ..., 0., 0., 0.], device='cuda:0')\n",
      "loss: 0.6670995354652405\n",
      "Epoch: 030, Train: 0.7745, Val: 0.7615, Test: 0.7791, Loss: 0.6670995354652405\n",
      "pred: tensor([ 0.2428, -0.0053,  0.0816,  ...,  0.2322,  0.2034,  0.1054],\n",
      "       device='cuda:0', grad_fn=<SumBackward1>)\n",
      "true_labels_converted: tensor([1., 1., 1.,  ..., 0., 0., 0.], device='cuda:0')\n",
      "loss: 0.6630601286888123\n",
      "Epoch: 031, Train: 0.7872, Val: 0.7723, Test: 0.7754, Loss: 0.6630601286888123\n",
      "pred: tensor([ 0.2929, -0.0313,  0.0559,  ..., -0.0441,  0.0123,  0.1043],\n",
      "       device='cuda:0', grad_fn=<SumBackward1>)\n",
      "true_labels_converted: tensor([1., 1., 1.,  ..., 0., 0., 0.], device='cuda:0')\n",
      "loss: 0.6604220271110535\n",
      "Epoch: 032, Train: 0.8070, Val: 0.7791, Test: 0.7960, Loss: 0.6604220271110535\n",
      "pred: tensor([ 0.2659, -0.0410,  0.0943,  ...,  0.2743,  0.1592,  0.0879],\n",
      "       device='cuda:0', grad_fn=<SumBackward1>)\n",
      "true_labels_converted: tensor([1., 1., 1.,  ..., 0., 0., 0.], device='cuda:0')\n",
      "loss: 0.6575373411178589\n",
      "Epoch: 033, Train: 0.8095, Val: 0.7913, Test: 0.7937, Loss: 0.6575373411178589\n",
      "pred: tensor([ 0.3524, -0.0160,  0.1296,  ...,  0.0521, -0.0058, -0.0023],\n",
      "       device='cuda:0', grad_fn=<SumBackward1>)\n",
      "true_labels_converted: tensor([1., 1., 1.,  ..., 0., 0., 0.], device='cuda:0')\n",
      "loss: 0.6533869504928589\n",
      "Epoch: 034, Train: 0.8140, Val: 0.7896, Test: 0.7974, Loss: 0.6533869504928589\n",
      "pred: tensor([0.4649, 0.0135, 0.1410,  ..., 0.2103, 0.4681, 0.0229], device='cuda:0',\n",
      "       grad_fn=<SumBackward1>)\n",
      "true_labels_converted: tensor([1., 1., 1.,  ..., 0., 0., 0.], device='cuda:0')\n",
      "loss: 0.6501697301864624\n",
      "Epoch: 035, Train: 0.8146, Val: 0.8082, Test: 0.8070, Loss: 0.6501697301864624\n",
      "pred: tensor([ 0.3164, -0.0534,  0.1352,  ...,  0.0786,  0.0248,  0.0655],\n",
      "       device='cuda:0', grad_fn=<SumBackward1>)\n",
      "true_labels_converted: tensor([1., 1., 1.,  ..., 0., 0., 0.], device='cuda:0')\n",
      "loss: 0.6432627439498901\n",
      "Epoch: 036, Train: 0.8256, Val: 0.8133, Test: 0.8162, Loss: 0.6432627439498901\n",
      "pred: tensor([ 0.3869, -0.0621,  0.1080,  ..., -0.0629,  0.1604,  0.0806],\n",
      "       device='cuda:0', grad_fn=<SumBackward1>)\n",
      "true_labels_converted: tensor([1., 1., 1.,  ..., 0., 0., 0.], device='cuda:0')\n",
      "loss: 0.6383660435676575\n",
      "Epoch: 037, Train: 0.8256, Val: 0.8160, Test: 0.8160, Loss: 0.6383660435676575\n",
      "pred: tensor([ 0.5063, -0.0219,  0.1668,  ..., -0.0542,  0.7146,  0.3056],\n",
      "       device='cuda:0', grad_fn=<SumBackward1>)\n",
      "true_labels_converted: tensor([1., 1., 1.,  ..., 0., 0., 0.], device='cuda:0')\n",
      "loss: 0.6354469656944275\n",
      "Epoch: 038, Train: 0.8316, Val: 0.8207, Test: 0.8220, Loss: 0.6354469656944275\n",
      "pred: tensor([ 0.4489, -0.0505,  0.1608,  ...,  0.1652, -0.0123,  0.0314],\n",
      "       device='cuda:0', grad_fn=<SumBackward1>)\n",
      "true_labels_converted: tensor([1., 1., 1.,  ..., 0., 0., 0.], device='cuda:0')\n",
      "loss: 0.6260903477668762\n",
      "Epoch: 039, Train: 0.8384, Val: 0.8336, Test: 0.8229, Loss: 0.6260903477668762\n",
      "pred: tensor([ 0.4496, -0.0171,  0.1375,  ...,  0.0087, -0.2326, -0.0665],\n",
      "       device='cuda:0', grad_fn=<SumBackward1>)\n",
      "true_labels_converted: tensor([1., 1., 1.,  ..., 0., 0., 0.], device='cuda:0')\n",
      "loss: 0.6223379969596863\n",
      "Epoch: 040, Train: 0.8414, Val: 0.8369, Test: 0.8303, Loss: 0.6223379969596863\n",
      "pred: tensor([ 0.5317, -0.0403,  0.2058,  ...,  0.0851,  0.4845,  0.0357],\n",
      "       device='cuda:0', grad_fn=<SumBackward1>)\n",
      "true_labels_converted: tensor([1., 1., 1.,  ..., 0., 0., 0.], device='cuda:0')\n",
      "loss: 0.6134276986122131\n",
      "Epoch: 041, Train: 0.8413, Val: 0.8442, Test: 0.8342, Loss: 0.6134276986122131\n",
      "pred: tensor([ 0.5702, -0.1125,  0.2014,  ...,  0.3200, -0.7858,  0.0298],\n",
      "       device='cuda:0', grad_fn=<SumBackward1>)\n",
      "true_labels_converted: tensor([1., 1., 1.,  ..., 0., 0., 0.], device='cuda:0')\n",
      "loss: 0.6047874689102173\n",
      "Epoch: 042, Train: 0.8559, Val: 0.8497, Test: 0.8383, Loss: 0.6047874689102173\n",
      "pred: tensor([ 0.7655, -0.1455,  0.2150,  ...,  0.0348,  0.1732, -0.0879],\n",
      "       device='cuda:0', grad_fn=<SumBackward1>)\n",
      "true_labels_converted: tensor([1., 1., 1.,  ..., 0., 0., 0.], device='cuda:0')\n",
      "loss: 0.5971221327781677\n",
      "Epoch: 043, Train: 0.8495, Val: 0.8554, Test: 0.8387, Loss: 0.5971221327781677\n",
      "pred: tensor([ 1.0515,  0.0360,  0.2907,  ..., -0.0676, -0.0458,  0.1407],\n",
      "       device='cuda:0', grad_fn=<SumBackward1>)\n",
      "true_labels_converted: tensor([1., 1., 1.,  ..., 0., 0., 0.], device='cuda:0')\n",
      "loss: 0.5908334255218506\n",
      "Epoch: 044, Train: 0.8515, Val: 0.8563, Test: 0.8393, Loss: 0.5908334255218506\n",
      "pred: tensor([ 1.0050, -0.0681,  0.3023,  ..., -0.0723,  0.2536,  1.1186],\n",
      "       device='cuda:0', grad_fn=<SumBackward1>)\n",
      "true_labels_converted: tensor([1., 1., 1.,  ..., 0., 0., 0.], device='cuda:0')\n",
      "loss: 0.5858593583106995\n",
      "Epoch: 045, Train: 0.8528, Val: 0.8558, Test: 0.8361, Loss: 0.5858593583106995\n",
      "pred: tensor([ 1.4321, -0.0757,  0.2789,  ..., -0.3770,  0.1595, -0.0256],\n",
      "       device='cuda:0', grad_fn=<SumBackward1>)\n",
      "true_labels_converted: tensor([1., 1., 1.,  ..., 0., 0., 0.], device='cuda:0')\n",
      "loss: 0.5672892928123474\n",
      "Epoch: 046, Train: 0.8641, Val: 0.8538, Test: 0.8412, Loss: 0.5672892928123474\n",
      "pred: tensor([ 1.3116, -0.1940,  0.3220,  ...,  0.0561,  0.4134,  1.2417],\n",
      "       device='cuda:0', grad_fn=<SumBackward1>)\n",
      "true_labels_converted: tensor([1., 1., 1.,  ..., 0., 0., 0.], device='cuda:0')\n",
      "loss: 0.5676686763763428\n",
      "Epoch: 047, Train: 0.8516, Val: 0.8560, Test: 0.8401, Loss: 0.5676686763763428\n",
      "pred: tensor([ 1.2886, -0.1238,  0.4675,  ...,  0.8234, -0.1523,  1.0561],\n",
      "       device='cuda:0', grad_fn=<SumBackward1>)\n",
      "true_labels_converted: tensor([1., 1., 1.,  ..., 0., 0., 0.], device='cuda:0')\n",
      "loss: 0.5617402791976929\n",
      "Epoch: 048, Train: 0.8517, Val: 0.8604, Test: 0.8446, Loss: 0.5617402791976929\n",
      "pred: tensor([ 1.8319, -0.2589,  0.4271,  ..., -0.1833, -0.1260, -0.1398],\n",
      "       device='cuda:0', grad_fn=<SumBackward1>)\n",
      "true_labels_converted: tensor([1., 1., 1.,  ..., 0., 0., 0.], device='cuda:0')\n",
      "loss: 0.5584561824798584\n",
      "Epoch: 049, Train: 0.8539, Val: 0.8640, Test: 0.8375, Loss: 0.5584561824798584\n",
      "pred: tensor([ 1.9734, -0.1291,  0.5034,  ...,  0.1070,  0.7696,  0.3762],\n",
      "       device='cuda:0', grad_fn=<SumBackward1>)\n",
      "true_labels_converted: tensor([1., 1., 1.,  ..., 0., 0., 0.], device='cuda:0')\n",
      "loss: 0.559636652469635\n",
      "Epoch: 050, Train: 0.8540, Val: 0.8717, Test: 0.8391, Loss: 0.559636652469635\n",
      "pred: tensor([ 1.9760, -0.1403,  0.5244,  ...,  0.2709, -0.3647, -0.6068],\n",
      "       device='cuda:0', grad_fn=<SumBackward1>)\n",
      "true_labels_converted: tensor([1., 1., 1.,  ..., 0., 0., 0.], device='cuda:0')\n",
      "loss: 0.5469844341278076\n",
      "Epoch: 051, Train: 0.8608, Val: 0.8670, Test: 0.8415, Loss: 0.5469844341278076\n",
      "pred: tensor([ 2.4339, -0.0074,  0.5929,  ..., -0.5237, -1.1247,  1.6404],\n",
      "       device='cuda:0', grad_fn=<SumBackward1>)\n",
      "true_labels_converted: tensor([1., 1., 1.,  ..., 0., 0., 0.], device='cuda:0')\n",
      "loss: 0.5441341400146484\n",
      "Epoch: 052, Train: 0.8636, Val: 0.8679, Test: 0.8456, Loss: 0.5441341400146484\n",
      "pred: tensor([ 1.6994, -0.1084,  0.6197,  ..., -2.4092,  0.7687, -1.6163],\n",
      "       device='cuda:0', grad_fn=<SumBackward1>)\n",
      "true_labels_converted: tensor([1., 1., 1.,  ..., 0., 0., 0.], device='cuda:0')\n",
      "loss: 0.5333101749420166\n",
      "Epoch: 053, Train: 0.8667, Val: 0.8729, Test: 0.8486, Loss: 0.5333101749420166\n",
      "pred: tensor([ 1.5110, -0.1484,  0.7406,  ...,  2.1226, -0.2548, -0.2385],\n",
      "       device='cuda:0', grad_fn=<SumBackward1>)\n",
      "true_labels_converted: tensor([1., 1., 1.,  ..., 0., 0., 0.], device='cuda:0')\n",
      "loss: 0.5373418927192688\n",
      "Epoch: 054, Train: 0.8733, Val: 0.8662, Test: 0.8452, Loss: 0.5373418927192688\n",
      "pred: tensor([ 2.5795, -0.4066,  0.6232,  ..., -0.0762,  0.4148,  0.6854],\n",
      "       device='cuda:0', grad_fn=<SumBackward1>)\n",
      "true_labels_converted: tensor([1., 1., 1.,  ..., 0., 0., 0.], device='cuda:0')\n",
      "loss: 0.52559494972229\n",
      "Epoch: 055, Train: 0.8745, Val: 0.8816, Test: 0.8502, Loss: 0.52559494972229\n",
      "pred: tensor([ 2.3509, -0.2082,  0.6513,  ...,  0.2891,  0.6759,  0.0765],\n",
      "       device='cuda:0', grad_fn=<SumBackward1>)\n",
      "true_labels_converted: tensor([1., 1., 1.,  ..., 0., 0., 0.], device='cuda:0')\n",
      "loss: 0.5357128381729126\n",
      "Epoch: 056, Train: 0.8721, Val: 0.8672, Test: 0.8503, Loss: 0.5357128381729126\n",
      "pred: tensor([ 2.4949, -0.1981,  0.8162,  ...,  0.5015,  1.3040,  0.4969],\n",
      "       device='cuda:0', grad_fn=<SumBackward1>)\n",
      "true_labels_converted: tensor([1., 1., 1.,  ..., 0., 0., 0.], device='cuda:0')\n",
      "loss: 0.5409007668495178\n",
      "Epoch: 057, Train: 0.8797, Val: 0.8736, Test: 0.8514, Loss: 0.5409007668495178\n",
      "pred: tensor([ 1.5932, -0.1625,  0.6618,  ..., -0.8990,  0.7145, -0.5001],\n",
      "       device='cuda:0', grad_fn=<SumBackward1>)\n",
      "true_labels_converted: tensor([1., 1., 1.,  ..., 0., 0., 0.], device='cuda:0')\n",
      "loss: 0.536542534828186\n",
      "Epoch: 058, Train: 0.8836, Val: 0.8823, Test: 0.8520, Loss: 0.536542534828186\n",
      "pred: tensor([ 2.2792, -0.4081,  0.6840,  ...,  0.7137,  1.2110, -0.8493],\n",
      "       device='cuda:0', grad_fn=<SumBackward1>)\n",
      "true_labels_converted: tensor([1., 1., 1.,  ..., 0., 0., 0.], device='cuda:0')\n",
      "loss: 0.5374021530151367\n",
      "Epoch: 059, Train: 0.8885, Val: 0.8735, Test: 0.8525, Loss: 0.5374021530151367\n",
      "pred: tensor([ 2.1697, -0.0294,  0.8640,  ..., -0.1771,  0.6425, -0.4603],\n",
      "       device='cuda:0', grad_fn=<SumBackward1>)\n",
      "true_labels_converted: tensor([1., 1., 1.,  ..., 0., 0., 0.], device='cuda:0')\n",
      "loss: 0.510953962802887\n",
      "Epoch: 060, Train: 0.8860, Val: 0.8807, Test: 0.8551, Loss: 0.510953962802887\n",
      "pred: tensor([ 2.1623, -0.0911,  0.6226,  ...,  0.6159,  0.5009, -0.1036],\n",
      "       device='cuda:0', grad_fn=<SumBackward1>)\n",
      "true_labels_converted: tensor([1., 1., 1.,  ..., 0., 0., 0.], device='cuda:0')\n",
      "loss: 0.517386257648468\n",
      "Epoch: 061, Train: 0.8933, Val: 0.8803, Test: 0.8633, Loss: 0.517386257648468\n",
      "pred: tensor([ 2.0234, -0.2614,  0.8668,  ..., -1.0698,  1.5987,  0.3689],\n",
      "       device='cuda:0', grad_fn=<SumBackward1>)\n",
      "true_labels_converted: tensor([1., 1., 1.,  ..., 0., 0., 0.], device='cuda:0')\n",
      "loss: 0.522399365901947\n",
      "Epoch: 062, Train: 0.8945, Val: 0.8796, Test: 0.8615, Loss: 0.522399365901947\n",
      "pred: tensor([ 2.5832, -0.3201,  0.7095,  ...,  0.3484, -1.6744, -0.5543],\n",
      "       device='cuda:0', grad_fn=<SumBackward1>)\n",
      "true_labels_converted: tensor([1., 1., 1.,  ..., 0., 0., 0.], device='cuda:0')\n",
      "loss: 0.5298600196838379\n",
      "Epoch: 063, Train: 0.8876, Val: 0.8828, Test: 0.8643, Loss: 0.5298600196838379\n",
      "pred: tensor([ 1.9556, -0.0468,  0.6622,  ...,  0.3666, -0.8679, -0.1726],\n",
      "       device='cuda:0', grad_fn=<SumBackward1>)\n",
      "true_labels_converted: tensor([1., 1., 1.,  ..., 0., 0., 0.], device='cuda:0')\n",
      "loss: 0.5220960378646851\n",
      "Epoch: 064, Train: 0.8997, Val: 0.8818, Test: 0.8639, Loss: 0.5220960378646851\n",
      "pred: tensor([ 1.7164, -0.1233,  0.7359,  ..., -0.1810, -0.8089, -0.6505],\n",
      "       device='cuda:0', grad_fn=<SumBackward1>)\n",
      "true_labels_converted: tensor([1., 1., 1.,  ..., 0., 0., 0.], device='cuda:0')\n",
      "loss: 0.5095476508140564\n",
      "Epoch: 065, Train: 0.9051, Val: 0.8866, Test: 0.8648, Loss: 0.5095476508140564\n",
      "pred: tensor([ 1.3670, -0.0921,  0.8133,  ..., -1.1852, -0.5441,  0.1824],\n",
      "       device='cuda:0', grad_fn=<SumBackward1>)\n",
      "true_labels_converted: tensor([1., 1., 1.,  ..., 0., 0., 0.], device='cuda:0')\n",
      "loss: 0.5046693682670593\n",
      "Epoch: 066, Train: 0.9091, Val: 0.8853, Test: 0.8634, Loss: 0.5046693682670593\n",
      "pred: tensor([ 1.8116, -0.0541,  0.6868,  ...,  0.1630,  0.0615, -0.0584],\n",
      "       device='cuda:0', grad_fn=<SumBackward1>)\n",
      "true_labels_converted: tensor([1., 1., 1.,  ..., 0., 0., 0.], device='cuda:0')\n",
      "loss: 0.5127479434013367\n",
      "Epoch: 067, Train: 0.9095, Val: 0.8865, Test: 0.8723, Loss: 0.5127479434013367\n",
      "pred: tensor([ 1.9107, -0.1654,  0.6391,  ...,  0.8464, -0.6998,  0.1628],\n",
      "       device='cuda:0', grad_fn=<SumBackward1>)\n",
      "true_labels_converted: tensor([1., 1., 1.,  ..., 0., 0., 0.], device='cuda:0')\n",
      "loss: 0.4997168481349945\n",
      "Epoch: 068, Train: 0.9199, Val: 0.8892, Test: 0.8735, Loss: 0.4997168481349945\n",
      "pred: tensor([ 2.2486,  0.0067,  0.9310,  ..., -0.1305,  0.0314, -0.1443],\n",
      "       device='cuda:0', grad_fn=<SumBackward1>)\n",
      "true_labels_converted: tensor([1., 1., 1.,  ..., 0., 0., 0.], device='cuda:0')\n",
      "loss: 0.5038657784461975\n",
      "Epoch: 069, Train: 0.9132, Val: 0.8925, Test: 0.8748, Loss: 0.5038657784461975\n",
      "pred: tensor([ 2.5014, -0.0206,  0.7052,  ...,  1.1482, -0.3321,  0.5973],\n",
      "       device='cuda:0', grad_fn=<SumBackward1>)\n",
      "true_labels_converted: tensor([1., 1., 1.,  ..., 0., 0., 0.], device='cuda:0')\n",
      "loss: 0.4945200979709625\n",
      "Epoch: 070, Train: 0.9104, Val: 0.8851, Test: 0.8758, Loss: 0.4945200979709625\n",
      "pred: tensor([ 2.4328,  0.0066,  0.8139,  ..., -0.5391,  0.5511, -0.2600],\n",
      "       device='cuda:0', grad_fn=<SumBackward1>)\n",
      "true_labels_converted: tensor([1., 1., 1.,  ..., 0., 0., 0.], device='cuda:0')\n",
      "loss: 0.4949451684951782\n",
      "Epoch: 071, Train: 0.9176, Val: 0.8961, Test: 0.8787, Loss: 0.4949451684951782\n",
      "pred: tensor([ 2.4621, -0.0365,  1.0141,  ...,  0.0544,  0.2487, -0.4569],\n",
      "       device='cuda:0', grad_fn=<SumBackward1>)\n",
      "true_labels_converted: tensor([1., 1., 1.,  ..., 0., 0., 0.], device='cuda:0')\n",
      "loss: 0.4979499876499176\n",
      "Epoch: 072, Train: 0.9161, Val: 0.8844, Test: 0.8711, Loss: 0.4979499876499176\n",
      "pred: tensor([ 1.8788, -0.0457,  0.8932,  ...,  1.1638, -0.0573, -0.2424],\n",
      "       device='cuda:0', grad_fn=<SumBackward1>)\n",
      "true_labels_converted: tensor([1., 1., 1.,  ..., 0., 0., 0.], device='cuda:0')\n",
      "loss: 0.49940595030784607\n",
      "Epoch: 073, Train: 0.9168, Val: 0.8897, Test: 0.8737, Loss: 0.49940595030784607\n",
      "pred: tensor([ 2.8095, -0.0810,  0.5957,  ..., -0.8199,  1.6986, -0.8628],\n",
      "       device='cuda:0', grad_fn=<SumBackward1>)\n",
      "true_labels_converted: tensor([1., 1., 1.,  ..., 0., 0., 0.], device='cuda:0')\n",
      "loss: 0.5002644658088684\n",
      "Epoch: 074, Train: 0.9251, Val: 0.8964, Test: 0.8795, Loss: 0.5002644658088684\n",
      "pred: tensor([ 2.2280, -0.0761,  0.9493,  ..., -0.2199,  0.2651, -1.5965],\n",
      "       device='cuda:0', grad_fn=<SumBackward1>)\n",
      "true_labels_converted: tensor([1., 1., 1.,  ..., 0., 0., 0.], device='cuda:0')\n",
      "loss: 0.5028850436210632\n",
      "Epoch: 075, Train: 0.9159, Val: 0.8899, Test: 0.8800, Loss: 0.5028850436210632\n",
      "pred: tensor([ 2.2598,  0.1424,  0.9202,  ...,  1.4085,  0.6292, -1.1476],\n",
      "       device='cuda:0', grad_fn=<SumBackward1>)\n",
      "true_labels_converted: tensor([1., 1., 1.,  ..., 0., 0., 0.], device='cuda:0')\n",
      "loss: 0.5093437433242798\n",
      "Epoch: 076, Train: 0.9222, Val: 0.8803, Test: 0.8796, Loss: 0.5093437433242798\n",
      "pred: tensor([ 2.1740,  0.1439,  1.0419,  ...,  3.0819, -0.6089, -0.1382],\n",
      "       device='cuda:0', grad_fn=<SumBackward1>)\n",
      "true_labels_converted: tensor([1., 1., 1.,  ..., 0., 0., 0.], device='cuda:0')\n",
      "loss: 0.4879858195781708\n",
      "Epoch: 077, Train: 0.9272, Val: 0.8915, Test: 0.8799, Loss: 0.4879858195781708\n",
      "pred: tensor([ 1.6773,  0.2355,  1.1819,  ...,  0.0189, -0.4496, -0.5467],\n",
      "       device='cuda:0', grad_fn=<SumBackward1>)\n",
      "true_labels_converted: tensor([1., 1., 1.,  ..., 0., 0., 0.], device='cuda:0')\n",
      "loss: 0.49467259645462036\n",
      "Epoch: 078, Train: 0.9245, Val: 0.8849, Test: 0.8821, Loss: 0.49467259645462036\n",
      "pred: tensor([ 3.3194,  0.1954,  1.1607,  ..., -0.0316, -0.0722,  4.0759],\n",
      "       device='cuda:0', grad_fn=<SumBackward1>)\n",
      "true_labels_converted: tensor([1., 1., 1.,  ..., 0., 0., 0.], device='cuda:0')\n",
      "loss: 0.47882652282714844\n",
      "Epoch: 079, Train: 0.9346, Val: 0.8915, Test: 0.8753, Loss: 0.47882652282714844\n",
      "pred: tensor([2.5438e+00, 2.3153e-03, 1.4112e+00,  ..., 1.3444e+00, 4.0359e-01,\n",
      "        1.0283e-01], device='cuda:0', grad_fn=<SumBackward1>)\n",
      "true_labels_converted: tensor([1., 1., 1.,  ..., 0., 0., 0.], device='cuda:0')\n",
      "loss: 0.4932732880115509\n",
      "Epoch: 080, Train: 0.9250, Val: 0.8874, Test: 0.8781, Loss: 0.4932732880115509\n",
      "pred: tensor([ 2.7986,  0.1422,  1.0862,  ...,  0.0821, -0.0916, -0.6470],\n",
      "       device='cuda:0', grad_fn=<SumBackward1>)\n",
      "true_labels_converted: tensor([1., 1., 1.,  ..., 0., 0., 0.], device='cuda:0')\n",
      "loss: 0.496427983045578\n",
      "Epoch: 081, Train: 0.9269, Val: 0.8865, Test: 0.8774, Loss: 0.496427983045578\n",
      "pred: tensor([ 3.1667,  0.3171,  1.1735,  ..., -0.2317, -0.2131,  0.4374],\n",
      "       device='cuda:0', grad_fn=<SumBackward1>)\n",
      "true_labels_converted: tensor([1., 1., 1.,  ..., 0., 0., 0.], device='cuda:0')\n",
      "loss: 0.4826637804508209\n",
      "Epoch: 082, Train: 0.9345, Val: 0.8930, Test: 0.8788, Loss: 0.4826637804508209\n",
      "pred: tensor([ 3.7683,  0.0754,  1.1269,  ..., -0.3774, -1.4342,  1.1268],\n",
      "       device='cuda:0', grad_fn=<SumBackward1>)\n",
      "true_labels_converted: tensor([1., 1., 1.,  ..., 0., 0., 0.], device='cuda:0')\n",
      "loss: 0.480335533618927\n",
      "Epoch: 083, Train: 0.9334, Val: 0.8937, Test: 0.8825, Loss: 0.480335533618927\n",
      "pred: tensor([3.0425, 0.3083, 1.3329,  ..., 0.0995, 1.9856, 1.3603], device='cuda:0',\n",
      "       grad_fn=<SumBackward1>)\n",
      "true_labels_converted: tensor([1., 1., 1.,  ..., 0., 0., 0.], device='cuda:0')\n",
      "loss: 0.49110648036003113\n",
      "Epoch: 084, Train: 0.9332, Val: 0.8955, Test: 0.8809, Loss: 0.49110648036003113\n",
      "pred: tensor([ 2.9479,  0.2339,  1.2366,  ..., -0.3587, -0.2288,  0.5969],\n",
      "       device='cuda:0', grad_fn=<SumBackward1>)\n",
      "true_labels_converted: tensor([1., 1., 1.,  ..., 0., 0., 0.], device='cuda:0')\n",
      "loss: 0.4865376353263855\n",
      "Epoch: 085, Train: 0.9367, Val: 0.8914, Test: 0.8810, Loss: 0.4865376353263855\n",
      "pred: tensor([ 2.9773,  0.3022,  1.0576,  ...,  2.0320, -0.9662, -0.3619],\n",
      "       device='cuda:0', grad_fn=<SumBackward1>)\n",
      "true_labels_converted: tensor([1., 1., 1.,  ..., 0., 0., 0.], device='cuda:0')\n",
      "loss: 0.49271324276924133\n",
      "Epoch: 086, Train: 0.9386, Val: 0.8891, Test: 0.8822, Loss: 0.49271324276924133\n",
      "pred: tensor([ 3.0846,  0.3106,  1.1172,  ...,  0.0322,  0.7783, -0.3586],\n",
      "       device='cuda:0', grad_fn=<SumBackward1>)\n",
      "true_labels_converted: tensor([1., 1., 1.,  ..., 0., 0., 0.], device='cuda:0')\n",
      "loss: 0.4805248975753784\n",
      "Epoch: 087, Train: 0.9347, Val: 0.8891, Test: 0.8856, Loss: 0.4805248975753784\n",
      "pred: tensor([ 3.3290,  0.2306,  1.4401,  ...,  0.6656, -1.1480, -0.9670],\n",
      "       device='cuda:0', grad_fn=<SumBackward1>)\n",
      "true_labels_converted: tensor([1., 1., 1.,  ..., 0., 0., 0.], device='cuda:0')\n",
      "loss: 0.48241904377937317\n",
      "Epoch: 088, Train: 0.9382, Val: 0.8884, Test: 0.8800, Loss: 0.48241904377937317\n",
      "pred: tensor([ 2.4639,  0.2630,  1.2763,  ...,  3.9378,  1.6952, -1.1306],\n",
      "       device='cuda:0', grad_fn=<SumBackward1>)\n",
      "true_labels_converted: tensor([1., 1., 1.,  ..., 0., 0., 0.], device='cuda:0')\n",
      "loss: 0.48824015259742737\n",
      "Epoch: 089, Train: 0.9414, Val: 0.8997, Test: 0.8844, Loss: 0.48824015259742737\n",
      "pred: tensor([ 3.6570,  0.2754,  1.2197,  ...,  0.4097,  0.3170, -0.3466],\n",
      "       device='cuda:0', grad_fn=<SumBackward1>)\n",
      "true_labels_converted: tensor([1., 1., 1.,  ..., 0., 0., 0.], device='cuda:0')\n",
      "loss: 0.4718666076660156\n",
      "Epoch: 090, Train: 0.9391, Val: 0.8985, Test: 0.8851, Loss: 0.4718666076660156\n",
      "pred: tensor([ 2.0787,  0.3037,  1.2884,  ..., -0.2822,  0.4491, -0.3022],\n",
      "       device='cuda:0', grad_fn=<SumBackward1>)\n",
      "true_labels_converted: tensor([1., 1., 1.,  ..., 0., 0., 0.], device='cuda:0')\n",
      "loss: 0.4773913025856018\n",
      "Epoch: 091, Train: 0.9418, Val: 0.8966, Test: 0.8851, Loss: 0.4773913025856018\n",
      "pred: tensor([ 3.8439,  0.2188,  1.2155,  ...,  1.1036, -1.4225, -0.4561],\n",
      "       device='cuda:0', grad_fn=<SumBackward1>)\n",
      "true_labels_converted: tensor([1., 1., 1.,  ..., 0., 0., 0.], device='cuda:0')\n",
      "loss: 0.4816550016403198\n",
      "Epoch: 092, Train: 0.9419, Val: 0.8894, Test: 0.8849, Loss: 0.4816550016403198\n",
      "pred: tensor([ 3.4123,  0.7664,  1.3300,  ..., -1.1414, -1.0490, -0.4511],\n",
      "       device='cuda:0', grad_fn=<SumBackward1>)\n",
      "true_labels_converted: tensor([1., 1., 1.,  ..., 0., 0., 0.], device='cuda:0')\n",
      "loss: 0.4801415801048279\n",
      "Epoch: 093, Train: 0.9429, Val: 0.8988, Test: 0.8875, Loss: 0.4801415801048279\n",
      "pred: tensor([ 3.2128,  0.3322,  1.0562,  ..., -0.6055,  0.2570,  1.1981],\n",
      "       device='cuda:0', grad_fn=<SumBackward1>)\n",
      "true_labels_converted: tensor([1., 1., 1.,  ..., 0., 0., 0.], device='cuda:0')\n",
      "loss: 0.4760381281375885\n",
      "Epoch: 094, Train: 0.9469, Val: 0.8940, Test: 0.8824, Loss: 0.4760381281375885\n",
      "pred: tensor([ 3.4628,  0.3200,  1.5656,  ..., -1.2923, -0.5131,  0.1307],\n",
      "       device='cuda:0', grad_fn=<SumBackward1>)\n",
      "true_labels_converted: tensor([1., 1., 1.,  ..., 0., 0., 0.], device='cuda:0')\n",
      "loss: 0.47814396023750305\n",
      "Epoch: 095, Train: 0.9486, Val: 0.8970, Test: 0.8865, Loss: 0.47814396023750305\n",
      "pred: tensor([ 3.7749,  0.1844,  1.2007,  ...,  0.1460, -0.0987,  1.8319],\n",
      "       device='cuda:0', grad_fn=<SumBackward1>)\n",
      "true_labels_converted: tensor([1., 1., 1.,  ..., 0., 0., 0.], device='cuda:0')\n",
      "loss: 0.47058752179145813\n",
      "Epoch: 096, Train: 0.9454, Val: 0.8954, Test: 0.8865, Loss: 0.47058752179145813\n",
      "pred: tensor([3.6398, 0.3921, 1.6013,  ..., 1.0309, 0.6721, 0.0235], device='cuda:0',\n",
      "       grad_fn=<SumBackward1>)\n",
      "true_labels_converted: tensor([1., 1., 1.,  ..., 0., 0., 0.], device='cuda:0')\n",
      "loss: 0.47328829765319824\n",
      "Epoch: 097, Train: 0.9514, Val: 0.8976, Test: 0.8849, Loss: 0.47328829765319824\n",
      "pred: tensor([ 3.0040,  0.3232,  1.2154,  ...,  0.9958, -0.5383,  0.0314],\n",
      "       device='cuda:0', grad_fn=<SumBackward1>)\n",
      "true_labels_converted: tensor([1., 1., 1.,  ..., 0., 0., 0.], device='cuda:0')\n",
      "loss: 0.4785861074924469\n",
      "Epoch: 098, Train: 0.9499, Val: 0.8983, Test: 0.8859, Loss: 0.4785861074924469\n",
      "pred: tensor([ 3.1647,  0.5282,  1.2751,  ...,  0.3261, -0.8572, -0.8039],\n",
      "       device='cuda:0', grad_fn=<SumBackward1>)\n",
      "true_labels_converted: tensor([1., 1., 1.,  ..., 0., 0., 0.], device='cuda:0')\n",
      "loss: 0.4760587215423584\n",
      "Epoch: 099, Train: 0.9458, Val: 0.8984, Test: 0.8883, Loss: 0.4760587215423584\n",
      "pred: tensor([ 2.6037,  0.4396,  1.2520,  ..., -0.5945, -1.1998, -0.0912],\n",
      "       device='cuda:0', grad_fn=<SumBackward1>)\n",
      "true_labels_converted: tensor([1., 1., 1.,  ..., 0., 0., 0.], device='cuda:0')\n",
      "loss: 0.46686771512031555\n",
      "Epoch: 100, Train: 0.9495, Val: 0.8982, Test: 0.8874, Loss: 0.46686771512031555\n",
      "pred: tensor([ 3.4749,  0.3694,  1.5442,  ...,  0.3051,  1.0941, -0.7433],\n",
      "       device='cuda:0', grad_fn=<SumBackward1>)\n",
      "true_labels_converted: tensor([1., 1., 1.,  ..., 0., 0., 0.], device='cuda:0')\n",
      "loss: 0.4563281238079071\n",
      "Epoch: 101, Train: 0.9529, Val: 0.9039, Test: 0.8863, Loss: 0.4563281238079071\n",
      "pred: tensor([ 2.6713,  0.4242,  1.6485,  ..., -0.6162, -0.8287,  0.9489],\n",
      "       device='cuda:0', grad_fn=<SumBackward1>)\n",
      "true_labels_converted: tensor([1., 1., 1.,  ..., 0., 0., 0.], device='cuda:0')\n",
      "loss: 0.46140390634536743\n",
      "Epoch: 102, Train: 0.9509, Val: 0.8946, Test: 0.8878, Loss: 0.46140390634536743\n",
      "pred: tensor([ 3.8922,  0.3856,  1.1382,  ...,  0.3345,  0.4624, -0.1743],\n",
      "       device='cuda:0', grad_fn=<SumBackward1>)\n",
      "true_labels_converted: tensor([1., 1., 1.,  ..., 0., 0., 0.], device='cuda:0')\n",
      "loss: 0.4668234884738922\n",
      "Epoch: 103, Train: 0.9565, Val: 0.8995, Test: 0.8881, Loss: 0.4668234884738922\n",
      "pred: tensor([ 3.4205,  0.4301,  1.5170,  ..., -0.0917, -0.2402,  0.1992],\n",
      "       device='cuda:0', grad_fn=<SumBackward1>)\n",
      "true_labels_converted: tensor([1., 1., 1.,  ..., 0., 0., 0.], device='cuda:0')\n",
      "loss: 0.465812623500824\n",
      "Epoch: 104, Train: 0.9525, Val: 0.9043, Test: 0.8907, Loss: 0.465812623500824\n",
      "pred: tensor([ 3.8804e+00,  3.5626e-01,  1.1878e+00,  ..., -5.7597e-01,\n",
      "        -3.5550e-03, -8.0097e-01], device='cuda:0', grad_fn=<SumBackward1>)\n",
      "true_labels_converted: tensor([1., 1., 1.,  ..., 0., 0., 0.], device='cuda:0')\n",
      "loss: 0.46873560547828674\n",
      "Epoch: 105, Train: 0.9539, Val: 0.9078, Test: 0.8878, Loss: 0.46873560547828674\n",
      "pred: tensor([ 2.7001,  0.4979,  1.4261,  ...,  0.8742, -0.0183, -0.7374],\n",
      "       device='cuda:0', grad_fn=<SumBackward1>)\n",
      "true_labels_converted: tensor([1., 1., 1.,  ..., 0., 0., 0.], device='cuda:0')\n",
      "loss: 0.4676932692527771\n",
      "Epoch: 106, Train: 0.9589, Val: 0.9057, Test: 0.8893, Loss: 0.4676932692527771\n",
      "pred: tensor([ 3.7624,  0.6524,  1.4881,  ..., -0.7014,  0.0353,  0.1870],\n",
      "       device='cuda:0', grad_fn=<SumBackward1>)\n",
      "true_labels_converted: tensor([1., 1., 1.,  ..., 0., 0., 0.], device='cuda:0')\n",
      "loss: 0.47344970703125\n",
      "Epoch: 107, Train: 0.9500, Val: 0.8976, Test: 0.8862, Loss: 0.47344970703125\n",
      "pred: tensor([ 3.6236,  0.3934,  1.5520,  ..., -0.5929, -0.1198, -2.3172],\n",
      "       device='cuda:0', grad_fn=<SumBackward1>)\n",
      "true_labels_converted: tensor([1., 1., 1.,  ..., 0., 0., 0.], device='cuda:0')\n",
      "loss: 0.44673216342926025\n",
      "Epoch: 108, Train: 0.9552, Val: 0.9054, Test: 0.8931, Loss: 0.44673216342926025\n",
      "pred: tensor([ 3.4516,  0.3676,  1.7005,  ..., -0.4362,  0.6274, -0.5956],\n",
      "       device='cuda:0', grad_fn=<SumBackward1>)\n",
      "true_labels_converted: tensor([1., 1., 1.,  ..., 0., 0., 0.], device='cuda:0')\n",
      "loss: 0.463269978761673\n",
      "Epoch: 109, Train: 0.9547, Val: 0.8966, Test: 0.8870, Loss: 0.463269978761673\n",
      "pred: tensor([ 2.9214,  0.4877,  1.2687,  ...,  0.4274, -0.1657,  0.3642],\n",
      "       device='cuda:0', grad_fn=<SumBackward1>)\n",
      "true_labels_converted: tensor([1., 1., 1.,  ..., 0., 0., 0.], device='cuda:0')\n",
      "loss: 0.46040499210357666\n",
      "Epoch: 110, Train: 0.9528, Val: 0.9063, Test: 0.8834, Loss: 0.46040499210357666\n",
      "pred: tensor([ 3.7952,  0.7299,  1.6723,  ...,  0.1229,  0.2940, -1.3620],\n",
      "       device='cuda:0', grad_fn=<SumBackward1>)\n",
      "true_labels_converted: tensor([1., 1., 1.,  ..., 0., 0., 0.], device='cuda:0')\n",
      "loss: 0.455041766166687\n",
      "Epoch: 111, Train: 0.9571, Val: 0.9024, Test: 0.8896, Loss: 0.455041766166687\n",
      "pred: tensor([ 3.2143,  0.5164,  1.6778,  ...,  0.4578, -0.2297, -1.6671],\n",
      "       device='cuda:0', grad_fn=<SumBackward1>)\n",
      "true_labels_converted: tensor([1., 1., 1.,  ..., 0., 0., 0.], device='cuda:0')\n",
      "loss: 0.45877864956855774\n",
      "Epoch: 112, Train: 0.9622, Val: 0.9022, Test: 0.8880, Loss: 0.45877864956855774\n",
      "pred: tensor([ 2.8528,  0.5926,  1.0421,  ..., -0.0262,  0.1937, -0.6926],\n",
      "       device='cuda:0', grad_fn=<SumBackward1>)\n",
      "true_labels_converted: tensor([1., 1., 1.,  ..., 0., 0., 0.], device='cuda:0')\n",
      "loss: 0.45405325293540955\n",
      "Epoch: 113, Train: 0.9551, Val: 0.9007, Test: 0.8910, Loss: 0.45405325293540955\n",
      "pred: tensor([ 3.8852,  0.4451,  1.6954,  ...,  0.6582, -1.2238,  0.4557],\n",
      "       device='cuda:0', grad_fn=<SumBackward1>)\n",
      "true_labels_converted: tensor([1., 1., 1.,  ..., 0., 0., 0.], device='cuda:0')\n",
      "loss: 0.4503418505191803\n",
      "Epoch: 114, Train: 0.9614, Val: 0.9066, Test: 0.8906, Loss: 0.4503418505191803\n",
      "pred: tensor([ 2.8423,  0.7556,  1.8371,  ..., -0.5524, -1.2153,  2.6558],\n",
      "       device='cuda:0', grad_fn=<SumBackward1>)\n",
      "true_labels_converted: tensor([1., 1., 1.,  ..., 0., 0., 0.], device='cuda:0')\n",
      "loss: 0.4661310613155365\n",
      "Epoch: 115, Train: 0.9605, Val: 0.9100, Test: 0.8892, Loss: 0.4661310613155365\n",
      "pred: tensor([ 4.0612,  0.6314,  1.5538,  ..., -0.2458, -0.9201,  0.3269],\n",
      "       device='cuda:0', grad_fn=<SumBackward1>)\n",
      "true_labels_converted: tensor([1., 1., 1.,  ..., 0., 0., 0.], device='cuda:0')\n",
      "loss: 0.4618527591228485\n",
      "Epoch: 116, Train: 0.9628, Val: 0.9021, Test: 0.8894, Loss: 0.4618527591228485\n",
      "pred: tensor([ 3.7402,  0.7208,  1.5759,  ...,  0.0430, -0.3664,  0.6870],\n",
      "       device='cuda:0', grad_fn=<SumBackward1>)\n",
      "true_labels_converted: tensor([1., 1., 1.,  ..., 0., 0., 0.], device='cuda:0')\n",
      "loss: 0.45388224720954895\n",
      "Epoch: 117, Train: 0.9621, Val: 0.8985, Test: 0.8886, Loss: 0.45388224720954895\n",
      "pred: tensor([3.0442, 0.6680, 1.7397,  ..., 0.6980, 1.2560, 0.7833], device='cuda:0',\n",
      "       grad_fn=<SumBackward1>)\n",
      "true_labels_converted: tensor([1., 1., 1.,  ..., 0., 0., 0.], device='cuda:0')\n",
      "loss: 0.46117696166038513\n",
      "Epoch: 118, Train: 0.9632, Val: 0.9101, Test: 0.8892, Loss: 0.46117696166038513\n",
      "pred: tensor([ 3.7882,  0.7432,  2.2420,  ..., -0.9792, -0.1808, -0.2852],\n",
      "       device='cuda:0', grad_fn=<SumBackward1>)\n",
      "true_labels_converted: tensor([1., 1., 1.,  ..., 0., 0., 0.], device='cuda:0')\n",
      "loss: 0.4503805637359619\n",
      "Epoch: 119, Train: 0.9614, Val: 0.9066, Test: 0.8920, Loss: 0.4503805637359619\n",
      "pred: tensor([ 3.0086,  0.4976,  1.9804,  ...,  0.2809, -0.6370,  1.1371],\n",
      "       device='cuda:0', grad_fn=<SumBackward1>)\n",
      "true_labels_converted: tensor([1., 1., 1.,  ..., 0., 0., 0.], device='cuda:0')\n",
      "loss: 0.4581168591976166\n",
      "Epoch: 120, Train: 0.9638, Val: 0.9067, Test: 0.8924, Loss: 0.4581168591976166\n",
      "pred: tensor([ 2.7200,  0.6891,  1.9520,  ...,  0.5604,  1.5570, -0.0141],\n",
      "       device='cuda:0', grad_fn=<SumBackward1>)\n",
      "true_labels_converted: tensor([1., 1., 1.,  ..., 0., 0., 0.], device='cuda:0')\n",
      "loss: 0.45228198170661926\n",
      "Epoch: 121, Train: 0.9650, Val: 0.9024, Test: 0.8947, Loss: 0.45228198170661926\n",
      "pred: tensor([ 4.4380,  0.5888,  1.9835,  ...,  0.1731, -2.9190, -1.3784],\n",
      "       device='cuda:0', grad_fn=<SumBackward1>)\n",
      "true_labels_converted: tensor([1., 1., 1.,  ..., 0., 0., 0.], device='cuda:0')\n",
      "loss: 0.4489741325378418\n",
      "Epoch: 122, Train: 0.9619, Val: 0.9047, Test: 0.8877, Loss: 0.4489741325378418\n",
      "pred: tensor([ 4.0854,  0.7884,  2.0648,  ..., -0.1138, -0.8148, -0.7341],\n",
      "       device='cuda:0', grad_fn=<SumBackward1>)\n",
      "true_labels_converted: tensor([1., 1., 1.,  ..., 0., 0., 0.], device='cuda:0')\n",
      "loss: 0.4482455253601074\n",
      "Epoch: 123, Train: 0.9626, Val: 0.9048, Test: 0.8902, Loss: 0.4482455253601074\n",
      "pred: tensor([ 4.7246,  0.6370,  1.6191,  ..., -0.2301, -1.2825, -0.7607],\n",
      "       device='cuda:0', grad_fn=<SumBackward1>)\n",
      "true_labels_converted: tensor([1., 1., 1.,  ..., 0., 0., 0.], device='cuda:0')\n",
      "loss: 0.44541114568710327\n",
      "Epoch: 124, Train: 0.9638, Val: 0.9010, Test: 0.8915, Loss: 0.44541114568710327\n",
      "pred: tensor([ 3.8506,  0.5999,  1.4467,  ..., -0.0923,  0.2932,  0.4662],\n",
      "       device='cuda:0', grad_fn=<SumBackward1>)\n",
      "true_labels_converted: tensor([1., 1., 1.,  ..., 0., 0., 0.], device='cuda:0')\n",
      "loss: 0.4466874599456787\n",
      "Epoch: 125, Train: 0.9630, Val: 0.9007, Test: 0.8884, Loss: 0.4466874599456787\n",
      "pred: tensor([ 3.1346,  0.7010,  1.9865,  ...,  0.6294, -0.3124,  0.1069],\n",
      "       device='cuda:0', grad_fn=<SumBackward1>)\n",
      "true_labels_converted: tensor([1., 1., 1.,  ..., 0., 0., 0.], device='cuda:0')\n",
      "loss: 0.4494841992855072\n",
      "Epoch: 126, Train: 0.9652, Val: 0.8991, Test: 0.8933, Loss: 0.4494841992855072\n",
      "pred: tensor([ 3.5864,  0.6127,  2.1482,  ..., -0.0769,  0.0465,  0.5087],\n",
      "       device='cuda:0', grad_fn=<SumBackward1>)\n",
      "true_labels_converted: tensor([1., 1., 1.,  ..., 0., 0., 0.], device='cuda:0')\n",
      "loss: 0.465958833694458\n",
      "Epoch: 127, Train: 0.9732, Val: 0.9082, Test: 0.8946, Loss: 0.465958833694458\n",
      "pred: tensor([ 3.9933,  0.6778,  2.6165,  ..., -1.0000, -0.4110,  0.0946],\n",
      "       device='cuda:0', grad_fn=<SumBackward1>)\n",
      "true_labels_converted: tensor([1., 1., 1.,  ..., 0., 0., 0.], device='cuda:0')\n",
      "loss: 0.4480734169483185\n",
      "Epoch: 128, Train: 0.9662, Val: 0.9039, Test: 0.8918, Loss: 0.4480734169483185\n",
      "pred: tensor([ 3.7272,  0.8855,  2.7619,  ...,  0.4448,  0.2250, -0.4249],\n",
      "       device='cuda:0', grad_fn=<SumBackward1>)\n",
      "true_labels_converted: tensor([1., 1., 1.,  ..., 0., 0., 0.], device='cuda:0')\n",
      "loss: 0.45252281427383423\n",
      "Epoch: 129, Train: 0.9669, Val: 0.9063, Test: 0.8942, Loss: 0.45252281427383423\n",
      "pred: tensor([4.4946, 0.6121, 2.0029,  ..., 0.4814, 0.0457, 1.0981], device='cuda:0',\n",
      "       grad_fn=<SumBackward1>)\n",
      "true_labels_converted: tensor([1., 1., 1.,  ..., 0., 0., 0.], device='cuda:0')\n",
      "loss: 0.4424338638782501\n",
      "Epoch: 130, Train: 0.9712, Val: 0.9038, Test: 0.8865, Loss: 0.4424338638782501\n",
      "pred: tensor([ 4.0614,  0.6074,  1.9207,  ..., -0.7275,  1.7715,  0.0580],\n",
      "       device='cuda:0', grad_fn=<SumBackward1>)\n",
      "true_labels_converted: tensor([1., 1., 1.,  ..., 0., 0., 0.], device='cuda:0')\n",
      "loss: 0.44302964210510254\n",
      "Epoch: 131, Train: 0.9667, Val: 0.9135, Test: 0.8938, Loss: 0.44302964210510254\n",
      "pred: tensor([ 3.4197,  0.6316,  1.7318,  ..., -0.2065, -0.5080, -0.0499],\n",
      "       device='cuda:0', grad_fn=<SumBackward1>)\n",
      "true_labels_converted: tensor([1., 1., 1.,  ..., 0., 0., 0.], device='cuda:0')\n",
      "loss: 0.45370855927467346\n",
      "Epoch: 132, Train: 0.9678, Val: 0.9076, Test: 0.8929, Loss: 0.45370855927467346\n",
      "pred: tensor([ 3.8351,  0.7624,  1.9452,  ...,  0.2121, -0.6148,  1.2019],\n",
      "       device='cuda:0', grad_fn=<SumBackward1>)\n",
      "true_labels_converted: tensor([1., 1., 1.,  ..., 0., 0., 0.], device='cuda:0')\n",
      "loss: 0.45471447706222534\n",
      "Epoch: 133, Train: 0.9685, Val: 0.9044, Test: 0.8889, Loss: 0.45471447706222534\n",
      "pred: tensor([ 2.7967,  0.8906,  1.6646,  ...,  1.8912, -0.3791,  3.1538],\n",
      "       device='cuda:0', grad_fn=<SumBackward1>)\n",
      "true_labels_converted: tensor([1., 1., 1.,  ..., 0., 0., 0.], device='cuda:0')\n",
      "loss: 0.4628230035305023\n",
      "Epoch: 134, Train: 0.9742, Val: 0.9076, Test: 0.8912, Loss: 0.4628230035305023\n",
      "pred: tensor([ 3.6490e+00,  8.2868e-01,  1.9422e+00,  ..., -1.1849e+00,\n",
      "         2.4631e+00,  5.1507e-04], device='cuda:0', grad_fn=<SumBackward1>)\n",
      "true_labels_converted: tensor([1., 1., 1.,  ..., 0., 0., 0.], device='cuda:0')\n",
      "loss: 0.44421109557151794\n",
      "Epoch: 135, Train: 0.9688, Val: 0.9037, Test: 0.8941, Loss: 0.44421109557151794\n",
      "pred: tensor([ 4.0548,  0.8615,  1.6508,  ...,  0.6350, -0.0943, -0.1908],\n",
      "       device='cuda:0', grad_fn=<SumBackward1>)\n",
      "true_labels_converted: tensor([1., 1., 1.,  ..., 0., 0., 0.], device='cuda:0')\n",
      "loss: 0.4574560523033142\n",
      "Epoch: 136, Train: 0.9717, Val: 0.9040, Test: 0.8919, Loss: 0.4574560523033142\n",
      "pred: tensor([ 3.5426,  0.4185,  2.4593,  ..., -0.8918,  0.0263, -0.1978],\n",
      "       device='cuda:0', grad_fn=<SumBackward1>)\n",
      "true_labels_converted: tensor([1., 1., 1.,  ..., 0., 0., 0.], device='cuda:0')\n",
      "loss: 0.45294511318206787\n",
      "Epoch: 137, Train: 0.9705, Val: 0.9035, Test: 0.8971, Loss: 0.45294511318206787\n",
      "pred: tensor([ 4.1072,  0.5669,  2.2354,  ...,  0.5576, -0.0665, -1.3832],\n",
      "       device='cuda:0', grad_fn=<SumBackward1>)\n",
      "true_labels_converted: tensor([1., 1., 1.,  ..., 0., 0., 0.], device='cuda:0')\n",
      "loss: 0.45191916823387146\n",
      "Epoch: 138, Train: 0.9739, Val: 0.9105, Test: 0.8927, Loss: 0.45191916823387146\n",
      "pred: tensor([ 4.2377,  0.6327,  2.3673,  ..., -0.3890, -1.0706,  0.1994],\n",
      "       device='cuda:0', grad_fn=<SumBackward1>)\n",
      "true_labels_converted: tensor([1., 1., 1.,  ..., 0., 0., 0.], device='cuda:0')\n",
      "loss: 0.4558577537536621\n",
      "Epoch: 139, Train: 0.9731, Val: 0.8984, Test: 0.8945, Loss: 0.4558577537536621\n",
      "pred: tensor([ 4.6773,  0.7603,  2.7944,  ..., -0.4643, -0.2098, -0.2443],\n",
      "       device='cuda:0', grad_fn=<SumBackward1>)\n",
      "true_labels_converted: tensor([1., 1., 1.,  ..., 0., 0., 0.], device='cuda:0')\n",
      "loss: 0.438212513923645\n",
      "Epoch: 140, Train: 0.9752, Val: 0.9049, Test: 0.8897, Loss: 0.438212513923645\n",
      "pred: tensor([ 2.6883,  0.9507,  2.7555,  ..., -0.2143,  0.4785,  1.6409],\n",
      "       device='cuda:0', grad_fn=<SumBackward1>)\n",
      "true_labels_converted: tensor([1., 1., 1.,  ..., 0., 0., 0.], device='cuda:0')\n",
      "loss: 0.4449242055416107\n",
      "Epoch: 141, Train: 0.9694, Val: 0.9053, Test: 0.8934, Loss: 0.4449242055416107\n",
      "pred: tensor([ 3.0980,  0.6461,  2.5950,  ..., -0.7462,  0.1974, -0.1489],\n",
      "       device='cuda:0', grad_fn=<SumBackward1>)\n",
      "true_labels_converted: tensor([1., 1., 1.,  ..., 0., 0., 0.], device='cuda:0')\n",
      "loss: 0.4427969455718994\n",
      "Epoch: 142, Train: 0.9700, Val: 0.9051, Test: 0.8913, Loss: 0.4427969455718994\n",
      "pred: tensor([ 2.0416,  0.8636,  2.1446,  ..., -0.6232,  0.4542, -0.4542],\n",
      "       device='cuda:0', grad_fn=<SumBackward1>)\n",
      "true_labels_converted: tensor([1., 1., 1.,  ..., 0., 0., 0.], device='cuda:0')\n",
      "loss: 0.44382673501968384\n",
      "Epoch: 143, Train: 0.9736, Val: 0.9054, Test: 0.8958, Loss: 0.44382673501968384\n",
      "pred: tensor([ 3.6145,  0.8928,  2.1824,  ..., -0.7552,  0.5029,  0.1761],\n",
      "       device='cuda:0', grad_fn=<SumBackward1>)\n",
      "true_labels_converted: tensor([1., 1., 1.,  ..., 0., 0., 0.], device='cuda:0')\n",
      "loss: 0.44043779373168945\n",
      "Epoch: 144, Train: 0.9740, Val: 0.9009, Test: 0.8936, Loss: 0.44043779373168945\n",
      "pred: tensor([ 3.9286,  0.8975,  2.7236,  ...,  0.1660, -0.4233, -0.0527],\n",
      "       device='cuda:0', grad_fn=<SumBackward1>)\n",
      "true_labels_converted: tensor([1., 1., 1.,  ..., 0., 0., 0.], device='cuda:0')\n",
      "loss: 0.42838844656944275\n",
      "Epoch: 145, Train: 0.9750, Val: 0.9060, Test: 0.8940, Loss: 0.42838844656944275\n",
      "pred: tensor([ 3.2868,  0.9400,  1.7052,  ...,  5.5419, -0.4299,  0.4799],\n",
      "       device='cuda:0', grad_fn=<SumBackward1>)\n",
      "true_labels_converted: tensor([1., 1., 1.,  ..., 0., 0., 0.], device='cuda:0')\n",
      "loss: 0.4375535845756531\n",
      "Epoch: 146, Train: 0.9726, Val: 0.9056, Test: 0.8984, Loss: 0.4375535845756531\n",
      "pred: tensor([ 4.6944,  1.1648,  2.2838,  ..., -0.5114, -0.4372, -0.1510],\n",
      "       device='cuda:0', grad_fn=<SumBackward1>)\n",
      "true_labels_converted: tensor([1., 1., 1.,  ..., 0., 0., 0.], device='cuda:0')\n",
      "loss: 0.4387786388397217\n",
      "Epoch: 147, Train: 0.9725, Val: 0.9065, Test: 0.8931, Loss: 0.4387786388397217\n",
      "pred: tensor([ 3.9742,  0.8671,  2.3119,  ..., -0.4640,  0.1883, -1.6832],\n",
      "       device='cuda:0', grad_fn=<SumBackward1>)\n",
      "true_labels_converted: tensor([1., 1., 1.,  ..., 0., 0., 0.], device='cuda:0')\n",
      "loss: 0.44195833802223206\n",
      "Epoch: 148, Train: 0.9744, Val: 0.8994, Test: 0.8902, Loss: 0.44195833802223206\n",
      "pred: tensor([ 4.1414,  0.7213,  1.7933,  ..., -0.2371, -0.5626,  1.7556],\n",
      "       device='cuda:0', grad_fn=<SumBackward1>)\n",
      "true_labels_converted: tensor([1., 1., 1.,  ..., 0., 0., 0.], device='cuda:0')\n",
      "loss: 0.4465155303478241\n",
      "Epoch: 149, Train: 0.9731, Val: 0.9109, Test: 0.8972, Loss: 0.4465155303478241\n",
      "pred: tensor([ 3.6226,  0.9540,  1.9969,  ...,  1.4492, -0.1551,  1.2898],\n",
      "       device='cuda:0', grad_fn=<SumBackward1>)\n",
      "true_labels_converted: tensor([1., 1., 1.,  ..., 0., 0., 0.], device='cuda:0')\n",
      "loss: 0.43894556164741516\n",
      "Epoch: 150, Train: 0.9723, Val: 0.9044, Test: 0.8935, Loss: 0.43894556164741516\n",
      "pred: tensor([ 3.4915,  1.0302,  2.7080,  ...,  0.3582,  0.3600, -0.3333],\n",
      "       device='cuda:0', grad_fn=<SumBackward1>)\n",
      "true_labels_converted: tensor([1., 1., 1.,  ..., 0., 0., 0.], device='cuda:0')\n",
      "loss: 0.4498724639415741\n",
      "Epoch: 151, Train: 0.9794, Val: 0.9062, Test: 0.8932, Loss: 0.4498724639415741\n",
      "pred: tensor([ 4.2415,  0.5082,  2.6089,  ...,  0.6371, -0.4211,  0.0314],\n",
      "       device='cuda:0', grad_fn=<SumBackward1>)\n",
      "true_labels_converted: tensor([1., 1., 1.,  ..., 0., 0., 0.], device='cuda:0')\n",
      "loss: 0.43590715527534485\n",
      "Epoch: 152, Train: 0.9794, Val: 0.9084, Test: 0.8875, Loss: 0.43590715527534485\n",
      "pred: tensor([ 2.9130,  0.6226,  2.5646,  ..., -0.3592,  0.7223, -0.2033],\n",
      "       device='cuda:0', grad_fn=<SumBackward1>)\n",
      "true_labels_converted: tensor([1., 1., 1.,  ..., 0., 0., 0.], device='cuda:0')\n",
      "loss: 0.44386228919029236\n",
      "Epoch: 153, Train: 0.9725, Val: 0.9020, Test: 0.8914, Loss: 0.44386228919029236\n",
      "pred: tensor([ 4.2582,  1.0825,  1.9210,  ..., -1.4830, -0.2138, -0.7983],\n",
      "       device='cuda:0', grad_fn=<SumBackward1>)\n",
      "true_labels_converted: tensor([1., 1., 1.,  ..., 0., 0., 0.], device='cuda:0')\n",
      "loss: 0.4426748752593994\n",
      "Epoch: 154, Train: 0.9777, Val: 0.8986, Test: 0.8962, Loss: 0.4426748752593994\n",
      "pred: tensor([ 4.3916,  0.9453,  2.2439,  ..., -0.6410,  0.5778, -0.4917],\n",
      "       device='cuda:0', grad_fn=<SumBackward1>)\n",
      "true_labels_converted: tensor([1., 1., 1.,  ..., 0., 0., 0.], device='cuda:0')\n",
      "loss: 0.4323510527610779\n",
      "Epoch: 155, Train: 0.9769, Val: 0.9041, Test: 0.8954, Loss: 0.4323510527610779\n",
      "pred: tensor([ 4.9059,  0.7514,  2.0135,  ..., -0.2028,  0.3734, -0.7163],\n",
      "       device='cuda:0', grad_fn=<SumBackward1>)\n",
      "true_labels_converted: tensor([1., 1., 1.,  ..., 0., 0., 0.], device='cuda:0')\n",
      "loss: 0.43454432487487793\n",
      "Epoch: 156, Train: 0.9740, Val: 0.9034, Test: 0.8973, Loss: 0.43454432487487793\n",
      "pred: tensor([ 4.0673,  1.3066,  2.3973,  ...,  1.0953, -0.5859,  0.1605],\n",
      "       device='cuda:0', grad_fn=<SumBackward1>)\n",
      "true_labels_converted: tensor([1., 1., 1.,  ..., 0., 0., 0.], device='cuda:0')\n",
      "loss: 0.43696898221969604\n",
      "Epoch: 157, Train: 0.9746, Val: 0.9033, Test: 0.8879, Loss: 0.43696898221969604\n",
      "pred: tensor([4.1370e+00, 8.7377e-01, 2.5764e+00,  ..., 3.9006e-01, 3.1844e-01,\n",
      "        1.0542e-03], device='cuda:0', grad_fn=<SumBackward1>)\n",
      "true_labels_converted: tensor([1., 1., 1.,  ..., 0., 0., 0.], device='cuda:0')\n",
      "loss: 0.438937246799469\n",
      "Epoch: 158, Train: 0.9784, Val: 0.9007, Test: 0.8923, Loss: 0.438937246799469\n",
      "pred: tensor([ 3.9379,  1.0651,  2.6016,  ..., -0.0367, -0.8559,  0.7981],\n",
      "       device='cuda:0', grad_fn=<SumBackward1>)\n",
      "true_labels_converted: tensor([1., 1., 1.,  ..., 0., 0., 0.], device='cuda:0')\n",
      "loss: 0.4442543685436249\n",
      "Epoch: 159, Train: 0.9776, Val: 0.9064, Test: 0.8909, Loss: 0.4442543685436249\n",
      "pred: tensor([3.9798, 1.0560, 2.2666,  ..., 0.1115, 0.5542, 0.4578], device='cuda:0',\n",
      "       grad_fn=<SumBackward1>)\n",
      "true_labels_converted: tensor([1., 1., 1.,  ..., 0., 0., 0.], device='cuda:0')\n",
      "loss: 0.4433650076389313\n",
      "Epoch: 160, Train: 0.9734, Val: 0.8989, Test: 0.8941, Loss: 0.4433650076389313\n",
      "pred: tensor([ 3.8116,  0.7747,  2.4775,  ..., -1.3577,  0.4266,  0.3965],\n",
      "       device='cuda:0', grad_fn=<SumBackward1>)\n",
      "true_labels_converted: tensor([1., 1., 1.,  ..., 0., 0., 0.], device='cuda:0')\n",
      "loss: 0.4382708668708801\n",
      "Epoch: 161, Train: 0.9811, Val: 0.8994, Test: 0.8954, Loss: 0.4382708668708801\n",
      "pred: tensor([3.5673, 1.0630, 2.3131,  ..., 0.2947, 0.2356, 0.5510], device='cuda:0',\n",
      "       grad_fn=<SumBackward1>)\n",
      "true_labels_converted: tensor([1., 1., 1.,  ..., 0., 0., 0.], device='cuda:0')\n",
      "loss: 0.43581146001815796\n",
      "Epoch: 162, Train: 0.9780, Val: 0.9009, Test: 0.8955, Loss: 0.43581146001815796\n",
      "pred: tensor([ 3.7096,  0.8784,  1.6304,  ..., -0.8489, -0.8893,  0.1102],\n",
      "       device='cuda:0', grad_fn=<SumBackward1>)\n",
      "true_labels_converted: tensor([1., 1., 1.,  ..., 0., 0., 0.], device='cuda:0')\n",
      "loss: 0.4302060306072235\n",
      "Epoch: 163, Train: 0.9816, Val: 0.9077, Test: 0.8963, Loss: 0.4302060306072235\n",
      "pred: tensor([4.2962, 1.0464, 2.4628,  ..., 1.0355, 0.1490, 0.5334], device='cuda:0',\n",
      "       grad_fn=<SumBackward1>)\n",
      "true_labels_converted: tensor([1., 1., 1.,  ..., 0., 0., 0.], device='cuda:0')\n",
      "loss: 0.42615413665771484\n",
      "Epoch: 164, Train: 0.9783, Val: 0.9098, Test: 0.8910, Loss: 0.42615413665771484\n",
      "pred: tensor([ 4.8286,  1.2206,  2.4861,  ...,  1.6616,  0.7794, -0.3089],\n",
      "       device='cuda:0', grad_fn=<SumBackward1>)\n",
      "true_labels_converted: tensor([1., 1., 1.,  ..., 0., 0., 0.], device='cuda:0')\n",
      "loss: 0.4374633729457855\n",
      "Epoch: 165, Train: 0.9803, Val: 0.9079, Test: 0.8869, Loss: 0.4374633729457855\n",
      "pred: tensor([ 3.5571,  0.8296,  2.5376,  ...,  0.5571, -0.2552, -0.0729],\n",
      "       device='cuda:0', grad_fn=<SumBackward1>)\n",
      "true_labels_converted: tensor([1., 1., 1.,  ..., 0., 0., 0.], device='cuda:0')\n",
      "loss: 0.4308393597602844\n",
      "Epoch: 166, Train: 0.9772, Val: 0.9074, Test: 0.8871, Loss: 0.4308393597602844\n",
      "pred: tensor([ 3.9353,  0.8462,  2.0736,  ...,  0.2958, -0.7345,  0.2536],\n",
      "       device='cuda:0', grad_fn=<SumBackward1>)\n",
      "true_labels_converted: tensor([1., 1., 1.,  ..., 0., 0., 0.], device='cuda:0')\n",
      "loss: 0.43727150559425354\n",
      "Epoch: 167, Train: 0.9792, Val: 0.9063, Test: 0.8917, Loss: 0.43727150559425354\n",
      "pred: tensor([ 2.4156,  1.0018,  2.6932,  ..., -0.2320,  0.2119,  0.1311],\n",
      "       device='cuda:0', grad_fn=<SumBackward1>)\n",
      "true_labels_converted: tensor([1., 1., 1.,  ..., 0., 0., 0.], device='cuda:0')\n",
      "loss: 0.43783801794052124\n",
      "Epoch: 168, Train: 0.9792, Val: 0.8998, Test: 0.8913, Loss: 0.43783801794052124\n",
      "pred: tensor([ 4.7649,  0.8514,  2.2891,  ..., -0.4722, -0.4998,  0.7562],\n",
      "       device='cuda:0', grad_fn=<SumBackward1>)\n",
      "true_labels_converted: tensor([1., 1., 1.,  ..., 0., 0., 0.], device='cuda:0')\n",
      "loss: 0.431022047996521\n",
      "Epoch: 169, Train: 0.9792, Val: 0.9056, Test: 0.8896, Loss: 0.431022047996521\n",
      "pred: tensor([ 4.7749,  0.5664,  2.8751,  ..., -0.3921,  0.2482,  1.9438],\n",
      "       device='cuda:0', grad_fn=<SumBackward1>)\n",
      "true_labels_converted: tensor([1., 1., 1.,  ..., 0., 0., 0.], device='cuda:0')\n",
      "loss: 0.4333760738372803\n",
      "Epoch: 170, Train: 0.9800, Val: 0.9013, Test: 0.8919, Loss: 0.4333760738372803\n",
      "pred: tensor([ 3.7235,  0.6197,  2.7966,  ..., -1.1108,  0.4048, -0.1020],\n",
      "       device='cuda:0', grad_fn=<SumBackward1>)\n",
      "true_labels_converted: tensor([1., 1., 1.,  ..., 0., 0., 0.], device='cuda:0')\n",
      "loss: 0.4378634989261627\n",
      "Epoch: 171, Train: 0.9799, Val: 0.9022, Test: 0.8930, Loss: 0.4378634989261627\n",
      "pred: tensor([ 2.7801,  1.2690,  1.6988,  ...,  1.5855, -0.2439,  0.2140],\n",
      "       device='cuda:0', grad_fn=<SumBackward1>)\n",
      "true_labels_converted: tensor([1., 1., 1.,  ..., 0., 0., 0.], device='cuda:0')\n",
      "loss: 0.4242018461227417\n",
      "Epoch: 172, Train: 0.9809, Val: 0.8960, Test: 0.8898, Loss: 0.4242018461227417\n",
      "pred: tensor([ 4.7194,  0.9771,  2.3384,  ...,  0.2888, -0.2184, -0.4195],\n",
      "       device='cuda:0', grad_fn=<SumBackward1>)\n",
      "true_labels_converted: tensor([1., 1., 1.,  ..., 0., 0., 0.], device='cuda:0')\n",
      "loss: 0.4339034855365753\n",
      "Epoch: 173, Train: 0.9774, Val: 0.9073, Test: 0.8853, Loss: 0.4339034855365753\n",
      "pred: tensor([ 3.8407,  1.0675,  2.4108,  ...,  0.3521, -1.0065, -0.4062],\n",
      "       device='cuda:0', grad_fn=<SumBackward1>)\n",
      "true_labels_converted: tensor([1., 1., 1.,  ..., 0., 0., 0.], device='cuda:0')\n",
      "loss: 0.4275255799293518\n",
      "Epoch: 174, Train: 0.9806, Val: 0.8994, Test: 0.8907, Loss: 0.4275255799293518\n",
      "pred: tensor([ 3.5336,  1.1622,  2.6214,  ..., -1.0085, -0.3670, -1.2568],\n",
      "       device='cuda:0', grad_fn=<SumBackward1>)\n",
      "true_labels_converted: tensor([1., 1., 1.,  ..., 0., 0., 0.], device='cuda:0')\n",
      "loss: 0.42970022559165955\n",
      "Epoch: 175, Train: 0.9825, Val: 0.9064, Test: 0.8927, Loss: 0.42970022559165955\n",
      "pred: tensor([3.9281, 1.0036, 2.1843,  ..., 0.5911, 0.1796, 0.2335], device='cuda:0',\n",
      "       grad_fn=<SumBackward1>)\n",
      "true_labels_converted: tensor([1., 1., 1.,  ..., 0., 0., 0.], device='cuda:0')\n",
      "loss: 0.4355563819408417\n",
      "Epoch: 176, Train: 0.9801, Val: 0.9033, Test: 0.8924, Loss: 0.4355563819408417\n",
      "pred: tensor([ 3.3889,  0.9693,  2.7243,  ...,  0.1892, -0.4199, -0.7077],\n",
      "       device='cuda:0', grad_fn=<SumBackward1>)\n",
      "true_labels_converted: tensor([1., 1., 1.,  ..., 0., 0., 0.], device='cuda:0')\n",
      "loss: 0.42905887961387634\n",
      "Epoch: 177, Train: 0.9814, Val: 0.9008, Test: 0.8910, Loss: 0.42905887961387634\n",
      "pred: tensor([ 4.6205,  1.1474,  2.9749,  ...,  0.2183, -0.3962,  2.8480],\n",
      "       device='cuda:0', grad_fn=<SumBackward1>)\n",
      "true_labels_converted: tensor([1., 1., 1.,  ..., 0., 0., 0.], device='cuda:0')\n",
      "loss: 0.4300508201122284\n",
      "Epoch: 178, Train: 0.9778, Val: 0.9037, Test: 0.8992, Loss: 0.4300508201122284\n",
      "pred: tensor([ 3.7332,  0.7707,  2.6950,  ..., -0.1498,  1.4445, -0.6570],\n",
      "       device='cuda:0', grad_fn=<SumBackward1>)\n",
      "true_labels_converted: tensor([1., 1., 1.,  ..., 0., 0., 0.], device='cuda:0')\n",
      "loss: 0.4404096305370331\n",
      "Epoch: 179, Train: 0.9818, Val: 0.9037, Test: 0.8912, Loss: 0.4404096305370331\n",
      "pred: tensor([ 3.9151,  1.0851,  2.6698,  ...,  1.8530, -1.3501,  0.2630],\n",
      "       device='cuda:0', grad_fn=<SumBackward1>)\n",
      "true_labels_converted: tensor([1., 1., 1.,  ..., 0., 0., 0.], device='cuda:0')\n",
      "loss: 0.43059584498405457\n",
      "Epoch: 180, Train: 0.9834, Val: 0.8985, Test: 0.8919, Loss: 0.43059584498405457\n",
      "pred: tensor([ 4.2362,  0.7888,  2.6998,  ..., -0.5860,  0.4300,  1.0344],\n",
      "       device='cuda:0', grad_fn=<SumBackward1>)\n",
      "true_labels_converted: tensor([1., 1., 1.,  ..., 0., 0., 0.], device='cuda:0')\n",
      "loss: 0.43345585465431213\n",
      "Epoch: 181, Train: 0.9844, Val: 0.8957, Test: 0.8922, Loss: 0.43345585465431213\n",
      "pred: tensor([ 4.9176,  1.3537,  2.8572,  ..., -0.1904,  0.2896,  1.6119],\n",
      "       device='cuda:0', grad_fn=<SumBackward1>)\n",
      "true_labels_converted: tensor([1., 1., 1.,  ..., 0., 0., 0.], device='cuda:0')\n",
      "loss: 0.42426565289497375\n",
      "Epoch: 182, Train: 0.9810, Val: 0.8996, Test: 0.8902, Loss: 0.42426565289497375\n",
      "pred: tensor([ 2.7798,  1.1167,  2.5482,  ..., -0.2114,  1.3812,  0.0460],\n",
      "       device='cuda:0', grad_fn=<SumBackward1>)\n",
      "true_labels_converted: tensor([1., 1., 1.,  ..., 0., 0., 0.], device='cuda:0')\n",
      "loss: 0.4305303692817688\n",
      "Epoch: 183, Train: 0.9820, Val: 0.9065, Test: 0.8927, Loss: 0.4305303692817688\n",
      "pred: tensor([ 3.8091,  0.8349,  2.5471,  ..., -0.0385,  0.1892,  1.1926],\n",
      "       device='cuda:0', grad_fn=<SumBackward1>)\n",
      "true_labels_converted: tensor([1., 1., 1.,  ..., 0., 0., 0.], device='cuda:0')\n",
      "loss: 0.4303682744503021\n",
      "Epoch: 184, Train: 0.9834, Val: 0.9066, Test: 0.8915, Loss: 0.4303682744503021\n",
      "pred: tensor([ 2.8845,  1.0931,  2.0713,  ..., -0.7845, -0.1332, -0.4433],\n",
      "       device='cuda:0', grad_fn=<SumBackward1>)\n",
      "true_labels_converted: tensor([1., 1., 1.,  ..., 0., 0., 0.], device='cuda:0')\n",
      "loss: 0.4188835024833679\n",
      "Epoch: 185, Train: 0.9855, Val: 0.9019, Test: 0.8918, Loss: 0.4188835024833679\n",
      "pred: tensor([ 3.9529,  1.1635,  2.6864,  ..., -0.7358,  0.4968,  2.0024],\n",
      "       device='cuda:0', grad_fn=<SumBackward1>)\n",
      "true_labels_converted: tensor([1., 1., 1.,  ..., 0., 0., 0.], device='cuda:0')\n",
      "loss: 0.42971715331077576\n",
      "Epoch: 186, Train: 0.9827, Val: 0.9010, Test: 0.8924, Loss: 0.42971715331077576\n",
      "pred: tensor([ 3.8170,  1.1127,  2.4995,  ..., -0.2952, -0.6889,  0.1382],\n",
      "       device='cuda:0', grad_fn=<SumBackward1>)\n",
      "true_labels_converted: tensor([1., 1., 1.,  ..., 0., 0., 0.], device='cuda:0')\n",
      "loss: 0.42852678894996643\n",
      "Epoch: 187, Train: 0.9827, Val: 0.9054, Test: 0.8912, Loss: 0.42852678894996643\n",
      "pred: tensor([ 3.9773,  0.8140,  2.3703,  ...,  0.6076,  0.1251, -0.3621],\n",
      "       device='cuda:0', grad_fn=<SumBackward1>)\n",
      "true_labels_converted: tensor([1., 1., 1.,  ..., 0., 0., 0.], device='cuda:0')\n",
      "loss: 0.42879781126976013\n",
      "Epoch: 188, Train: 0.9840, Val: 0.8993, Test: 0.8831, Loss: 0.42879781126976013\n",
      "pred: tensor([3.1862, 1.1552, 3.3621,  ..., 0.3426, 0.2741, 0.6855], device='cuda:0',\n",
      "       grad_fn=<SumBackward1>)\n",
      "true_labels_converted: tensor([1., 1., 1.,  ..., 0., 0., 0.], device='cuda:0')\n",
      "loss: 0.4252103865146637\n",
      "Epoch: 189, Train: 0.9864, Val: 0.9009, Test: 0.8850, Loss: 0.4252103865146637\n",
      "pred: tensor([ 3.6904,  0.7651,  3.0460,  ..., -0.0178,  0.3603,  1.6157],\n",
      "       device='cuda:0', grad_fn=<SumBackward1>)\n",
      "true_labels_converted: tensor([1., 1., 1.,  ..., 0., 0., 0.], device='cuda:0')\n",
      "loss: 0.4291606843471527\n",
      "Epoch: 190, Train: 0.9836, Val: 0.9008, Test: 0.8888, Loss: 0.4291606843471527\n",
      "pred: tensor([ 3.7737,  0.5965,  3.0010,  ..., -0.0192,  0.4648,  0.7386],\n",
      "       device='cuda:0', grad_fn=<SumBackward1>)\n",
      "true_labels_converted: tensor([1., 1., 1.,  ..., 0., 0., 0.], device='cuda:0')\n",
      "loss: 0.4247664213180542\n",
      "Epoch: 191, Train: 0.9858, Val: 0.8981, Test: 0.8905, Loss: 0.4247664213180542\n",
      "pred: tensor([ 2.3720,  1.3986,  3.2125,  ...,  1.4330,  0.0373, -0.1979],\n",
      "       device='cuda:0', grad_fn=<SumBackward1>)\n",
      "true_labels_converted: tensor([1., 1., 1.,  ..., 0., 0., 0.], device='cuda:0')\n",
      "loss: 0.4245477020740509\n",
      "Epoch: 192, Train: 0.9849, Val: 0.8996, Test: 0.8909, Loss: 0.4245477020740509\n",
      "pred: tensor([ 5.1130,  0.8761,  2.9989,  ...,  0.4991,  0.1711, -0.4349],\n",
      "       device='cuda:0', grad_fn=<SumBackward1>)\n",
      "true_labels_converted: tensor([1., 1., 1.,  ..., 0., 0., 0.], device='cuda:0')\n",
      "loss: 0.42873623967170715\n",
      "Epoch: 193, Train: 0.9850, Val: 0.9023, Test: 0.8879, Loss: 0.42873623967170715\n",
      "pred: tensor([4.0304, 0.8092, 2.9591,  ..., 0.8842, 0.2362, 0.2552], device='cuda:0',\n",
      "       grad_fn=<SumBackward1>)\n",
      "true_labels_converted: tensor([1., 1., 1.,  ..., 0., 0., 0.], device='cuda:0')\n",
      "loss: 0.4287116229534149\n",
      "Epoch: 194, Train: 0.9843, Val: 0.9007, Test: 0.8887, Loss: 0.4287116229534149\n",
      "pred: tensor([ 4.0725,  0.8825,  3.2283,  ..., -0.5872, -0.3402,  0.6426],\n",
      "       device='cuda:0', grad_fn=<SumBackward1>)\n",
      "true_labels_converted: tensor([1., 1., 1.,  ..., 0., 0., 0.], device='cuda:0')\n",
      "loss: 0.4253595173358917\n",
      "Epoch: 195, Train: 0.9851, Val: 0.8993, Test: 0.8912, Loss: 0.4253595173358917\n",
      "pred: tensor([ 3.1615,  1.2681,  3.2955,  ..., -0.7500,  0.1452,  0.3999],\n",
      "       device='cuda:0', grad_fn=<SumBackward1>)\n",
      "true_labels_converted: tensor([1., 1., 1.,  ..., 0., 0., 0.], device='cuda:0')\n",
      "loss: 0.43409642577171326\n",
      "Epoch: 196, Train: 0.9844, Val: 0.9017, Test: 0.8839, Loss: 0.43409642577171326\n",
      "pred: tensor([ 4.5597,  1.3049,  2.5699,  ...,  0.0732, -0.5511, -0.8436],\n",
      "       device='cuda:0', grad_fn=<SumBackward1>)\n",
      "true_labels_converted: tensor([1., 1., 1.,  ..., 0., 0., 0.], device='cuda:0')\n",
      "loss: 0.43137264251708984\n",
      "Epoch: 197, Train: 0.9842, Val: 0.9003, Test: 0.8903, Loss: 0.43137264251708984\n",
      "pred: tensor([ 3.7701,  1.3666,  3.3637,  ..., -0.1161,  3.2236, -0.6011],\n",
      "       device='cuda:0', grad_fn=<SumBackward1>)\n",
      "true_labels_converted: tensor([1., 1., 1.,  ..., 0., 0., 0.], device='cuda:0')\n",
      "loss: 0.4362933933734894\n",
      "Epoch: 198, Train: 0.9856, Val: 0.9053, Test: 0.8861, Loss: 0.4362933933734894\n",
      "pred: tensor([ 3.7536,  1.2694,  2.9897,  ..., -0.3835,  0.9773,  0.8531],\n",
      "       device='cuda:0', grad_fn=<SumBackward1>)\n",
      "true_labels_converted: tensor([1., 1., 1.,  ..., 0., 0., 0.], device='cuda:0')\n",
      "loss: 0.41947251558303833\n",
      "Epoch: 199, Train: 0.9850, Val: 0.9037, Test: 0.8929, Loss: 0.41947251558303833\n",
      "Saving Link Classification Model Predictions\n",
      "\n",
      "Best Model Accuraies Train: 0.9708, Val: 0.9023, Test: 0.8933\n"
     ]
    }
   ],
   "source": [
    "if 'IS_GRADESCOPE_ENV' not in os.environ:\n",
    "  pyg_dataset = Planetoid('./tmp/cora', 'Cora')\n",
    "  graphs = GraphDataset.pyg_to_graphs(pyg_dataset)\n",
    "\n",
    "  dataset = GraphDataset(\n",
    "          graphs,\n",
    "          task='link_pred',\n",
    "          edge_train_mode=\"disjoint\"\n",
    "      )\n",
    "  datasets = {}\n",
    "  datasets['train'], datasets['val'], datasets['test']= dataset.split(\n",
    "              transductive=True, split_ratio=[0.85, 0.05, 0.1])\n",
    "  input_dim = datasets['train'].num_node_features\n",
    "  num_classes = datasets['train'].num_edge_labels\n",
    "\n",
    "  model = LinkPredModel(input_dim, args[\"hidden_dim\"], num_classes).to(args[\"device\"])\n",
    "\n",
    "  # Disable compile as this does not seem to work yet in PyTorch 2.0.1/PyG 2.3.1\n",
    "  # try:\n",
    "  #   model = torch_geometric.compile(model)\n",
    "  #   print(f\"LinkPredModel Model compiled\")\n",
    "  # except Exception as err:\n",
    "  #   print(f\"Model compile not supported: {err}\")\n",
    "\n",
    "  model.reset_parameters()\n",
    "\n",
    "  optimizer = torch.optim.SGD(model.parameters(), lr=0.1, momentum=0.9, weight_decay=5e-4)\n",
    "\n",
    "  dataloaders = {split: DataLoader(\n",
    "              ds, collate_fn=Batch.collate([]),\n",
    "              batch_size=1, shuffle=(split=='train'))\n",
    "              for split, ds in datasets.items()}\n",
    "  best_model = train(model, dataloaders, optimizer, args)\n",
    "  log = \"Best Model Accuraies Train: {:.4f}, Val: {:.4f}, Test: {:.4f}\"\n",
    "  best_train_roc = test(best_model, dataloaders['train'], args)\n",
    "  best_val_roc = test(best_model, dataloaders['val'], args)\n",
    "  best_test_roc = test(best_model, dataloaders['test'], args, save_model_preds=True)\n",
    "  print(log.format(best_train_roc, best_val_roc, best_test_roc))"
   ]
  },
  {
   "cell_type": "markdown",
   "metadata": {
    "id": "j5brlsKElP0_"
   },
   "source": [
    "## Question 5: What is the maximum ROC-AUC score you get for your best_model on test set? (15 points)\n",
    "\n",
    "\n",
    "After training your model, download and submit your best model prediction file: *CORA-Link-Prediction.csv*.  \n",
    "\n",
    "As we have seen before you can view this file by clicking on the *Folder* icon on the left side pannel. "
   ]
  },
  {
   "cell_type": "markdown",
   "metadata": {
    "id": "e7JXsMTBgeOI"
   },
   "source": [
    "# Submission\n",
    "\n",
    "You will need to submit four files on Gradescope to complete this notebook. \n",
    "\n",
    "1.   Your completed *XCS224W_Colab3.ipynb*. From the \"File\" menu select \"Download .ipynb\" to save a local copy of your completed Colab. \n",
    "2.  *CORA-Node-GraphSage.csv* \n",
    "3.  *CORA-Node-GAT.csv*\n",
    "4.  *CORA-Link-Prediction.csv*\n",
    "\n",
    "Download the csv files by selecting the *Folder* icon on the left panel. \n",
    "\n",
    "To submit your work, zip the files downloaded in steps 1-4 above and submit to gradescope. **NOTE:** DO NOT rename any of the downloaded files. "
   ]
  }
 ],
 "metadata": {
  "accelerator": "GPU",
  "colab": {
   "machine_shape": "hm",
   "provenance": []
  },
  "kernelspec": {
   "display_name": "Python 3 (ipykernel)",
   "language": "python",
   "name": "python3"
  },
  "language_info": {
   "codemirror_mode": {
    "name": "ipython",
    "version": 3
   },
   "file_extension": ".py",
   "mimetype": "text/x-python",
   "name": "python",
   "nbconvert_exporter": "python",
   "pygments_lexer": "ipython3",
   "version": "3.10.12"
  },
  "vscode": {
   "interpreter": {
    "hash": "f924b1a48e95c8c2f8ccec074c3308df864242dc668404ff7f1c5b20503f9f26"
   }
  }
 },
 "nbformat": 4,
 "nbformat_minor": 4
}
